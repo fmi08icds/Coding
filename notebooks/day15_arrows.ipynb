{
 "cells": [
  {
   "cell_type": "markdown",
   "id": "d692f6b6",
   "metadata": {},
   "source": [
    "## Apache Arrow\n",
    "\n",
    "> Apache Arrow is a software development platform for building high performance applications that process and transport large data sets. It is designed to both improve the performance of analytical algorithms and the efficiency of moving data from one system or programming language to another.\n",
    ">\n",
    "> A critical component of Apache Arrow is its in-memory columnar format, a standardized, language-agnostic specification for representing structured, table-like datasets in-memory. This data format has a rich data type system (included nested and user-defined data types) designed to support the needs of analytic database systems, data frame libraries, and more.\n",
    "\n",
    "```{r echo=FALSE, out.width='40%', fig.align=\"center\"}\n",
    "knitr::include_graphics(\"imgs/arrow_cols.png\")\n",
    "```\n",
    "\n",
    "---\n",
    "\n",
    "## Language support\n",
    "\n",
    ".pull-left-narrow[\n",
    "Core implementations in:\n",
    "\n",
    "* C\n",
    "* C++\n",
    "* C#\n",
    "* go\n",
    "* Java\n",
    "* JavaScript\n",
    "* Julia\n",
    "* Rust\n",
    "* MATLAB\n",
    "* Python\n",
    "* R\n",
    "* Ruby\n",
    "]"
   ]
  },
  {
   "cell_type": "code",
   "execution_count": 1,
   "id": "d7364331",
   "metadata": {},
   "outputs": [],
   "source": [
    "import pyarrow as pa\n",
    "import pandas as pd \n",
    "import numpy as np \n",
    "import matplotlib.pyplot as plt \n",
    "import seaborn as sns "
   ]
  },
  {
   "cell_type": "markdown",
   "id": "2848aaec",
   "metadata": {},
   "source": [
    "The basic building blocks of Arrow are `array` and `table` objects, arrays are collections of data of a uniform type."
   ]
  },
  {
   "cell_type": "code",
   "execution_count": 2,
   "id": "dd367532",
   "metadata": {},
   "outputs": [
    {
     "data": {
      "text/plain": [
       "<pyarrow.lib.Int8Array object at 0x28327d000>\n",
       "[\n",
       "  1,\n",
       "  2,\n",
       "  3,\n",
       "  2\n",
       "]"
      ]
     },
     "execution_count": 2,
     "metadata": {},
     "output_type": "execute_result"
    }
   ],
   "source": [
    "num  = pa.array([1, 2, 3, 2], type=pa.int8())\n",
    "num"
   ]
  },
  {
   "cell_type": "code",
   "execution_count": 3,
   "id": "29543311",
   "metadata": {},
   "outputs": [
    {
     "data": {
      "text/plain": [
       "<pyarrow.lib.Int64Array object at 0x28327d300>\n",
       "[\n",
       "  2019,\n",
       "  2020,\n",
       "  2021,\n",
       "  2022\n",
       "]"
      ]
     },
     "execution_count": 3,
     "metadata": {},
     "output_type": "execute_result"
    }
   ],
   "source": [
    "year = pa.array([2019,2020,2021,2022])\n",
    "year"
   ]
  },
  {
   "cell_type": "code",
   "execution_count": 4,
   "id": "e7153e41",
   "metadata": {},
   "outputs": [
    {
     "data": {
      "text/plain": [
       "<pyarrow.lib.StringArray object at 0x28327d360>\n",
       "[\n",
       "  \"Alice\",\n",
       "  \"Bob\",\n",
       "  \"Carol\",\n",
       "  \"Dave\"\n",
       "]"
      ]
     },
     "execution_count": 4,
     "metadata": {},
     "output_type": "execute_result"
    }
   ],
   "source": [
    "name = pa.array(\n",
    "  [\"Alice\", \"Bob\", \"Carol\", \"Dave\"],\n",
    "  type=pa.string()\n",
    ")\n",
    "name"
   ]
  },
  {
   "cell_type": "markdown",
   "id": "a8a51b44",
   "metadata": {},
   "source": [
    "## Tables\n",
    "\n",
    "A table is created by combining multiple arrays together to form the columns while also attaching names for each column."
   ]
  },
  {
   "cell_type": "code",
   "execution_count": 5,
   "id": "a948ab1e",
   "metadata": {},
   "outputs": [
    {
     "data": {
      "text/plain": [
       "pyarrow.Table\n",
       "num: int8\n",
       "year: int64\n",
       "name: string\n",
       "----\n",
       "num: [[1,2,3,2]]\n",
       "year: [[2019,2020,2021,2022]]\n",
       "name: [[\"Alice\",\"Bob\",\"Carol\",\"Dave\"]]"
      ]
     },
     "execution_count": 5,
     "metadata": {},
     "output_type": "execute_result"
    }
   ],
   "source": [
    "t = pa.table(\n",
    "  [num, year, name],\n",
    "  names = [\"num\", \"year\", \"name\"]\n",
    ")\n",
    "t"
   ]
  },
  {
   "cell_type": "markdown",
   "id": "5fbb9e4d",
   "metadata": {},
   "source": [
    "## Array indexing\n",
    "\n",
    "Elements of an array can be selected using `[]` with an integer index or a slice, the former returns a typed scalar the latter an array."
   ]
  },
  {
   "cell_type": "code",
   "execution_count": 7,
   "id": "f952be4e",
   "metadata": {},
   "outputs": [
    {
     "data": {
      "text/plain": [
       "<pyarrow.StringScalar: 'Alice'>"
      ]
     },
     "execution_count": 7,
     "metadata": {},
     "output_type": "execute_result"
    }
   ],
   "source": [
    "name[0]"
   ]
  },
  {
   "cell_type": "code",
   "execution_count": 8,
   "id": "63e55449",
   "metadata": {},
   "outputs": [
    {
     "data": {
      "text/plain": [
       "<pyarrow.lib.StringArray object at 0x105acaaa0>\n",
       "[\n",
       "  \"Alice\",\n",
       "  \"Bob\",\n",
       "  \"Carol\"\n",
       "]"
      ]
     },
     "execution_count": 8,
     "metadata": {},
     "output_type": "execute_result"
    }
   ],
   "source": [
    "name[0:3]"
   ]
  },
  {
   "cell_type": "code",
   "execution_count": 9,
   "id": "da73e483",
   "metadata": {},
   "outputs": [
    {
     "data": {
      "text/plain": [
       "<pyarrow.lib.StringArray object at 0x28327d420>\n",
       "[\n",
       "  \"Alice\",\n",
       "  \"Bob\",\n",
       "  \"Carol\",\n",
       "  \"Dave\"\n",
       "]"
      ]
     },
     "execution_count": 9,
     "metadata": {},
     "output_type": "execute_result"
    }
   ],
   "source": [
    "name[:]"
   ]
  },
  {
   "cell_type": "code",
   "execution_count": 10,
   "id": "c565856e",
   "metadata": {},
   "outputs": [
    {
     "data": {
      "text/plain": [
       "<pyarrow.StringScalar: 'Dave'>"
      ]
     },
     "execution_count": 10,
     "metadata": {},
     "output_type": "execute_result"
    }
   ],
   "source": [
    "name[-1]"
   ]
  },
  {
   "cell_type": "code",
   "execution_count": 11,
   "id": "a207a3e1",
   "metadata": {},
   "outputs": [
    {
     "data": {
      "text/plain": [
       "<pyarrow.lib.StringArray object at 0x105acb0a0>\n",
       "[\n",
       "  \"Dave\",\n",
       "  \"Carol\",\n",
       "  \"Bob\",\n",
       "  \"Alice\"\n",
       "]"
      ]
     },
     "execution_count": 11,
     "metadata": {},
     "output_type": "execute_result"
    }
   ],
   "source": [
    "name[::-1]"
   ]
  },
  {
   "cell_type": "code",
   "execution_count": 12,
   "id": "d974646f",
   "metadata": {},
   "outputs": [
    {
     "ename": "IndexError",
     "evalue": "index out of bounds",
     "output_type": "error",
     "traceback": [
      "\u001b[0;31m---------------------------------------------------------------------------\u001b[0m",
      "\u001b[0;31mIndexError\u001b[0m                                Traceback (most recent call last)",
      "Cell \u001b[0;32mIn[12], line 1\u001b[0m\n\u001b[0;32m----> 1\u001b[0m \u001b[43mname\u001b[49m\u001b[43m[\u001b[49m\u001b[38;5;241;43m4\u001b[39;49m\u001b[43m]\u001b[49m\n",
      "File \u001b[0;32m~/miniforge3/envs/fmi08icds/lib/python3.11/site-packages/pyarrow/array.pxi:1315\u001b[0m, in \u001b[0;36mpyarrow.lib.Array.__getitem__\u001b[0;34m()\u001b[0m\n",
      "File \u001b[0;32m~/miniforge3/envs/fmi08icds/lib/python3.11/site-packages/pyarrow/array.pxi:576\u001b[0m, in \u001b[0;36mpyarrow.lib._normalize_index\u001b[0;34m()\u001b[0m\n",
      "\u001b[0;31mIndexError\u001b[0m: index out of bounds"
     ]
    }
   ],
   "source": [
    "name[4]"
   ]
  },
  {
   "cell_type": "code",
   "execution_count": 13,
   "id": "46764eb0",
   "metadata": {},
   "outputs": [
    {
     "ename": "TypeError",
     "evalue": "'pyarrow.lib.StringArray' object does not support item assignment",
     "output_type": "error",
     "traceback": [
      "\u001b[0;31m---------------------------------------------------------------------------\u001b[0m",
      "\u001b[0;31mTypeError\u001b[0m                                 Traceback (most recent call last)",
      "Cell \u001b[0;32mIn[13], line 1\u001b[0m\n\u001b[0;32m----> 1\u001b[0m \u001b[43mname\u001b[49m\u001b[43m[\u001b[49m\u001b[38;5;241;43m0\u001b[39;49m\u001b[43m]\u001b[49m \u001b[38;5;241m=\u001b[39m \u001b[38;5;124m\"\u001b[39m\u001b[38;5;124mPatty\u001b[39m\u001b[38;5;124m\"\u001b[39m\n",
      "\u001b[0;31mTypeError\u001b[0m: 'pyarrow.lib.StringArray' object does not support item assignment"
     ]
    }
   ],
   "source": [
    "name[0] = \"Patty\""
   ]
  },
  {
   "cell_type": "markdown",
   "id": "ffaa86a1",
   "metadata": {},
   "source": [
    "## Data Types\n",
    "\n",
    "The following types are language agnostic for the purpose of portability, however some differ slightly from what is available from Numpy and Pandas (or R),\n",
    "\n",
    "* **Fixed-length primitive types**: numbers, booleans, date and times, fixed size binary, decimals, and other values that fit into a given number\n",
    "  * Examples: `bool_()`, `uint64()`, `timestamp()`, `date64()`, and many more\n",
    "\n",
    "* **Variable-length primitive types**: binary, string\n",
    "\n",
    "* **Nested types**: list, map, struct, and union\n",
    "\n",
    "* **Dictionary type**: An encoded categorical type\n",
    "\n",
    "\n",
    "[See [here](https://arrow.apache.org/docs/python/api/datatypes.html#api-types) for the full list of types.]\n",
    "\n",
    "---\n",
    "\n",
    "## Schemas\n",
    "\n",
    "A data structure that contains information on the names and types of columns for a table (or record batch),"
   ]
  },
  {
   "cell_type": "code",
   "execution_count": 14,
   "id": "1c523598",
   "metadata": {},
   "outputs": [
    {
     "data": {
      "text/plain": [
       "num: int8\n",
       "year: int64\n",
       "name: string"
      ]
     },
     "execution_count": 14,
     "metadata": {},
     "output_type": "execute_result"
    }
   ],
   "source": [
    "t.schema"
   ]
  },
  {
   "cell_type": "code",
   "execution_count": 15,
   "id": "e8ad440c",
   "metadata": {},
   "outputs": [
    {
     "data": {
      "text/plain": [
       "num: int8\n",
       "year: int64\n",
       "name: string"
      ]
     },
     "execution_count": 15,
     "metadata": {},
     "output_type": "execute_result"
    }
   ],
   "source": [
    "pa.schema([\n",
    "  ('num', num.type),\n",
    "  ('year', year.type),\n",
    "  ('name', name.type)\n",
    "])"
   ]
  },
  {
   "cell_type": "markdown",
   "id": "91d4c046",
   "metadata": {},
   "source": [
    "## Schema metadata\n",
    "\n",
    "Schemas can also store additional metadata (e.g. codebook like textual descriptions) in the form a string:string dictionary,"
   ]
  },
  {
   "cell_type": "code",
   "execution_count": 16,
   "id": "bb92b4a4",
   "metadata": {},
   "outputs": [
    {
     "data": {
      "text/plain": [
       "num: int8\n",
       "year: int64\n",
       "name: string\n",
       "-- schema metadata --\n",
       "num: 'Favorite number'\n",
       "year: 'Year expected to graduate'\n",
       "name: 'First name'"
      ]
     },
     "execution_count": 16,
     "metadata": {},
     "output_type": "execute_result"
    }
   ],
   "source": [
    "new_schema = t.schema.with_metadata({\n",
    "  'num': \"Favorite number\",\n",
    "  'year': \"Year expected to graduate\",\n",
    "  'name': \"First name\"\n",
    "})\n",
    "new_schema"
   ]
  },
  {
   "cell_type": "code",
   "execution_count": 17,
   "id": "5cc5d7ac",
   "metadata": {},
   "outputs": [
    {
     "data": {
      "text/plain": [
       "num: int8\n",
       "year: int64\n",
       "name: string\n",
       "-- schema metadata --\n",
       "num: 'Favorite number'\n",
       "year: 'Year expected to graduate'\n",
       "name: 'First name'"
      ]
     },
     "execution_count": 17,
     "metadata": {},
     "output_type": "execute_result"
    }
   ],
   "source": [
    "t.cast(new_schema).schema"
   ]
  },
  {
   "cell_type": "markdown",
   "id": "a177860e",
   "metadata": {},
   "source": [
    "## Missing values / None / NANs"
   ]
  },
  {
   "cell_type": "code",
   "execution_count": 18,
   "id": "46528077",
   "metadata": {},
   "outputs": [
    {
     "data": {
      "text/plain": [
       "<pyarrow.lib.Int64Array object at 0x28327ce80>\n",
       "[\n",
       "  1,\n",
       "  2,\n",
       "  null,\n",
       "  3\n",
       "]"
      ]
     },
     "execution_count": 18,
     "metadata": {},
     "output_type": "execute_result"
    }
   ],
   "source": [
    "pa.array([1,2,None,3])"
   ]
  },
  {
   "cell_type": "code",
   "execution_count": 19,
   "id": "7fe126c1",
   "metadata": {},
   "outputs": [
    {
     "data": {
      "text/plain": [
       "<pyarrow.lib.StringArray object at 0x296d1ab60>\n",
       "[\n",
       "  \"alice\",\n",
       "  \"bob\",\n",
       "  null,\n",
       "  \"dave\"\n",
       "]"
      ]
     },
     "execution_count": 19,
     "metadata": {},
     "output_type": "execute_result"
    }
   ],
   "source": [
    "pa.array([\"alice\",\"bob\",None,\"dave\"])"
   ]
  },
  {
   "cell_type": "code",
   "execution_count": 20,
   "id": "826103a7",
   "metadata": {},
   "outputs": [
    {
     "data": {
      "text/plain": [
       "<pyarrow.lib.DoubleArray object at 0x296d1ab00>\n",
       "[\n",
       "  1,\n",
       "  2,\n",
       "  nan,\n",
       "  3\n",
       "]"
      ]
     },
     "execution_count": 20,
     "metadata": {},
     "output_type": "execute_result"
    }
   ],
   "source": [
    "pa.array([1,2,np.nan,3])"
   ]
  },
  {
   "cell_type": "code",
   "execution_count": 21,
   "id": "4fea1362",
   "metadata": {},
   "outputs": [
    {
     "data": {
      "text/plain": [
       "<pyarrow.lib.DoubleArray object at 0x296d1ac80>\n",
       "[\n",
       "  1,\n",
       "  2,\n",
       "  null,\n",
       "  3\n",
       "]"
      ]
     },
     "execution_count": 21,
     "metadata": {},
     "output_type": "execute_result"
    }
   ],
   "source": [
    "pa.array([1.,2.,None,3.])"
   ]
  },
  {
   "cell_type": "code",
   "execution_count": 22,
   "id": "5b742da6",
   "metadata": {},
   "outputs": [
    {
     "data": {
      "text/plain": [
       "<pyarrow.Int64Scalar: None>"
      ]
     },
     "execution_count": 22,
     "metadata": {},
     "output_type": "execute_result"
    }
   ],
   "source": [
    "pa.array([1,2,None,3])[2]"
   ]
  },
  {
   "cell_type": "code",
   "execution_count": 23,
   "id": "8891d547",
   "metadata": {},
   "outputs": [
    {
     "data": {
      "text/plain": [
       "<pyarrow.Int64Scalar: None>"
      ]
     },
     "execution_count": 23,
     "metadata": {},
     "output_type": "execute_result"
    }
   ],
   "source": [
    "pa.array([1,2,None,3])[2]"
   ]
  },
  {
   "cell_type": "code",
   "execution_count": 24,
   "id": "f2b3102e",
   "metadata": {},
   "outputs": [
    {
     "data": {
      "text/plain": [
       "<pyarrow.StringScalar: None>"
      ]
     },
     "execution_count": 24,
     "metadata": {},
     "output_type": "execute_result"
    }
   ],
   "source": [
    "pa.array([\"alice\",\"bob\",None,\"dave\"])[2]"
   ]
  },
  {
   "cell_type": "code",
   "execution_count": 25,
   "id": "03662e64",
   "metadata": {},
   "outputs": [
    {
     "data": {
      "text/plain": [
       "<pyarrow.DoubleScalar: nan>"
      ]
     },
     "execution_count": 25,
     "metadata": {},
     "output_type": "execute_result"
    }
   ],
   "source": [
    "pa.array([1,2,np.nan,3])[2]"
   ]
  },
  {
   "cell_type": "code",
   "execution_count": 26,
   "id": "42333645",
   "metadata": {},
   "outputs": [
    {
     "data": {
      "text/plain": [
       "<pyarrow.lib.ListArray object at 0x296d1ae00>\n",
       "[\n",
       "  [\n",
       "    1,\n",
       "    2\n",
       "  ],\n",
       "  [\n",
       "    3,\n",
       "    4\n",
       "  ],\n",
       "  null,\n",
       "  [\n",
       "    5,\n",
       "    null\n",
       "  ]\n",
       "]"
      ]
     },
     "execution_count": 26,
     "metadata": {},
     "output_type": "execute_result"
    }
   ],
   "source": [
    "pa.array([[1,2], [3,4], None, [5,None]])"
   ]
  },
  {
   "cell_type": "code",
   "execution_count": 27,
   "id": "38251b5a",
   "metadata": {},
   "outputs": [
    {
     "data": {
      "text/plain": [
       "<pyarrow.lib.StructArray object at 0x105acb580>\n",
       "-- is_valid: all not null\n",
       "-- child 0 type: int64\n",
       "  [\n",
       "    1,\n",
       "    2,\n",
       "    3\n",
       "  ]\n",
       "-- child 1 type: bool\n",
       "  [\n",
       "    true,\n",
       "    null,\n",
       "    false\n",
       "  ]\n",
       "-- child 2 type: string\n",
       "  [\n",
       "    \"Alice\",\n",
       "    \"Bob\",\n",
       "    null\n",
       "  ]"
      ]
     },
     "execution_count": 27,
     "metadata": {},
     "output_type": "execute_result"
    }
   ],
   "source": [
    "pa.array([\n",
    "  {'x': 1, 'y': True, 'z': \"Alice\"},\n",
    "  {'x': 2,            'z': \"Bob\"  },\n",
    "  {'x': 3, 'y': False             }\n",
    "])"
   ]
  },
  {
   "cell_type": "markdown",
   "id": "d91f38cf",
   "metadata": {},
   "source": [
    "## Dictionary array\n",
    "\n",
    "A dictionary array is the equivalent to a factor in R or pd.Categorical in Pandas,"
   ]
  },
  {
   "cell_type": "code",
   "execution_count": 29,
   "id": "742fe50f",
   "metadata": {},
   "outputs": [
    {
     "data": {
      "text/plain": [
       "<pyarrow.lib.DictionaryArray object at 0x2968be6c0>\n",
       "\n",
       "-- dictionary:\n",
       "  [\n",
       "    \"sun\",\n",
       "    \"rain\",\n",
       "    \"clouds\",\n",
       "    \"snow\"\n",
       "  ]\n",
       "-- indices:\n",
       "  [\n",
       "    0,\n",
       "    0,\n",
       "    2,\n",
       "    1,\n",
       "    3,\n",
       "    null\n",
       "  ]"
      ]
     },
     "execution_count": 29,
     "metadata": {},
     "output_type": "execute_result"
    }
   ],
   "source": [
    "levels = pa.array(['sun', 'rain', 'clouds', 'snow'])\n",
    "values = pa.array([0,0,2,1,3,None])\n",
    "dict_array = pa.DictionaryArray.from_arrays(values, levels)\n",
    "dict_array"
   ]
  },
  {
   "cell_type": "code",
   "execution_count": 30,
   "id": "bc1b1866",
   "metadata": {},
   "outputs": [
    {
     "data": {
      "text/plain": [
       "DictionaryType(dictionary<values=string, indices=int64, ordered=0>)"
      ]
     },
     "execution_count": 30,
     "metadata": {},
     "output_type": "execute_result"
    }
   ],
   "source": [
    "dict_array.type"
   ]
  },
  {
   "cell_type": "code",
   "execution_count": 31,
   "id": "452f38ee",
   "metadata": {},
   "outputs": [
    {
     "data": {
      "text/plain": [
       "<pyarrow.lib.StringArray object at 0x296d1b0a0>\n",
       "[\n",
       "  \"sun\",\n",
       "  \"sun\",\n",
       "  \"clouds\",\n",
       "  \"rain\",\n",
       "  \"snow\",\n",
       "  null\n",
       "]"
      ]
     },
     "execution_count": 31,
     "metadata": {},
     "output_type": "execute_result"
    }
   ],
   "source": [
    "dict_array.dictionary_decode()"
   ]
  },
  {
   "cell_type": "code",
   "execution_count": 32,
   "id": "a259a645",
   "metadata": {},
   "outputs": [
    {
     "data": {
      "text/plain": [
       "<pyarrow.lib.DictionaryArray object at 0x296de6ab0>\n",
       "\n",
       "-- dictionary:\n",
       "  [\n",
       "    \"sun\",\n",
       "    \"rain\",\n",
       "    \"clouds\",\n",
       "    \"snow\"\n",
       "  ]\n",
       "-- indices:\n",
       "  [\n",
       "    0,\n",
       "    1,\n",
       "    2,\n",
       "    3\n",
       "  ]"
      ]
     },
     "execution_count": 32,
     "metadata": {},
     "output_type": "execute_result"
    }
   ],
   "source": [
    "levels.dictionary_encode()"
   ]
  },
  {
   "cell_type": "markdown",
   "id": "e2b4c4f0",
   "metadata": {},
   "source": [
    "## Record Batches\n",
    "\n",
    "In between a table and an array Arrow has the concept of a Record Batch - which represents a chunk of the larger table. They are composed of a named collection of equal-length arrays.\n"
   ]
  },
  {
   "cell_type": "code",
   "execution_count": 33,
   "id": "e6da265e",
   "metadata": {},
   "outputs": [
    {
     "data": {
      "text/plain": [
       "pyarrow.RecordBatch\n",
       "num: int8\n",
       "year: int64\n",
       "name: string"
      ]
     },
     "execution_count": 33,
     "metadata": {},
     "output_type": "execute_result"
    }
   ],
   "source": [
    "batch = pa.RecordBatch.from_arrays(\n",
    "  [num, year, name],\n",
    "  [\"num\", \"year\", \"name\"]\n",
    ")\n",
    "batch"
   ]
  },
  {
   "cell_type": "code",
   "execution_count": 34,
   "id": "97bb167b",
   "metadata": {},
   "outputs": [
    {
     "data": {
      "text/plain": [
       "3"
      ]
     },
     "execution_count": 34,
     "metadata": {},
     "output_type": "execute_result"
    }
   ],
   "source": [
    "batch.num_columns"
   ]
  },
  {
   "cell_type": "code",
   "execution_count": 35,
   "id": "707fb4af",
   "metadata": {},
   "outputs": [
    {
     "data": {
      "text/plain": [
       "4"
      ]
     },
     "execution_count": 35,
     "metadata": {},
     "output_type": "execute_result"
    }
   ],
   "source": [
    "batch.num_rows"
   ]
  },
  {
   "cell_type": "code",
   "execution_count": 36,
   "id": "678fce8a",
   "metadata": {},
   "outputs": [
    {
     "data": {
      "text/plain": [
       "69"
      ]
     },
     "execution_count": 36,
     "metadata": {},
     "output_type": "execute_result"
    }
   ],
   "source": [
    "batch.nbytes"
   ]
  },
  {
   "cell_type": "code",
   "execution_count": 37,
   "id": "b10f756c",
   "metadata": {},
   "outputs": [
    {
     "data": {
      "text/plain": [
       "num: int8\n",
       "year: int64\n",
       "name: string"
      ]
     },
     "execution_count": 37,
     "metadata": {},
     "output_type": "execute_result"
    }
   ],
   "source": [
    "batch.schema"
   ]
  },
  {
   "cell_type": "markdown",
   "id": "6f49a394",
   "metadata": {},
   "source": [
    "## Batch indexing\n",
    "\n",
    "`[]` can be used with a Record Batch to select columns (by name or index) or rows (by slice), additionally the `slice()` method can be used to select rows.\n"
   ]
  },
  {
   "cell_type": "code",
   "execution_count": 38,
   "id": "cf01e6de",
   "metadata": {},
   "outputs": [
    {
     "data": {
      "text/plain": [
       "<pyarrow.lib.Int8Array object at 0x296d1b4c0>\n",
       "[\n",
       "  1,\n",
       "  2,\n",
       "  3,\n",
       "  2\n",
       "]"
      ]
     },
     "execution_count": 38,
     "metadata": {},
     "output_type": "execute_result"
    }
   ],
   "source": [
    "batch[0]"
   ]
  },
  {
   "cell_type": "code",
   "execution_count": 39,
   "id": "01a1ec9e",
   "metadata": {},
   "outputs": [
    {
     "data": {
      "text/plain": [
       "<pyarrow.lib.StringArray object at 0x296d19c60>\n",
       "[\n",
       "  \"Alice\",\n",
       "  \"Bob\",\n",
       "  \"Carol\",\n",
       "  \"Dave\"\n",
       "]"
      ]
     },
     "execution_count": 39,
     "metadata": {},
     "output_type": "execute_result"
    }
   ],
   "source": [
    "batch[\"name\"]"
   ]
  },
  {
   "cell_type": "code",
   "execution_count": 40,
   "id": "18c9a47b",
   "metadata": {},
   "outputs": [
    {
     "data": {
      "text/html": [
       "<div>\n",
       "<style scoped>\n",
       "    .dataframe tbody tr th:only-of-type {\n",
       "        vertical-align: middle;\n",
       "    }\n",
       "\n",
       "    .dataframe tbody tr th {\n",
       "        vertical-align: top;\n",
       "    }\n",
       "\n",
       "    .dataframe thead th {\n",
       "        text-align: right;\n",
       "    }\n",
       "</style>\n",
       "<table border=\"1\" class=\"dataframe\">\n",
       "  <thead>\n",
       "    <tr style=\"text-align: right;\">\n",
       "      <th></th>\n",
       "      <th>num</th>\n",
       "      <th>year</th>\n",
       "      <th>name</th>\n",
       "    </tr>\n",
       "  </thead>\n",
       "  <tbody>\n",
       "    <tr>\n",
       "      <th>0</th>\n",
       "      <td>1</td>\n",
       "      <td>2019</td>\n",
       "      <td>Alice</td>\n",
       "    </tr>\n",
       "    <tr>\n",
       "      <th>1</th>\n",
       "      <td>2</td>\n",
       "      <td>2020</td>\n",
       "      <td>Bob</td>\n",
       "    </tr>\n",
       "  </tbody>\n",
       "</table>\n",
       "</div>"
      ],
      "text/plain": [
       "   num  year   name\n",
       "0    1  2019  Alice\n",
       "1    2  2020    Bob"
      ]
     },
     "execution_count": 40,
     "metadata": {},
     "output_type": "execute_result"
    }
   ],
   "source": [
    "batch[0:2].to_pandas()"
   ]
  },
  {
   "cell_type": "code",
   "execution_count": 41,
   "id": "0102c2e1",
   "metadata": {},
   "outputs": [
    {
     "data": {
      "text/html": [
       "<div>\n",
       "<style scoped>\n",
       "    .dataframe tbody tr th:only-of-type {\n",
       "        vertical-align: middle;\n",
       "    }\n",
       "\n",
       "    .dataframe tbody tr th {\n",
       "        vertical-align: top;\n",
       "    }\n",
       "\n",
       "    .dataframe thead th {\n",
       "        text-align: right;\n",
       "    }\n",
       "</style>\n",
       "<table border=\"1\" class=\"dataframe\">\n",
       "  <thead>\n",
       "    <tr style=\"text-align: right;\">\n",
       "      <th></th>\n",
       "      <th>num</th>\n",
       "      <th>year</th>\n",
       "      <th>name</th>\n",
       "    </tr>\n",
       "  </thead>\n",
       "  <tbody>\n",
       "    <tr>\n",
       "      <th>0</th>\n",
       "      <td>1</td>\n",
       "      <td>2019</td>\n",
       "      <td>Alice</td>\n",
       "    </tr>\n",
       "    <tr>\n",
       "      <th>1</th>\n",
       "      <td>2</td>\n",
       "      <td>2020</td>\n",
       "      <td>Bob</td>\n",
       "    </tr>\n",
       "  </tbody>\n",
       "</table>\n",
       "</div>"
      ],
      "text/plain": [
       "   num  year   name\n",
       "0    1  2019  Alice\n",
       "1    2  2020    Bob"
      ]
     },
     "execution_count": 41,
     "metadata": {},
     "output_type": "execute_result"
    }
   ],
   "source": [
    "batch.slice(0,2).to_pandas()"
   ]
  },
  {
   "cell_type": "markdown",
   "id": "98475942",
   "metadata": {},
   "source": [
    "\n",
    "## Tables vs Record Batches\n",
    "\n",
    "As mentioned previously, `table` objects are not part of the Arrow specification - rather they are a convenience tool provided to help with the wrangling of multiple Record Batches.\n"
   ]
  },
  {
   "cell_type": "code",
   "execution_count": 42,
   "id": "36a4719c",
   "metadata": {},
   "outputs": [
    {
     "data": {
      "text/plain": [
       "pyarrow.Table\n",
       "num: int8\n",
       "year: int64\n",
       "name: string\n",
       "----\n",
       "num: [[1,2,3,2],[1,2,3,2],[1,2,3,2]]\n",
       "year: [[2019,2020,2021,2022],[2019,2020,2021,2022],[2019,2020,2021,2022]]\n",
       "name: [[\"Alice\",\"Bob\",\"Carol\",\"Dave\"],[\"Alice\",\"Bob\",\"Carol\",\"Dave\"],[\"Alice\",\"Bob\",\"Carol\",\"Dave\"]]"
      ]
     },
     "execution_count": 42,
     "metadata": {},
     "output_type": "execute_result"
    }
   ],
   "source": [
    "table = pa.Table.from_batches([batch] * 3)\n",
    "table"
   ]
  },
  {
   "cell_type": "code",
   "execution_count": 43,
   "id": "c913053c",
   "metadata": {},
   "outputs": [
    {
     "data": {
      "text/plain": [
       "3"
      ]
     },
     "execution_count": 43,
     "metadata": {},
     "output_type": "execute_result"
    }
   ],
   "source": [
    "table.num_columns"
   ]
  },
  {
   "cell_type": "code",
   "execution_count": 44,
   "id": "c890bee5",
   "metadata": {},
   "outputs": [
    {
     "data": {
      "text/plain": [
       "12"
      ]
     },
     "execution_count": 44,
     "metadata": {},
     "output_type": "execute_result"
    }
   ],
   "source": [
    "table.num_rows"
   ]
  },
  {
   "cell_type": "code",
   "execution_count": 45,
   "id": "6399b38b",
   "metadata": {},
   "outputs": [
    {
     "data": {
      "text/html": [
       "<div>\n",
       "<style scoped>\n",
       "    .dataframe tbody tr th:only-of-type {\n",
       "        vertical-align: middle;\n",
       "    }\n",
       "\n",
       "    .dataframe tbody tr th {\n",
       "        vertical-align: top;\n",
       "    }\n",
       "\n",
       "    .dataframe thead th {\n",
       "        text-align: right;\n",
       "    }\n",
       "</style>\n",
       "<table border=\"1\" class=\"dataframe\">\n",
       "  <thead>\n",
       "    <tr style=\"text-align: right;\">\n",
       "      <th></th>\n",
       "      <th>num</th>\n",
       "      <th>year</th>\n",
       "      <th>name</th>\n",
       "    </tr>\n",
       "  </thead>\n",
       "  <tbody>\n",
       "    <tr>\n",
       "      <th>0</th>\n",
       "      <td>1</td>\n",
       "      <td>2019</td>\n",
       "      <td>Alice</td>\n",
       "    </tr>\n",
       "    <tr>\n",
       "      <th>1</th>\n",
       "      <td>2</td>\n",
       "      <td>2020</td>\n",
       "      <td>Bob</td>\n",
       "    </tr>\n",
       "    <tr>\n",
       "      <th>2</th>\n",
       "      <td>3</td>\n",
       "      <td>2021</td>\n",
       "      <td>Carol</td>\n",
       "    </tr>\n",
       "    <tr>\n",
       "      <th>3</th>\n",
       "      <td>2</td>\n",
       "      <td>2022</td>\n",
       "      <td>Dave</td>\n",
       "    </tr>\n",
       "    <tr>\n",
       "      <th>4</th>\n",
       "      <td>1</td>\n",
       "      <td>2019</td>\n",
       "      <td>Alice</td>\n",
       "    </tr>\n",
       "    <tr>\n",
       "      <th>5</th>\n",
       "      <td>2</td>\n",
       "      <td>2020</td>\n",
       "      <td>Bob</td>\n",
       "    </tr>\n",
       "    <tr>\n",
       "      <th>6</th>\n",
       "      <td>3</td>\n",
       "      <td>2021</td>\n",
       "      <td>Carol</td>\n",
       "    </tr>\n",
       "    <tr>\n",
       "      <th>7</th>\n",
       "      <td>2</td>\n",
       "      <td>2022</td>\n",
       "      <td>Dave</td>\n",
       "    </tr>\n",
       "    <tr>\n",
       "      <th>8</th>\n",
       "      <td>1</td>\n",
       "      <td>2019</td>\n",
       "      <td>Alice</td>\n",
       "    </tr>\n",
       "    <tr>\n",
       "      <th>9</th>\n",
       "      <td>2</td>\n",
       "      <td>2020</td>\n",
       "      <td>Bob</td>\n",
       "    </tr>\n",
       "    <tr>\n",
       "      <th>10</th>\n",
       "      <td>3</td>\n",
       "      <td>2021</td>\n",
       "      <td>Carol</td>\n",
       "    </tr>\n",
       "    <tr>\n",
       "      <th>11</th>\n",
       "      <td>2</td>\n",
       "      <td>2022</td>\n",
       "      <td>Dave</td>\n",
       "    </tr>\n",
       "  </tbody>\n",
       "</table>\n",
       "</div>"
      ],
      "text/plain": [
       "    num  year   name\n",
       "0     1  2019  Alice\n",
       "1     2  2020    Bob\n",
       "2     3  2021  Carol\n",
       "3     2  2022   Dave\n",
       "4     1  2019  Alice\n",
       "5     2  2020    Bob\n",
       "6     3  2021  Carol\n",
       "7     2  2022   Dave\n",
       "8     1  2019  Alice\n",
       "9     2  2020    Bob\n",
       "10    3  2021  Carol\n",
       "11    2  2022   Dave"
      ]
     },
     "execution_count": 45,
     "metadata": {},
     "output_type": "execute_result"
    }
   ],
   "source": [
    "table.to_pandas()"
   ]
  },
  {
   "cell_type": "markdown",
   "id": "b5432f93",
   "metadata": {},
   "source": [
    "## Chunked Array\n",
    "\n",
    "The columns of `table` are therefore composed of the columns of each of the batches, these are stored as ChuckedArrays instead of Arrays to reflect this."
   ]
  },
  {
   "cell_type": "code",
   "execution_count": 47,
   "id": "cab36376",
   "metadata": {},
   "outputs": [
    {
     "data": {
      "text/plain": [
       "<pyarrow.lib.ChunkedArray object at 0x296cd21b0>\n",
       "[\n",
       "  [\n",
       "    \"Alice\",\n",
       "    \"Bob\",\n",
       "    \"Carol\",\n",
       "    \"Dave\"\n",
       "  ],\n",
       "  [\n",
       "    \"Alice\",\n",
       "    \"Bob\",\n",
       "    \"Carol\",\n",
       "    \"Dave\"\n",
       "  ],\n",
       "  [\n",
       "    \"Alice\",\n",
       "    \"Bob\",\n",
       "    \"Carol\",\n",
       "    \"Dave\"\n",
       "  ]\n",
       "]"
      ]
     },
     "execution_count": 47,
     "metadata": {},
     "output_type": "execute_result"
    }
   ],
   "source": [
    "table[\"name\"]"
   ]
  },
  {
   "cell_type": "code",
   "execution_count": 48,
   "id": "7403011e",
   "metadata": {},
   "outputs": [
    {
     "data": {
      "text/plain": [
       "<pyarrow.lib.ChunkedArray object at 0x2969d01d0>\n",
       "[\n",
       "  [\n",
       "    2019,\n",
       "    2020,\n",
       "    2021,\n",
       "    2022\n",
       "  ],\n",
       "  [\n",
       "    2019,\n",
       "    2020,\n",
       "    2021,\n",
       "    2022\n",
       "  ],\n",
       "  [\n",
       "    2019,\n",
       "    2020,\n",
       "    2021,\n",
       "    2022\n",
       "  ]\n",
       "]"
      ]
     },
     "execution_count": 48,
     "metadata": {},
     "output_type": "execute_result"
    }
   ],
   "source": [
    "table[1]"
   ]
  },
  {
   "cell_type": "markdown",
   "id": "956033d9",
   "metadata": {},
   "source": [
    "## Arrow + NumPy\n",
    "\n",
    "Conversion between NumPy arrays and Arrow arrays is straight forward"
   ]
  },
  {
   "cell_type": "code",
   "execution_count": 49,
   "id": "526c4bd6",
   "metadata": {},
   "outputs": [
    {
     "data": {
      "text/plain": [
       "array([0. , 0.1, 0.2, 0.3, 0.4, 0.5, 0.6, 0.7, 0.8, 0.9, 1. ])"
      ]
     },
     "execution_count": 49,
     "metadata": {},
     "output_type": "execute_result"
    }
   ],
   "source": [
    "np.linspace(0,1,11)"
   ]
  },
  {
   "cell_type": "code",
   "execution_count": 50,
   "id": "b4c6f3a3",
   "metadata": {},
   "outputs": [
    {
     "data": {
      "text/plain": [
       "<pyarrow.lib.DoubleArray object at 0x296f90160>\n",
       "[\n",
       "  0,\n",
       "  0.2,\n",
       "  0.4,\n",
       "  0.6000000000000001,\n",
       "  0.8,\n",
       "  1\n",
       "]"
      ]
     },
     "execution_count": 50,
     "metadata": {},
     "output_type": "execute_result"
    }
   ],
   "source": [
    "pa.array( np.linspace(0,1,6) )"
   ]
  },
  {
   "cell_type": "code",
   "execution_count": 51,
   "id": "d777ab16",
   "metadata": {},
   "outputs": [
    {
     "data": {
      "text/plain": [
       "array([0, 1, 2, 3, 4, 5, 6, 7, 8, 9])"
      ]
     },
     "execution_count": 51,
     "metadata": {},
     "output_type": "execute_result"
    }
   ],
   "source": [
    "pa.array(range(10)).to_numpy()"
   ]
  },
  {
   "cell_type": "markdown",
   "id": "addf069c",
   "metadata": {},
   "source": [
    "## NumPy & data copies"
   ]
  },
  {
   "cell_type": "code",
   "execution_count": 52,
   "id": "f868bebf",
   "metadata": {},
   "outputs": [
    {
     "ename": "ArrowInvalid",
     "evalue": "Needed to copy 1 chunks with 0 nulls, but zero_copy_only was True",
     "output_type": "error",
     "traceback": [
      "\u001b[0;31m---------------------------------------------------------------------------\u001b[0m",
      "\u001b[0;31mArrowInvalid\u001b[0m                              Traceback (most recent call last)",
      "Cell \u001b[0;32mIn[52], line 1\u001b[0m\n\u001b[0;32m----> 1\u001b[0m \u001b[43mpa\u001b[49m\u001b[38;5;241;43m.\u001b[39;49m\u001b[43marray\u001b[49m\u001b[43m(\u001b[49m\u001b[43m[\u001b[49m\u001b[38;5;124;43m\"\u001b[39;49m\u001b[38;5;124;43mhello\u001b[39;49m\u001b[38;5;124;43m\"\u001b[39;49m\u001b[43m,\u001b[49m\u001b[43m \u001b[49m\u001b[38;5;124;43m\"\u001b[39;49m\u001b[38;5;124;43mworld\u001b[39;49m\u001b[38;5;124;43m\"\u001b[39;49m\u001b[43m]\u001b[49m\u001b[43m)\u001b[49m\u001b[38;5;241;43m.\u001b[39;49m\u001b[43mto_numpy\u001b[49m\u001b[43m(\u001b[49m\u001b[43m)\u001b[49m\n",
      "File \u001b[0;32m~/miniforge3/envs/fmi08icds/lib/python3.11/site-packages/pyarrow/array.pxi:1498\u001b[0m, in \u001b[0;36mpyarrow.lib.Array.to_numpy\u001b[0;34m()\u001b[0m\n",
      "File \u001b[0;32m~/miniforge3/envs/fmi08icds/lib/python3.11/site-packages/pyarrow/error.pxi:100\u001b[0m, in \u001b[0;36mpyarrow.lib.check_status\u001b[0;34m()\u001b[0m\n",
      "\u001b[0;31mArrowInvalid\u001b[0m: Needed to copy 1 chunks with 0 nulls, but zero_copy_only was True"
     ]
    }
   ],
   "source": [
    "pa.array([\"hello\", \"world\"]).to_numpy()"
   ]
  },
  {
   "cell_type": "code",
   "execution_count": 53,
   "id": "572440b7",
   "metadata": {},
   "outputs": [
    {
     "data": {
      "text/plain": [
       "array(['hello', 'world'], dtype=object)"
      ]
     },
     "execution_count": 53,
     "metadata": {},
     "output_type": "execute_result"
    }
   ],
   "source": [
    "pa.array([\"hello\", \"world\"]).to_numpy(zero_copy_only=False)"
   ]
  },
  {
   "cell_type": "code",
   "execution_count": 54,
   "id": "5faac8cd",
   "metadata": {},
   "outputs": [
    {
     "ename": "ArrowInvalid",
     "evalue": "Needed to copy 1 chunks with 1 nulls, but zero_copy_only was True",
     "output_type": "error",
     "traceback": [
      "\u001b[0;31m---------------------------------------------------------------------------\u001b[0m",
      "\u001b[0;31mArrowInvalid\u001b[0m                              Traceback (most recent call last)",
      "Cell \u001b[0;32mIn[54], line 1\u001b[0m\n\u001b[0;32m----> 1\u001b[0m \u001b[43mpa\u001b[49m\u001b[38;5;241;43m.\u001b[39;49m\u001b[43marray\u001b[49m\u001b[43m(\u001b[49m\u001b[43m[\u001b[49m\u001b[38;5;241;43m1\u001b[39;49m\u001b[43m,\u001b[49m\u001b[38;5;241;43m2\u001b[39;49m\u001b[43m,\u001b[49m\u001b[38;5;28;43;01mNone\u001b[39;49;00m\u001b[43m,\u001b[49m\u001b[38;5;241;43m4\u001b[39;49m\u001b[43m]\u001b[49m\u001b[43m)\u001b[49m\u001b[38;5;241;43m.\u001b[39;49m\u001b[43mto_numpy\u001b[49m\u001b[43m(\u001b[49m\u001b[43m)\u001b[49m\n",
      "File \u001b[0;32m~/miniforge3/envs/fmi08icds/lib/python3.11/site-packages/pyarrow/array.pxi:1498\u001b[0m, in \u001b[0;36mpyarrow.lib.Array.to_numpy\u001b[0;34m()\u001b[0m\n",
      "File \u001b[0;32m~/miniforge3/envs/fmi08icds/lib/python3.11/site-packages/pyarrow/error.pxi:100\u001b[0m, in \u001b[0;36mpyarrow.lib.check_status\u001b[0;34m()\u001b[0m\n",
      "\u001b[0;31mArrowInvalid\u001b[0m: Needed to copy 1 chunks with 1 nulls, but zero_copy_only was True"
     ]
    }
   ],
   "source": [
    "pa.array([1,2,None,4]).to_numpy()"
   ]
  },
  {
   "cell_type": "code",
   "execution_count": 55,
   "id": "78863de2",
   "metadata": {},
   "outputs": [
    {
     "data": {
      "text/plain": [
       "array([ 1.,  2., nan,  4.])"
      ]
     },
     "execution_count": 55,
     "metadata": {},
     "output_type": "execute_result"
    }
   ],
   "source": [
    "pa.array([1,2,None,4]).to_numpy(zero_copy_only=False)"
   ]
  },
  {
   "cell_type": "code",
   "execution_count": 56,
   "id": "fdbb5594",
   "metadata": {},
   "outputs": [
    {
     "ename": "ArrowInvalid",
     "evalue": "Needed to copy 1 chunks with 0 nulls, but zero_copy_only was True",
     "output_type": "error",
     "traceback": [
      "\u001b[0;31m---------------------------------------------------------------------------\u001b[0m",
      "\u001b[0;31mArrowInvalid\u001b[0m                              Traceback (most recent call last)",
      "Cell \u001b[0;32mIn[56], line 1\u001b[0m\n\u001b[0;32m----> 1\u001b[0m \u001b[43mpa\u001b[49m\u001b[38;5;241;43m.\u001b[39;49m\u001b[43marray\u001b[49m\u001b[43m(\u001b[49m\u001b[43m[\u001b[49m\u001b[43m[\u001b[49m\u001b[38;5;241;43m1\u001b[39;49m\u001b[43m,\u001b[49m\u001b[38;5;241;43m2\u001b[39;49m\u001b[43m]\u001b[49m\u001b[43m,\u001b[49m\u001b[43m \u001b[49m\u001b[43m[\u001b[49m\u001b[38;5;241;43m3\u001b[39;49m\u001b[43m,\u001b[49m\u001b[38;5;241;43m4\u001b[39;49m\u001b[43m]\u001b[49m\u001b[43m,\u001b[49m\u001b[43m \u001b[49m\u001b[43m[\u001b[49m\u001b[38;5;241;43m5\u001b[39;49m\u001b[43m,\u001b[49m\u001b[38;5;241;43m6\u001b[39;49m\u001b[43m]\u001b[49m\u001b[43m]\u001b[49m\u001b[43m)\u001b[49m\u001b[38;5;241;43m.\u001b[39;49m\u001b[43mto_numpy\u001b[49m\u001b[43m(\u001b[49m\u001b[43m)\u001b[49m\n",
      "File \u001b[0;32m~/miniforge3/envs/fmi08icds/lib/python3.11/site-packages/pyarrow/array.pxi:1498\u001b[0m, in \u001b[0;36mpyarrow.lib.Array.to_numpy\u001b[0;34m()\u001b[0m\n",
      "File \u001b[0;32m~/miniforge3/envs/fmi08icds/lib/python3.11/site-packages/pyarrow/error.pxi:100\u001b[0m, in \u001b[0;36mpyarrow.lib.check_status\u001b[0;34m()\u001b[0m\n",
      "\u001b[0;31mArrowInvalid\u001b[0m: Needed to copy 1 chunks with 0 nulls, but zero_copy_only was True"
     ]
    }
   ],
   "source": [
    "pa.array([[1,2], [3,4], [5,6]]).to_numpy()"
   ]
  },
  {
   "cell_type": "code",
   "execution_count": 57,
   "id": "efd92f18",
   "metadata": {},
   "outputs": [
    {
     "data": {
      "text/plain": [
       "array([array([1, 2]), array([3, 4]), array([5, 6])], dtype=object)"
      ]
     },
     "execution_count": 57,
     "metadata": {},
     "output_type": "execute_result"
    }
   ],
   "source": [
    "pa.array([[1,2], [3,4], [5,6]]).to_numpy(zero_copy_only=False)"
   ]
  },
  {
   "cell_type": "markdown",
   "id": "c07447e2",
   "metadata": {},
   "source": [
    "## Arrow + Pandas\n",
    "\n",
    "We've already seen some basic conversion of Arrow table objects to Pandas, the conversions here are a bit more complex than with NumPy due in large part to how Pandas handles missing data.\n",
    "\n",
    "| Source (Pandas)       | Destination (Arrow)   |\n",
    "|-----------------------|-----------------------|\n",
    "| `bool`                | `BOOL`                |\n",
    "| `(u)int{8,16,32,64}`  | `(U)INT{8,16,32,64}`  |\n",
    "| `float32`             | `FLOAT`               |\n",
    "| `float64`             | `DOUBLE`              |\n",
    "| `str / unicode`       | `STRING`              |\n",
    "| `pd.Categorical`      | `DICTIONARY`          |\n",
    "| `pd.Timestamp`        | `TIMESTAMP(unit=ns)`  |\n",
    "| `datetime.date`       | `DATE`                |\n",
    "| `datetime.time`       | `TIME64`              |\n",
    "\n",
    "| Source (Arrow)                  | Destination (Pandas)                           |\n",
    "|---------------------------------|------------------------------------------------|\n",
    "| `BOOL`                          | `bool`                                         |\n",
    "| `BOOL` with nulls\t              | `object` (with values `True`, `False`,`None`)  |\n",
    "| `(U)INT{8,16,32,64}`            | `(u)int{8,16,32,64}`                           |\n",
    "| `(U)INT{8,16,32,64}` with nulls\t| `float64`                                      |\n",
    "| `FLOAT`\t                        | `float32`                                      |\n",
    "| `DOUBLE`\t                      | `float64`                                      |\n",
    "| `STRING`\t                      | `str`                                          |\n",
    "| `DICTIONARY`\t                  | `pd.Categorical`                               |\n",
    "| `TIMESTAMP(unit=*)`             | `pd.Timestamp` (`np.datetime64[ns]`)           |\n",
    "| `DATE`\t                        | `object` (with `datetime.date` objects)        |\n",
    "| `TIME64`\t                      | `object` (with `datetime.time` objects)        |\n",
    "\n",
    "\n",
    "\n",
    "\n",
    "From [Type differences](https://arrow.apache.org/docs/python/pandas.html#type-differences) documentation\n",
    "\n",
    "---\n",
    "\n",
    "## Series & data copies\n",
    "\n",
    "Due to these discrepancies it is much more likely that converting from Arrow array to a Panda series will require a type to be changed in which case the data will need to be copied. Like `to_numpy()` the `to_pandas()` method also accepts the `zero_copy_only` argument, however it defaults to `False`."
   ]
  },
  {
   "cell_type": "code",
   "execution_count": 58,
   "id": "08e1a5e5",
   "metadata": {},
   "outputs": [
    {
     "data": {
      "text/plain": [
       "0    1\n",
       "1    2\n",
       "2    3\n",
       "3    4\n",
       "dtype: int64"
      ]
     },
     "execution_count": 58,
     "metadata": {},
     "output_type": "execute_result"
    }
   ],
   "source": [
    "pa.array([1,2,3,4]).to_pandas()"
   ]
  },
  {
   "cell_type": "code",
   "execution_count": 59,
   "id": "8fbbc852",
   "metadata": {},
   "outputs": [
    {
     "data": {
      "text/plain": [
       "0    hello\n",
       "1    world\n",
       "dtype: object"
      ]
     },
     "execution_count": 59,
     "metadata": {},
     "output_type": "execute_result"
    }
   ],
   "source": [
    "pa.array([\"hello\", \"world\"]).to_pandas()"
   ]
  },
  {
   "cell_type": "code",
   "execution_count": 60,
   "id": "dfd78446",
   "metadata": {},
   "outputs": [
    {
     "data": {
      "text/plain": [
       "0    hello\n",
       "1    world\n",
       "dtype: category\n",
       "Categories (2, object): ['hello', 'world']"
      ]
     },
     "execution_count": 60,
     "metadata": {},
     "output_type": "execute_result"
    }
   ],
   "source": [
    "pa.array([\"hello\", \"world\"]).dictionary_encode().to_pandas()"
   ]
  },
  {
   "cell_type": "code",
   "execution_count": 61,
   "id": "e13a6924",
   "metadata": {},
   "outputs": [
    {
     "data": {
      "text/plain": [
       "0    1\n",
       "1    2\n",
       "2    3\n",
       "3    4\n",
       "dtype: int64"
      ]
     },
     "execution_count": 61,
     "metadata": {},
     "output_type": "execute_result"
    }
   ],
   "source": [
    "pa.array([1,2,3,4]).to_pandas(zero_copy_only=True)"
   ]
  },
  {
   "cell_type": "code",
   "execution_count": 62,
   "id": "5507f135",
   "metadata": {},
   "outputs": [
    {
     "ename": "ArrowInvalid",
     "evalue": "Needed to copy 1 chunks with 0 nulls, but zero_copy_only was True",
     "output_type": "error",
     "traceback": [
      "\u001b[0;31m---------------------------------------------------------------------------\u001b[0m",
      "\u001b[0;31mArrowInvalid\u001b[0m                              Traceback (most recent call last)",
      "Cell \u001b[0;32mIn[62], line 1\u001b[0m\n\u001b[0;32m----> 1\u001b[0m \u001b[43mpa\u001b[49m\u001b[38;5;241;43m.\u001b[39;49m\u001b[43marray\u001b[49m\u001b[43m(\u001b[49m\u001b[43m[\u001b[49m\u001b[38;5;124;43m\"\u001b[39;49m\u001b[38;5;124;43mhello\u001b[39;49m\u001b[38;5;124;43m\"\u001b[39;49m\u001b[43m,\u001b[49m\u001b[43m \u001b[49m\u001b[38;5;124;43m\"\u001b[39;49m\u001b[38;5;124;43mworld\u001b[39;49m\u001b[38;5;124;43m\"\u001b[39;49m\u001b[43m]\u001b[49m\u001b[43m)\u001b[49m\u001b[38;5;241;43m.\u001b[39;49m\u001b[43mto_pandas\u001b[49m\u001b[43m(\u001b[49m\u001b[43mzero_copy_only\u001b[49m\u001b[38;5;241;43m=\u001b[39;49m\u001b[38;5;28;43;01mTrue\u001b[39;49;00m\u001b[43m)\u001b[49m\n",
      "File \u001b[0;32m~/miniforge3/envs/fmi08icds/lib/python3.11/site-packages/pyarrow/array.pxi:837\u001b[0m, in \u001b[0;36mpyarrow.lib._PandasConvertible.to_pandas\u001b[0;34m()\u001b[0m\n",
      "File \u001b[0;32m~/miniforge3/envs/fmi08icds/lib/python3.11/site-packages/pyarrow/array.pxi:1446\u001b[0m, in \u001b[0;36mpyarrow.lib.Array._to_pandas\u001b[0;34m()\u001b[0m\n",
      "File \u001b[0;32m~/miniforge3/envs/fmi08icds/lib/python3.11/site-packages/pyarrow/array.pxi:1650\u001b[0m, in \u001b[0;36mpyarrow.lib._array_like_to_pandas\u001b[0;34m()\u001b[0m\n",
      "File \u001b[0;32m~/miniforge3/envs/fmi08icds/lib/python3.11/site-packages/pyarrow/error.pxi:100\u001b[0m, in \u001b[0;36mpyarrow.lib.check_status\u001b[0;34m()\u001b[0m\n",
      "\u001b[0;31mArrowInvalid\u001b[0m: Needed to copy 1 chunks with 0 nulls, but zero_copy_only was True"
     ]
    }
   ],
   "source": [
    "pa.array([\"hello\", \"world\"]).to_pandas(zero_copy_only=True)"
   ]
  },
  {
   "cell_type": "code",
   "execution_count": 63,
   "id": "dd41f5ee",
   "metadata": {},
   "outputs": [
    {
     "ename": "ArrowInvalid",
     "evalue": "Needed to copy 1 chunks with 0 nulls, but zero_copy_only was True",
     "output_type": "error",
     "traceback": [
      "\u001b[0;31m---------------------------------------------------------------------------\u001b[0m",
      "\u001b[0;31mArrowInvalid\u001b[0m                              Traceback (most recent call last)",
      "Cell \u001b[0;32mIn[63], line 1\u001b[0m\n\u001b[0;32m----> 1\u001b[0m \u001b[43mpa\u001b[49m\u001b[38;5;241;43m.\u001b[39;49m\u001b[43marray\u001b[49m\u001b[43m(\u001b[49m\u001b[43m[\u001b[49m\u001b[38;5;124;43m\"\u001b[39;49m\u001b[38;5;124;43mhello\u001b[39;49m\u001b[38;5;124;43m\"\u001b[39;49m\u001b[43m,\u001b[49m\u001b[43m \u001b[49m\u001b[38;5;124;43m\"\u001b[39;49m\u001b[38;5;124;43mworld\u001b[39;49m\u001b[38;5;124;43m\"\u001b[39;49m\u001b[43m]\u001b[49m\u001b[43m)\u001b[49m\u001b[38;5;241;43m.\u001b[39;49m\u001b[43mdictionary_encode\u001b[49m\u001b[43m(\u001b[49m\u001b[43m)\u001b[49m\u001b[38;5;241;43m.\u001b[39;49m\u001b[43mto_pandas\u001b[49m\u001b[43m(\u001b[49m\u001b[43mzero_copy_only\u001b[49m\u001b[38;5;241;43m=\u001b[39;49m\u001b[38;5;28;43;01mTrue\u001b[39;49;00m\u001b[43m)\u001b[49m\n",
      "File \u001b[0;32m~/miniforge3/envs/fmi08icds/lib/python3.11/site-packages/pyarrow/array.pxi:837\u001b[0m, in \u001b[0;36mpyarrow.lib._PandasConvertible.to_pandas\u001b[0;34m()\u001b[0m\n",
      "File \u001b[0;32m~/miniforge3/envs/fmi08icds/lib/python3.11/site-packages/pyarrow/array.pxi:1446\u001b[0m, in \u001b[0;36mpyarrow.lib.Array._to_pandas\u001b[0;34m()\u001b[0m\n",
      "File \u001b[0;32m~/miniforge3/envs/fmi08icds/lib/python3.11/site-packages/pyarrow/array.pxi:1650\u001b[0m, in \u001b[0;36mpyarrow.lib._array_like_to_pandas\u001b[0;34m()\u001b[0m\n",
      "File \u001b[0;32m~/miniforge3/envs/fmi08icds/lib/python3.11/site-packages/pyarrow/error.pxi:100\u001b[0m, in \u001b[0;36mpyarrow.lib.check_status\u001b[0;34m()\u001b[0m\n",
      "\u001b[0;31mArrowInvalid\u001b[0m: Needed to copy 1 chunks with 0 nulls, but zero_copy_only was True"
     ]
    }
   ],
   "source": [
    "pa.array([\"hello\", \"world\"]).dictionary_encode().to_pandas(zero_copy_only=True)"
   ]
  },
  {
   "cell_type": "markdown",
   "id": "94895f09",
   "metadata": {},
   "source": [
    "Note that Arrow arrays are converted to Series while tables & batches are converted to DataFrames\n",
    "\n",
    "\n",
    "---\n",
    "\n",
    "## Zero Copy Series Conversions\n",
    "\n",
    "> Zero copy conversions from `Array` or `ChunkedArray` to NumPy arrays or pandas Series are possible in certain narrow cases:\n",
    ">\n",
    "> * The Arrow data is stored in an integer (signed or unsigned `int8` through `int64`) or floating point type (`float16` through `float64`). This includes many numeric types as well as timestamps.\n",
    ">\n",
    "> * The Arrow data has no null values (since these are represented using bitmaps which are not supported by pandas).\n",
    "> \n",
    "> * For `ChunkedArray`, the data consists of a single chunk, i.e. `arr.num_chunks == 1`. Multiple chunks will always require a copy because of pandas’s contiguousness requirement.\n",
    ">\n",
    "> In these scenarios, `to_pandas` or `to_numpy` will be zero copy. In all other scenarios, a copy will be required.\n",
    "\n",
    "---\n",
    "[Source](https://arrow.apache.org/docs/python/pandas.html#zero-copy-series-conversions)\n",
    "\n"
   ]
  },
  {
   "cell_type": "code",
   "execution_count": 64,
   "id": "d0d0d368",
   "metadata": {},
   "outputs": [
    {
     "data": {
      "text/html": [
       "<div>\n",
       "<style scoped>\n",
       "    .dataframe tbody tr th:only-of-type {\n",
       "        vertical-align: middle;\n",
       "    }\n",
       "\n",
       "    .dataframe tbody tr th {\n",
       "        vertical-align: top;\n",
       "    }\n",
       "\n",
       "    .dataframe thead th {\n",
       "        text-align: right;\n",
       "    }\n",
       "</style>\n",
       "<table border=\"1\" class=\"dataframe\">\n",
       "  <thead>\n",
       "    <tr style=\"text-align: right;\">\n",
       "      <th></th>\n",
       "      <th>num</th>\n",
       "      <th>year</th>\n",
       "      <th>name</th>\n",
       "    </tr>\n",
       "  </thead>\n",
       "  <tbody>\n",
       "    <tr>\n",
       "      <th>0</th>\n",
       "      <td>1</td>\n",
       "      <td>2019</td>\n",
       "      <td>Alice</td>\n",
       "    </tr>\n",
       "    <tr>\n",
       "      <th>1</th>\n",
       "      <td>2</td>\n",
       "      <td>2020</td>\n",
       "      <td>Bob</td>\n",
       "    </tr>\n",
       "    <tr>\n",
       "      <th>2</th>\n",
       "      <td>3</td>\n",
       "      <td>2021</td>\n",
       "      <td>Carol</td>\n",
       "    </tr>\n",
       "    <tr>\n",
       "      <th>3</th>\n",
       "      <td>2</td>\n",
       "      <td>2022</td>\n",
       "      <td>Dave</td>\n",
       "    </tr>\n",
       "    <tr>\n",
       "      <th>4</th>\n",
       "      <td>1</td>\n",
       "      <td>2019</td>\n",
       "      <td>Alice</td>\n",
       "    </tr>\n",
       "    <tr>\n",
       "      <th>5</th>\n",
       "      <td>2</td>\n",
       "      <td>2020</td>\n",
       "      <td>Bob</td>\n",
       "    </tr>\n",
       "    <tr>\n",
       "      <th>6</th>\n",
       "      <td>3</td>\n",
       "      <td>2021</td>\n",
       "      <td>Carol</td>\n",
       "    </tr>\n",
       "    <tr>\n",
       "      <th>7</th>\n",
       "      <td>2</td>\n",
       "      <td>2022</td>\n",
       "      <td>Dave</td>\n",
       "    </tr>\n",
       "    <tr>\n",
       "      <th>8</th>\n",
       "      <td>1</td>\n",
       "      <td>2019</td>\n",
       "      <td>Alice</td>\n",
       "    </tr>\n",
       "    <tr>\n",
       "      <th>9</th>\n",
       "      <td>2</td>\n",
       "      <td>2020</td>\n",
       "      <td>Bob</td>\n",
       "    </tr>\n",
       "    <tr>\n",
       "      <th>10</th>\n",
       "      <td>3</td>\n",
       "      <td>2021</td>\n",
       "      <td>Carol</td>\n",
       "    </tr>\n",
       "    <tr>\n",
       "      <th>11</th>\n",
       "      <td>2</td>\n",
       "      <td>2022</td>\n",
       "      <td>Dave</td>\n",
       "    </tr>\n",
       "  </tbody>\n",
       "</table>\n",
       "</div>"
      ],
      "text/plain": [
       "    num  year   name\n",
       "0     1  2019  Alice\n",
       "1     2  2020    Bob\n",
       "2     3  2021  Carol\n",
       "3     2  2022   Dave\n",
       "4     1  2019  Alice\n",
       "5     2  2020    Bob\n",
       "6     3  2021  Carol\n",
       "7     2  2022   Dave\n",
       "8     1  2019  Alice\n",
       "9     2  2020    Bob\n",
       "10    3  2021  Carol\n",
       "11    2  2022   Dave"
      ]
     },
     "execution_count": 64,
     "metadata": {},
     "output_type": "execute_result"
    }
   ],
   "source": [
    "table.to_pandas()"
   ]
  },
  {
   "cell_type": "code",
   "execution_count": 65,
   "id": "879e9e72",
   "metadata": {},
   "outputs": [
    {
     "ename": "ArrowInvalid",
     "evalue": "Cannot do zero copy conversion into multi-column DataFrame block",
     "output_type": "error",
     "traceback": [
      "\u001b[0;31m---------------------------------------------------------------------------\u001b[0m",
      "\u001b[0;31mArrowInvalid\u001b[0m                              Traceback (most recent call last)",
      "Cell \u001b[0;32mIn[65], line 1\u001b[0m\n\u001b[0;32m----> 1\u001b[0m \u001b[43mtable\u001b[49m\u001b[38;5;241;43m.\u001b[39;49m\u001b[43mto_pandas\u001b[49m\u001b[43m(\u001b[49m\u001b[43mzero_copy_only\u001b[49m\u001b[38;5;241;43m=\u001b[39;49m\u001b[38;5;28;43;01mTrue\u001b[39;49;00m\u001b[43m)\u001b[49m\n",
      "File \u001b[0;32m~/miniforge3/envs/fmi08icds/lib/python3.11/site-packages/pyarrow/array.pxi:837\u001b[0m, in \u001b[0;36mpyarrow.lib._PandasConvertible.to_pandas\u001b[0;34m()\u001b[0m\n",
      "File \u001b[0;32m~/miniforge3/envs/fmi08icds/lib/python3.11/site-packages/pyarrow/table.pxi:4114\u001b[0m, in \u001b[0;36mpyarrow.lib.Table._to_pandas\u001b[0;34m()\u001b[0m\n",
      "File \u001b[0;32m~/miniforge3/envs/fmi08icds/lib/python3.11/site-packages/pyarrow/pandas_compat.py:820\u001b[0m, in \u001b[0;36mtable_to_blockmanager\u001b[0;34m(options, table, categories, ignore_metadata, types_mapper)\u001b[0m\n\u001b[1;32m    818\u001b[0m _check_data_column_metadata_consistency(all_columns)\n\u001b[1;32m    819\u001b[0m columns \u001b[38;5;241m=\u001b[39m _deserialize_column_index(table, all_columns, column_indexes)\n\u001b[0;32m--> 820\u001b[0m blocks \u001b[38;5;241m=\u001b[39m \u001b[43m_table_to_blocks\u001b[49m\u001b[43m(\u001b[49m\u001b[43moptions\u001b[49m\u001b[43m,\u001b[49m\u001b[43m \u001b[49m\u001b[43mtable\u001b[49m\u001b[43m,\u001b[49m\u001b[43m \u001b[49m\u001b[43mcategories\u001b[49m\u001b[43m,\u001b[49m\u001b[43m \u001b[49m\u001b[43mext_columns_dtypes\u001b[49m\u001b[43m)\u001b[49m\n\u001b[1;32m    822\u001b[0m axes \u001b[38;5;241m=\u001b[39m [columns, index]\n\u001b[1;32m    823\u001b[0m \u001b[38;5;28;01mreturn\u001b[39;00m BlockManager(blocks, axes)\n",
      "File \u001b[0;32m~/miniforge3/envs/fmi08icds/lib/python3.11/site-packages/pyarrow/pandas_compat.py:1168\u001b[0m, in \u001b[0;36m_table_to_blocks\u001b[0;34m(options, block_table, categories, extension_columns)\u001b[0m\n\u001b[1;32m   1163\u001b[0m \u001b[38;5;28;01mdef\u001b[39;00m \u001b[38;5;21m_table_to_blocks\u001b[39m(options, block_table, categories, extension_columns):\n\u001b[1;32m   1164\u001b[0m     \u001b[38;5;66;03m# Part of table_to_blockmanager\u001b[39;00m\n\u001b[1;32m   1165\u001b[0m \n\u001b[1;32m   1166\u001b[0m     \u001b[38;5;66;03m# Convert an arrow table to Block from the internal pandas API\u001b[39;00m\n\u001b[1;32m   1167\u001b[0m     columns \u001b[38;5;241m=\u001b[39m block_table\u001b[38;5;241m.\u001b[39mcolumn_names\n\u001b[0;32m-> 1168\u001b[0m     result \u001b[38;5;241m=\u001b[39m \u001b[43mpa\u001b[49m\u001b[38;5;241;43m.\u001b[39;49m\u001b[43mlib\u001b[49m\u001b[38;5;241;43m.\u001b[39;49m\u001b[43mtable_to_blocks\u001b[49m\u001b[43m(\u001b[49m\u001b[43moptions\u001b[49m\u001b[43m,\u001b[49m\u001b[43m \u001b[49m\u001b[43mblock_table\u001b[49m\u001b[43m,\u001b[49m\u001b[43m \u001b[49m\u001b[43mcategories\u001b[49m\u001b[43m,\u001b[49m\n\u001b[1;32m   1169\u001b[0m \u001b[43m                                    \u001b[49m\u001b[38;5;28;43mlist\u001b[39;49m\u001b[43m(\u001b[49m\u001b[43mextension_columns\u001b[49m\u001b[38;5;241;43m.\u001b[39;49m\u001b[43mkeys\u001b[49m\u001b[43m(\u001b[49m\u001b[43m)\u001b[49m\u001b[43m)\u001b[49m\u001b[43m)\u001b[49m\n\u001b[1;32m   1170\u001b[0m     \u001b[38;5;28;01mreturn\u001b[39;00m [_reconstruct_block(item, columns, extension_columns)\n\u001b[1;32m   1171\u001b[0m             \u001b[38;5;28;01mfor\u001b[39;00m item \u001b[38;5;129;01min\u001b[39;00m result]\n",
      "File \u001b[0;32m~/miniforge3/envs/fmi08icds/lib/python3.11/site-packages/pyarrow/table.pxi:2771\u001b[0m, in \u001b[0;36mpyarrow.lib.table_to_blocks\u001b[0;34m()\u001b[0m\n",
      "File \u001b[0;32m~/miniforge3/envs/fmi08icds/lib/python3.11/site-packages/pyarrow/error.pxi:100\u001b[0m, in \u001b[0;36mpyarrow.lib.check_status\u001b[0;34m()\u001b[0m\n",
      "\u001b[0;31mArrowInvalid\u001b[0m: Cannot do zero copy conversion into multi-column DataFrame block"
     ]
    }
   ],
   "source": [
    "table.to_pandas(zero_copy_only=True)"
   ]
  },
  {
   "cell_type": "code",
   "execution_count": 66,
   "id": "7ff8386e",
   "metadata": {},
   "outputs": [
    {
     "ename": "ArrowInvalid",
     "evalue": "Cannot do zero copy conversion into multi-column DataFrame block",
     "output_type": "error",
     "traceback": [
      "\u001b[0;31m---------------------------------------------------------------------------\u001b[0m",
      "\u001b[0;31mArrowInvalid\u001b[0m                              Traceback (most recent call last)",
      "Cell \u001b[0;32mIn[66], line 1\u001b[0m\n\u001b[0;32m----> 1\u001b[0m \u001b[43mtable\u001b[49m\u001b[38;5;241;43m.\u001b[39;49m\u001b[43mdrop\u001b[49m\u001b[43m(\u001b[49m\u001b[43m[\u001b[49m\u001b[38;5;124;43m'\u001b[39;49m\u001b[38;5;124;43mname\u001b[39;49m\u001b[38;5;124;43m'\u001b[39;49m\u001b[43m]\u001b[49m\u001b[43m)\u001b[49m\u001b[38;5;241;43m.\u001b[39;49m\u001b[43mto_pandas\u001b[49m\u001b[43m(\u001b[49m\u001b[43mzero_copy_only\u001b[49m\u001b[38;5;241;43m=\u001b[39;49m\u001b[38;5;28;43;01mTrue\u001b[39;49;00m\u001b[43m)\u001b[49m\n",
      "File \u001b[0;32m~/miniforge3/envs/fmi08icds/lib/python3.11/site-packages/pyarrow/array.pxi:837\u001b[0m, in \u001b[0;36mpyarrow.lib._PandasConvertible.to_pandas\u001b[0;34m()\u001b[0m\n",
      "File \u001b[0;32m~/miniforge3/envs/fmi08icds/lib/python3.11/site-packages/pyarrow/table.pxi:4114\u001b[0m, in \u001b[0;36mpyarrow.lib.Table._to_pandas\u001b[0;34m()\u001b[0m\n",
      "File \u001b[0;32m~/miniforge3/envs/fmi08icds/lib/python3.11/site-packages/pyarrow/pandas_compat.py:820\u001b[0m, in \u001b[0;36mtable_to_blockmanager\u001b[0;34m(options, table, categories, ignore_metadata, types_mapper)\u001b[0m\n\u001b[1;32m    818\u001b[0m _check_data_column_metadata_consistency(all_columns)\n\u001b[1;32m    819\u001b[0m columns \u001b[38;5;241m=\u001b[39m _deserialize_column_index(table, all_columns, column_indexes)\n\u001b[0;32m--> 820\u001b[0m blocks \u001b[38;5;241m=\u001b[39m \u001b[43m_table_to_blocks\u001b[49m\u001b[43m(\u001b[49m\u001b[43moptions\u001b[49m\u001b[43m,\u001b[49m\u001b[43m \u001b[49m\u001b[43mtable\u001b[49m\u001b[43m,\u001b[49m\u001b[43m \u001b[49m\u001b[43mcategories\u001b[49m\u001b[43m,\u001b[49m\u001b[43m \u001b[49m\u001b[43mext_columns_dtypes\u001b[49m\u001b[43m)\u001b[49m\n\u001b[1;32m    822\u001b[0m axes \u001b[38;5;241m=\u001b[39m [columns, index]\n\u001b[1;32m    823\u001b[0m \u001b[38;5;28;01mreturn\u001b[39;00m BlockManager(blocks, axes)\n",
      "File \u001b[0;32m~/miniforge3/envs/fmi08icds/lib/python3.11/site-packages/pyarrow/pandas_compat.py:1168\u001b[0m, in \u001b[0;36m_table_to_blocks\u001b[0;34m(options, block_table, categories, extension_columns)\u001b[0m\n\u001b[1;32m   1163\u001b[0m \u001b[38;5;28;01mdef\u001b[39;00m \u001b[38;5;21m_table_to_blocks\u001b[39m(options, block_table, categories, extension_columns):\n\u001b[1;32m   1164\u001b[0m     \u001b[38;5;66;03m# Part of table_to_blockmanager\u001b[39;00m\n\u001b[1;32m   1165\u001b[0m \n\u001b[1;32m   1166\u001b[0m     \u001b[38;5;66;03m# Convert an arrow table to Block from the internal pandas API\u001b[39;00m\n\u001b[1;32m   1167\u001b[0m     columns \u001b[38;5;241m=\u001b[39m block_table\u001b[38;5;241m.\u001b[39mcolumn_names\n\u001b[0;32m-> 1168\u001b[0m     result \u001b[38;5;241m=\u001b[39m \u001b[43mpa\u001b[49m\u001b[38;5;241;43m.\u001b[39;49m\u001b[43mlib\u001b[49m\u001b[38;5;241;43m.\u001b[39;49m\u001b[43mtable_to_blocks\u001b[49m\u001b[43m(\u001b[49m\u001b[43moptions\u001b[49m\u001b[43m,\u001b[49m\u001b[43m \u001b[49m\u001b[43mblock_table\u001b[49m\u001b[43m,\u001b[49m\u001b[43m \u001b[49m\u001b[43mcategories\u001b[49m\u001b[43m,\u001b[49m\n\u001b[1;32m   1169\u001b[0m \u001b[43m                                    \u001b[49m\u001b[38;5;28;43mlist\u001b[39;49m\u001b[43m(\u001b[49m\u001b[43mextension_columns\u001b[49m\u001b[38;5;241;43m.\u001b[39;49m\u001b[43mkeys\u001b[49m\u001b[43m(\u001b[49m\u001b[43m)\u001b[49m\u001b[43m)\u001b[49m\u001b[43m)\u001b[49m\n\u001b[1;32m   1170\u001b[0m     \u001b[38;5;28;01mreturn\u001b[39;00m [_reconstruct_block(item, columns, extension_columns)\n\u001b[1;32m   1171\u001b[0m             \u001b[38;5;28;01mfor\u001b[39;00m item \u001b[38;5;129;01min\u001b[39;00m result]\n",
      "File \u001b[0;32m~/miniforge3/envs/fmi08icds/lib/python3.11/site-packages/pyarrow/table.pxi:2771\u001b[0m, in \u001b[0;36mpyarrow.lib.table_to_blocks\u001b[0;34m()\u001b[0m\n",
      "File \u001b[0;32m~/miniforge3/envs/fmi08icds/lib/python3.11/site-packages/pyarrow/error.pxi:100\u001b[0m, in \u001b[0;36mpyarrow.lib.check_status\u001b[0;34m()\u001b[0m\n",
      "\u001b[0;31mArrowInvalid\u001b[0m: Cannot do zero copy conversion into multi-column DataFrame block"
     ]
    }
   ],
   "source": [
    "table.drop(['name']).to_pandas(zero_copy_only=True)"
   ]
  },
  {
   "cell_type": "code",
   "execution_count": 67,
   "id": "13ed4f15",
   "metadata": {},
   "outputs": [
    {
     "ename": "ArrowInvalid",
     "evalue": "Cannot do zero copy conversion into multi-column DataFrame block",
     "output_type": "error",
     "traceback": [
      "\u001b[0;31m---------------------------------------------------------------------------\u001b[0m",
      "\u001b[0;31mArrowInvalid\u001b[0m                              Traceback (most recent call last)",
      "Cell \u001b[0;32mIn[67], line 1\u001b[0m\n\u001b[0;32m----> 1\u001b[0m \u001b[43mpa\u001b[49m\u001b[38;5;241;43m.\u001b[39;49m\u001b[43mtable\u001b[49m\u001b[43m(\u001b[49m\u001b[43m[\u001b[49m\u001b[43mnum\u001b[49m\u001b[43m,\u001b[49m\u001b[43myear\u001b[49m\u001b[43m]\u001b[49m\u001b[43m,\u001b[49m\u001b[43m \u001b[49m\u001b[43mnames\u001b[49m\u001b[38;5;241;43m=\u001b[39;49m\u001b[43m[\u001b[49m\u001b[38;5;124;43m\"\u001b[39;49m\u001b[38;5;124;43mnum\u001b[39;49m\u001b[38;5;124;43m\"\u001b[39;49m\u001b[43m,\u001b[49m\u001b[38;5;124;43m\"\u001b[39;49m\u001b[38;5;124;43myear\u001b[39;49m\u001b[38;5;124;43m\"\u001b[39;49m\u001b[43m]\u001b[49m\u001b[43m)\u001b[49m\u001b[38;5;241;43m.\u001b[39;49m\u001b[43mto_pandas\u001b[49m\u001b[43m(\u001b[49m\u001b[43mzero_copy_only\u001b[49m\u001b[38;5;241;43m=\u001b[39;49m\u001b[38;5;28;43;01mTrue\u001b[39;49;00m\u001b[43m)\u001b[49m\n",
      "File \u001b[0;32m~/miniforge3/envs/fmi08icds/lib/python3.11/site-packages/pyarrow/array.pxi:837\u001b[0m, in \u001b[0;36mpyarrow.lib._PandasConvertible.to_pandas\u001b[0;34m()\u001b[0m\n",
      "File \u001b[0;32m~/miniforge3/envs/fmi08icds/lib/python3.11/site-packages/pyarrow/table.pxi:4114\u001b[0m, in \u001b[0;36mpyarrow.lib.Table._to_pandas\u001b[0;34m()\u001b[0m\n",
      "File \u001b[0;32m~/miniforge3/envs/fmi08icds/lib/python3.11/site-packages/pyarrow/pandas_compat.py:820\u001b[0m, in \u001b[0;36mtable_to_blockmanager\u001b[0;34m(options, table, categories, ignore_metadata, types_mapper)\u001b[0m\n\u001b[1;32m    818\u001b[0m _check_data_column_metadata_consistency(all_columns)\n\u001b[1;32m    819\u001b[0m columns \u001b[38;5;241m=\u001b[39m _deserialize_column_index(table, all_columns, column_indexes)\n\u001b[0;32m--> 820\u001b[0m blocks \u001b[38;5;241m=\u001b[39m \u001b[43m_table_to_blocks\u001b[49m\u001b[43m(\u001b[49m\u001b[43moptions\u001b[49m\u001b[43m,\u001b[49m\u001b[43m \u001b[49m\u001b[43mtable\u001b[49m\u001b[43m,\u001b[49m\u001b[43m \u001b[49m\u001b[43mcategories\u001b[49m\u001b[43m,\u001b[49m\u001b[43m \u001b[49m\u001b[43mext_columns_dtypes\u001b[49m\u001b[43m)\u001b[49m\n\u001b[1;32m    822\u001b[0m axes \u001b[38;5;241m=\u001b[39m [columns, index]\n\u001b[1;32m    823\u001b[0m \u001b[38;5;28;01mreturn\u001b[39;00m BlockManager(blocks, axes)\n",
      "File \u001b[0;32m~/miniforge3/envs/fmi08icds/lib/python3.11/site-packages/pyarrow/pandas_compat.py:1168\u001b[0m, in \u001b[0;36m_table_to_blocks\u001b[0;34m(options, block_table, categories, extension_columns)\u001b[0m\n\u001b[1;32m   1163\u001b[0m \u001b[38;5;28;01mdef\u001b[39;00m \u001b[38;5;21m_table_to_blocks\u001b[39m(options, block_table, categories, extension_columns):\n\u001b[1;32m   1164\u001b[0m     \u001b[38;5;66;03m# Part of table_to_blockmanager\u001b[39;00m\n\u001b[1;32m   1165\u001b[0m \n\u001b[1;32m   1166\u001b[0m     \u001b[38;5;66;03m# Convert an arrow table to Block from the internal pandas API\u001b[39;00m\n\u001b[1;32m   1167\u001b[0m     columns \u001b[38;5;241m=\u001b[39m block_table\u001b[38;5;241m.\u001b[39mcolumn_names\n\u001b[0;32m-> 1168\u001b[0m     result \u001b[38;5;241m=\u001b[39m \u001b[43mpa\u001b[49m\u001b[38;5;241;43m.\u001b[39;49m\u001b[43mlib\u001b[49m\u001b[38;5;241;43m.\u001b[39;49m\u001b[43mtable_to_blocks\u001b[49m\u001b[43m(\u001b[49m\u001b[43moptions\u001b[49m\u001b[43m,\u001b[49m\u001b[43m \u001b[49m\u001b[43mblock_table\u001b[49m\u001b[43m,\u001b[49m\u001b[43m \u001b[49m\u001b[43mcategories\u001b[49m\u001b[43m,\u001b[49m\n\u001b[1;32m   1169\u001b[0m \u001b[43m                                    \u001b[49m\u001b[38;5;28;43mlist\u001b[39;49m\u001b[43m(\u001b[49m\u001b[43mextension_columns\u001b[49m\u001b[38;5;241;43m.\u001b[39;49m\u001b[43mkeys\u001b[49m\u001b[43m(\u001b[49m\u001b[43m)\u001b[49m\u001b[43m)\u001b[49m\u001b[43m)\u001b[49m\n\u001b[1;32m   1170\u001b[0m     \u001b[38;5;28;01mreturn\u001b[39;00m [_reconstruct_block(item, columns, extension_columns)\n\u001b[1;32m   1171\u001b[0m             \u001b[38;5;28;01mfor\u001b[39;00m item \u001b[38;5;129;01min\u001b[39;00m result]\n",
      "File \u001b[0;32m~/miniforge3/envs/fmi08icds/lib/python3.11/site-packages/pyarrow/table.pxi:2771\u001b[0m, in \u001b[0;36mpyarrow.lib.table_to_blocks\u001b[0;34m()\u001b[0m\n",
      "File \u001b[0;32m~/miniforge3/envs/fmi08icds/lib/python3.11/site-packages/pyarrow/error.pxi:100\u001b[0m, in \u001b[0;36mpyarrow.lib.check_status\u001b[0;34m()\u001b[0m\n",
      "\u001b[0;31mArrowInvalid\u001b[0m: Cannot do zero copy conversion into multi-column DataFrame block"
     ]
    }
   ],
   "source": [
    "pa.table([num,year], names=[\"num\",\"year\"]).to_pandas(zero_copy_only=True)"
   ]
  },
  {
   "cell_type": "markdown",
   "id": "31f341ab",
   "metadata": {},
   "source": [
    "---\n",
    "\n",
    "## Pandas -> Arrow\n",
    "\n",
    "To convert from a Pandas DataFrame to an Arrow Table we can use the `from_pandas()` method (schemas can also be inferred from DataFrames)"
   ]
  },
  {
   "cell_type": "code",
   "execution_count": 68,
   "id": "7efedf4f",
   "metadata": {},
   "outputs": [
    {
     "data": {
      "text/plain": [
       "pyarrow.Table\n",
       "x: double\n",
       "y: string\n",
       "z: int64\n",
       "----\n",
       "x: [[0.4516499898270056,0.7984189283226107,-1.212991453688134,-0.8089083287534667,-0.44380921310449345]]\n",
       "y: [[\"A\",\"A\",\"B\",\"C\",\"C\"]]\n",
       "z: [[1,2,3,4,5]]"
      ]
     },
     "execution_count": 68,
     "metadata": {},
     "output_type": "execute_result"
    }
   ],
   "source": [
    "df = pd.DataFrame({\n",
    "  'x': np.random.normal(size=5),\n",
    "  'y': [\"A\",\"A\",\"B\",\"C\",\"C\"],\n",
    "  'z': [1,2,3,4,5]\n",
    "})\n",
    "pa.Table.from_pandas(df)"
   ]
  },
  {
   "cell_type": "code",
   "execution_count": 69,
   "id": "c2a03144",
   "metadata": {},
   "outputs": [
    {
     "data": {
      "text/plain": [
       "x: double\n",
       "y: string\n",
       "z: int64\n",
       "-- schema metadata --\n",
       "pandas: '{\"index_columns\": [{\"kind\": \"range\", \"name\": null, \"start\": 0, \"' + 563"
      ]
     },
     "execution_count": 69,
     "metadata": {},
     "output_type": "execute_result"
    }
   ],
   "source": [
    "pa.Schema.from_pandas(df)"
   ]
  },
  {
   "cell_type": "markdown",
   "id": "46aa1b9d",
   "metadata": {},
   "source": [
    "## An aside on tabular file formats\n",
    "\n",
    "---\n",
    "\n",
    "## Comma Separated Values\n",
    "\n",
    "This and other text & delimiter based file formats are the most common and generally considered the most portable, however they have a number of significant draw backs\n",
    "\n",
    "* no explicit schema or other metadata\n",
    "\n",
    "* column types must be inferred from the data\n",
    "\n",
    "* numerical values stored as text (efficiency and precision issues)\n",
    "\n",
    "* limited compression options\n",
    "\n",
    "---\n",
    "\n",
    "## (Apache) Parquet\n",
    "\n",
    "> ... provides a standardized open-source columnar storage format for use in data analysis systems. It was created originally for use in Apache Hadoop with systems like Apache Drill, Apache Hive, Apache Impala, and Apache Spark adopting it as a shared standard for high performance data IO.\n",
    "\n",
    "\n",
    "Core features:\n",
    "> The values in each column are physically stored in contiguous memory locations and this columnar storage provides the following benefits:\n",
    ">\n",
    "> * Column-wise compression is efficient and saves storage space\n",
    "> * Compression techniques specific to a type can be applied as the column values tend to be of the same type\n",
    "> * Queries that fetch specific column values need not read the entire row data thus improving performance\n",
    "> * Different encoding techniques can be applied to different columns\n",
    "\n",
    "\n",
    "---\n",
    "\n",
    "## Feather\n",
    "\n",
    "> ... is a portable file format for storing Arrow tables or data frames (from languages like Python or R) that utilizes the Arrow IPC format internally. Feather was created early in the Arrow project as a proof of concept for fast, language-agnostic data frame storage for Python (pandas) and R.\n",
    "\n",
    "Core features:\n",
    "* Direct columnar serialization of Arrow tables\n",
    "\n",
    "* Supports all Arrow data types and compression\n",
    "\n",
    "* Language agnostic\n",
    "\n",
    "* Metadata makes it possible to read only the necessary columns for an operation\n",
    "\n",
    "---\n",
    "class: middle\n",
    "\n",
    "## Example - File Format Performance\n",
    "\n",
    "\n",
    "Based on [Apache Arrow: Read DataFrame With Zero Memory](https://towardsdatascience.com/apache-arrow-read-dataframe-with-zero-memory-69634092b1a) \n",
    "---\n",
    "\n",
    "## Building a large dataset"
   ]
  },
  {
   "cell_type": "code",
   "execution_count": 70,
   "id": "c765dfeb",
   "metadata": {},
   "outputs": [
    {
     "data": {
      "text/html": [
       "<div>\n",
       "<style scoped>\n",
       "    .dataframe tbody tr th:only-of-type {\n",
       "        vertical-align: middle;\n",
       "    }\n",
       "\n",
       "    .dataframe tbody tr th {\n",
       "        vertical-align: top;\n",
       "    }\n",
       "\n",
       "    .dataframe thead th {\n",
       "        text-align: right;\n",
       "    }\n",
       "</style>\n",
       "<table border=\"1\" class=\"dataframe\">\n",
       "  <thead>\n",
       "    <tr style=\"text-align: right;\">\n",
       "      <th></th>\n",
       "      <th>species</th>\n",
       "      <th>island</th>\n",
       "      <th>bill_length_mm</th>\n",
       "      <th>bill_depth_mm</th>\n",
       "      <th>flipper_length_mm</th>\n",
       "      <th>body_mass_g</th>\n",
       "      <th>sex</th>\n",
       "      <th>year</th>\n",
       "    </tr>\n",
       "  </thead>\n",
       "  <tbody>\n",
       "    <tr>\n",
       "      <th>0</th>\n",
       "      <td>Chinstrap</td>\n",
       "      <td>Dream</td>\n",
       "      <td>48.519017</td>\n",
       "      <td>17.136138</td>\n",
       "      <td>200.642256</td>\n",
       "      <td>3800.527739</td>\n",
       "      <td>male</td>\n",
       "      <td>2008</td>\n",
       "    </tr>\n",
       "    <tr>\n",
       "      <th>1</th>\n",
       "      <td>Gentoo</td>\n",
       "      <td>Biscoe</td>\n",
       "      <td>49.819091</td>\n",
       "      <td>15.317831</td>\n",
       "      <td>223.507723</td>\n",
       "      <td>5550.240852</td>\n",
       "      <td>male</td>\n",
       "      <td>2008</td>\n",
       "    </tr>\n",
       "    <tr>\n",
       "      <th>2</th>\n",
       "      <td>Chinstrap</td>\n",
       "      <td>Dream</td>\n",
       "      <td>45.174882</td>\n",
       "      <td>17.558060</td>\n",
       "      <td>188.966751</td>\n",
       "      <td>3449.851303</td>\n",
       "      <td>female</td>\n",
       "      <td>2007</td>\n",
       "    </tr>\n",
       "    <tr>\n",
       "      <th>3</th>\n",
       "      <td>Adelie</td>\n",
       "      <td>Biscoe</td>\n",
       "      <td>43.043647</td>\n",
       "      <td>18.630037</td>\n",
       "      <td>201.280925</td>\n",
       "      <td>4048.906267</td>\n",
       "      <td>male</td>\n",
       "      <td>2008</td>\n",
       "    </tr>\n",
       "    <tr>\n",
       "      <th>4</th>\n",
       "      <td>Gentoo</td>\n",
       "      <td>Biscoe</td>\n",
       "      <td>44.926619</td>\n",
       "      <td>13.633214</td>\n",
       "      <td>209.714220</td>\n",
       "      <td>4400.958077</td>\n",
       "      <td>female</td>\n",
       "      <td>2008</td>\n",
       "    </tr>\n",
       "    <tr>\n",
       "      <th>...</th>\n",
       "      <td>...</td>\n",
       "      <td>...</td>\n",
       "      <td>...</td>\n",
       "      <td>...</td>\n",
       "      <td>...</td>\n",
       "      <td>...</td>\n",
       "      <td>...</td>\n",
       "      <td>...</td>\n",
       "    </tr>\n",
       "    <tr>\n",
       "      <th>999995</th>\n",
       "      <td>Chinstrap</td>\n",
       "      <td>Dream</td>\n",
       "      <td>48.692352</td>\n",
       "      <td>18.184983</td>\n",
       "      <td>200.579977</td>\n",
       "      <td>3799.702510</td>\n",
       "      <td>male</td>\n",
       "      <td>2009</td>\n",
       "    </tr>\n",
       "    <tr>\n",
       "      <th>999996</th>\n",
       "      <td>Adelie</td>\n",
       "      <td>Biscoe</td>\n",
       "      <td>43.046500</td>\n",
       "      <td>20.182105</td>\n",
       "      <td>197.283516</td>\n",
       "      <td>4776.263332</td>\n",
       "      <td>male</td>\n",
       "      <td>2009</td>\n",
       "    </tr>\n",
       "    <tr>\n",
       "      <th>999997</th>\n",
       "      <td>Adelie</td>\n",
       "      <td>Torgersen</td>\n",
       "      <td>43.192871</td>\n",
       "      <td>17.278273</td>\n",
       "      <td>196.408173</td>\n",
       "      <td>4251.476411</td>\n",
       "      <td>male</td>\n",
       "      <td>2008</td>\n",
       "    </tr>\n",
       "    <tr>\n",
       "      <th>999998</th>\n",
       "      <td>Gentoo</td>\n",
       "      <td>Biscoe</td>\n",
       "      <td>53.208097</td>\n",
       "      <td>16.119915</td>\n",
       "      <td>230.537089</td>\n",
       "      <td>5498.259372</td>\n",
       "      <td>male</td>\n",
       "      <td>2009</td>\n",
       "    </tr>\n",
       "    <tr>\n",
       "      <th>999999</th>\n",
       "      <td>Gentoo</td>\n",
       "      <td>Biscoe</td>\n",
       "      <td>47.719684</td>\n",
       "      <td>13.876822</td>\n",
       "      <td>214.583392</td>\n",
       "      <td>4399.060693</td>\n",
       "      <td>female</td>\n",
       "      <td>2007</td>\n",
       "    </tr>\n",
       "  </tbody>\n",
       "</table>\n",
       "<p>1000000 rows × 8 columns</p>\n",
       "</div>"
      ],
      "text/plain": [
       "          species     island  bill_length_mm  bill_depth_mm   \n",
       "0       Chinstrap      Dream       48.519017      17.136138  \\\n",
       "1          Gentoo     Biscoe       49.819091      15.317831   \n",
       "2       Chinstrap      Dream       45.174882      17.558060   \n",
       "3          Adelie     Biscoe       43.043647      18.630037   \n",
       "4          Gentoo     Biscoe       44.926619      13.633214   \n",
       "...           ...        ...             ...            ...   \n",
       "999995  Chinstrap      Dream       48.692352      18.184983   \n",
       "999996     Adelie     Biscoe       43.046500      20.182105   \n",
       "999997     Adelie  Torgersen       43.192871      17.278273   \n",
       "999998     Gentoo     Biscoe       53.208097      16.119915   \n",
       "999999     Gentoo     Biscoe       47.719684      13.876822   \n",
       "\n",
       "        flipper_length_mm  body_mass_g     sex  year  \n",
       "0              200.642256  3800.527739    male  2008  \n",
       "1              223.507723  5550.240852    male  2008  \n",
       "2              188.966751  3449.851303  female  2007  \n",
       "3              201.280925  4048.906267    male  2008  \n",
       "4              209.714220  4400.958077  female  2008  \n",
       "...                   ...          ...     ...   ...  \n",
       "999995         200.579977  3799.702510    male  2009  \n",
       "999996         197.283516  4776.263332    male  2009  \n",
       "999997         196.408173  4251.476411    male  2008  \n",
       "999998         230.537089  5498.259372    male  2009  \n",
       "999999         214.583392  4399.060693  female  2007  \n",
       "\n",
       "[1000000 rows x 8 columns]"
      ]
     },
     "execution_count": 70,
     "metadata": {},
     "output_type": "execute_result"
    }
   ],
   "source": [
    "np.random.seed(1234)\n",
    "df = (\n",
    "    pd.read_csv(\"../data/penguins.csv\")\n",
    "      .sample(1000000, replace=True)\n",
    "      .reset_index(drop=True)\n",
    ")\n",
    "num_cols = [\"bill_length_mm\", \"bill_depth_mm\", \"flipper_length_mm\",    \"body_mass_g\"]\n",
    "df[num_cols] = df[num_cols] + np.random.normal(size=(df.shape[0],len(num_cols)))\n",
    "df"
   ]
  },
  {
   "cell_type": "markdown",
   "id": "83499b55",
   "metadata": {},
   "source": [
    "## Create output files"
   ]
  },
  {
   "cell_type": "code",
   "execution_count": 71,
   "id": "84584345",
   "metadata": {},
   "outputs": [],
   "source": [
    "import os\n",
    "os.makedirs(\"../data/scratch/\", exist_ok=True)\n",
    "df.to_csv(\"../data/scratch/penguins-large.csv\")\n",
    "df.to_parquet(\"../data/scratch/penguins-large.parquet\")\n",
    "import pyarrow.feather\n",
    "pyarrow.feather.write_feather(\n",
    "    pa.Table.from_pandas(df), \n",
    "    \"../data/scratch/penguins-large.feather\"\n",
    ")\n",
    "pyarrow.feather.write_feather(\n",
    "    pa.Table.from_pandas(df.dropna()), \n",
    "    \"../data/scratch/penguins-large_nona.feather\"\n",
    ")"
   ]
  },
  {
   "cell_type": "markdown",
   "id": "e46c6dba",
   "metadata": {},
   "source": [
    "## File Sizes"
   ]
  },
  {
   "cell_type": "code",
   "execution_count": 73,
   "id": "11de9a33",
   "metadata": {},
   "outputs": [
    {
     "name": "stdout",
     "output_type": "stream",
     "text": [
      "../data/scratch/penguins-large.csv \t\t 100.91 MB\n"
     ]
    }
   ],
   "source": [
    "def file_size(f):\n",
    "    x = os.path.getsize(f)\n",
    "    print(f, \"\\t\\t\", round(x / (1024 * 1024),2), \"MB\")\n",
    "\n",
    "file_size( \"../data/scratch/penguins-large.csv\" )"
   ]
  },
  {
   "cell_type": "code",
   "execution_count": 74,
   "id": "4ca20763",
   "metadata": {},
   "outputs": [
    {
     "name": "stdout",
     "output_type": "stream",
     "text": [
      "../data/scratch/penguins-large.parquet \t\t 32.44 MB\n"
     ]
    }
   ],
   "source": [
    "file_size( \"../data/scratch/penguins-large.parquet\" )"
   ]
  },
  {
   "cell_type": "code",
   "execution_count": 75,
   "id": "96f33003",
   "metadata": {},
   "outputs": [
    {
     "name": "stdout",
     "output_type": "stream",
     "text": [
      "../data/scratch/penguins-large.feather \t\t 48.93 MB\n"
     ]
    }
   ],
   "source": [
    "file_size( \"../data/scratch/penguins-large.feather\" )"
   ]
  },
  {
   "cell_type": "code",
   "execution_count": 76,
   "id": "393b0518",
   "metadata": {},
   "outputs": [
    {
     "name": "stdout",
     "output_type": "stream",
     "text": [
      "../data/scratch/penguins-large_nona.feather \t\t 50.93 MB\n"
     ]
    }
   ],
   "source": [
    "file_size( \"../data/scratch/penguins-large_nona.feather\" )"
   ]
  },
  {
   "cell_type": "markdown",
   "id": "c01b10c8",
   "metadata": {},
   "source": [
    "## Read Performance"
   ]
  },
  {
   "cell_type": "code",
   "execution_count": 77,
   "id": "6da4f623",
   "metadata": {},
   "outputs": [
    {
     "name": "stdout",
     "output_type": "stream",
     "text": [
      "544 ms ± 5.55 ms per loop (mean ± std. dev. of 7 runs, 1 loop each)\n"
     ]
    }
   ],
   "source": [
    "%timeit pd.read_csv(\"../data/scratch/penguins-large.csv\")"
   ]
  },
  {
   "cell_type": "code",
   "execution_count": 78,
   "id": "ca334cc0",
   "metadata": {},
   "outputs": [
    {
     "name": "stdout",
     "output_type": "stream",
     "text": [
      "67.8 ms ± 1.22 ms per loop (mean ± std. dev. of 7 runs, 1 loop each)\n"
     ]
    }
   ],
   "source": [
    "%timeit pd.read_parquet(\"../data/scratch/penguins-large.parquet\")"
   ]
  },
  {
   "cell_type": "code",
   "execution_count": 83,
   "id": "65f6df12",
   "metadata": {},
   "outputs": [
    {
     "name": "stdout",
     "output_type": "stream",
     "text": [
      "31.2 ms ± 603 µs per loop (mean ± std. dev. of 7 runs, 10 loops each)\n"
     ]
    }
   ],
   "source": [
    "%timeit csv.read_csv(\"../data/scratch/penguins-large.csv\")"
   ]
  },
  {
   "cell_type": "code",
   "execution_count": 84,
   "id": "631aba7f",
   "metadata": {},
   "outputs": [],
   "source": [
    "import pyarrow"
   ]
  },
  {
   "cell_type": "code",
   "execution_count": 86,
   "id": "c99f1e1f",
   "metadata": {},
   "outputs": [
    {
     "name": "stdout",
     "output_type": "stream",
     "text": [
      "18.9 ms ± 33.2 µs per loop (mean ± std. dev. of 7 runs, 100 loops each)\n"
     ]
    }
   ],
   "source": [
    "%timeit pyarrow.parquet.read_table(\"../data/scratch/penguins-large.parquet\")"
   ]
  },
  {
   "cell_type": "code",
   "execution_count": 87,
   "id": "abd3ba27",
   "metadata": {},
   "outputs": [
    {
     "name": "stdout",
     "output_type": "stream",
     "text": [
      "9.86 ms ± 111 µs per loop (mean ± std. dev. of 7 runs, 100 loops each)\n"
     ]
    }
   ],
   "source": [
    "%timeit pyarrow.feather.read_table(\"../data/scratch/penguins-large.feather\")"
   ]
  },
  {
   "cell_type": "code",
   "execution_count": 88,
   "id": "e047910c",
   "metadata": {},
   "outputs": [
    {
     "name": "stdout",
     "output_type": "stream",
     "text": [
      "9.72 ms ± 101 µs per loop (mean ± std. dev. of 7 runs, 100 loops each)\n"
     ]
    }
   ],
   "source": [
    "%timeit pyarrow.feather.read_table(\"../data/scratch/penguins-large_nona.feather\")"
   ]
  },
  {
   "cell_type": "code",
   "execution_count": 89,
   "id": "56e1c954",
   "metadata": {},
   "outputs": [
    {
     "name": "stdout",
     "output_type": "stream",
     "text": [
      "75.9 ms ± 599 µs per loop (mean ± std. dev. of 7 runs, 10 loops each)\n"
     ]
    }
   ],
   "source": [
    "%timeit pyarrow.csv.read_csv(\"../data/scratch/penguins-large.csv\").to_pandas()"
   ]
  },
  {
   "cell_type": "code",
   "execution_count": 91,
   "id": "62cc96bd",
   "metadata": {},
   "outputs": [
    {
     "name": "stdout",
     "output_type": "stream",
     "text": [
      "63.9 ms ± 139 µs per loop (mean ± std. dev. of 7 runs, 10 loops each)\n"
     ]
    }
   ],
   "source": [
    "%timeit pyarrow.parquet.read_table(\"../data/scratch/penguins-large.parquet\").to_pandas()"
   ]
  },
  {
   "cell_type": "code",
   "execution_count": 92,
   "id": "9572d6c2",
   "metadata": {},
   "outputs": [
    {
     "name": "stdout",
     "output_type": "stream",
     "text": [
      "55.1 ms ± 216 µs per loop (mean ± std. dev. of 7 runs, 10 loops each)\n"
     ]
    }
   ],
   "source": [
    "%timeit pyarrow.feather.read_feather(\"../data/scratch/penguins-large.feather\")"
   ]
  },
  {
   "cell_type": "code",
   "execution_count": 93,
   "id": "2d77d652",
   "metadata": {},
   "outputs": [
    {
     "name": "stdout",
     "output_type": "stream",
     "text": [
      "53.2 ms ± 416 µs per loop (mean ± std. dev. of 7 runs, 10 loops each)\n"
     ]
    }
   ],
   "source": [
    "%timeit pyarrow.feather.read_feather(\"../data/scratch/penguins-large_nona.feather\")"
   ]
  },
  {
   "cell_type": "code",
   "execution_count": 94,
   "id": "c347cf73",
   "metadata": {},
   "outputs": [
    {
     "name": "stdout",
     "output_type": "stream",
     "text": [
      "524 ms ± 15.2 ms per loop (mean ± std. dev. of 7 runs, 1 loop each)\n"
     ]
    }
   ],
   "source": [
    "%timeit pd.read_csv(\"../data/scratch/penguins-large.csv\")[\"flipper_length_mm\"].mean()"
   ]
  },
  {
   "cell_type": "code",
   "execution_count": 95,
   "id": "4757ab22",
   "metadata": {},
   "outputs": [
    {
     "name": "stdout",
     "output_type": "stream",
     "text": [
      "9.83 ms ± 50.1 µs per loop (mean ± std. dev. of 7 runs, 100 loops each)\n"
     ]
    }
   ],
   "source": [
    "%timeit pd.read_parquet(\"../data/scratch/penguins-large.parquet\",  columns=[\"flipper_length_mm\"]).mean()"
   ]
  },
  {
   "cell_type": "code",
   "execution_count": 96,
   "id": "8d439508",
   "metadata": {},
   "outputs": [
    {
     "name": "stdout",
     "output_type": "stream",
     "text": [
      "7.44 ms ± 135 µs per loop (mean ± std. dev. of 7 runs, 100 loops each)\n"
     ]
    }
   ],
   "source": [
    "%timeit pyarrow.parquet.read_table(\"../data/scratch/penguins-large.parquet\", columns=[\"flipper_length_mm\"]).to_pandas().mean()"
   ]
  },
  {
   "cell_type": "code",
   "execution_count": 97,
   "id": "1511dc93",
   "metadata": {},
   "outputs": [
    {
     "name": "stdout",
     "output_type": "stream",
     "text": [
      "22.9 ms ± 262 µs per loop (mean ± std. dev. of 7 runs, 10 loops each)\n"
     ]
    }
   ],
   "source": [
    "%timeit pyarrow.parquet.read_table(\"../data/scratch/penguins-large.parquet\")[\"flipper_length_mm\"].to_pandas().mean()"
   ]
  },
  {
   "cell_type": "code",
   "execution_count": 98,
   "id": "a617d306",
   "metadata": {},
   "outputs": [
    {
     "name": "stdout",
     "output_type": "stream",
     "text": [
      "6.8 ms ± 211 µs per loop (mean ± std. dev. of 7 runs, 100 loops each)\n"
     ]
    }
   ],
   "source": [
    "%timeit pyarrow.feather.read_table(\"../data/scratch/penguins-large.feather\", columns=[\"flipper_length_mm\"]).to_pandas().mean()\n"
   ]
  },
  {
   "cell_type": "code",
   "execution_count": 99,
   "id": "400ee4e5",
   "metadata": {},
   "outputs": [
    {
     "name": "stdout",
     "output_type": "stream",
     "text": [
      "20.2 ms ± 217 µs per loop (mean ± std. dev. of 7 runs, 100 loops each)\n"
     ]
    }
   ],
   "source": [
    "%timeit pyarrow.feather.read_table(\"../data/scratch/penguins-large.feather\")[\"flipper_length_mm\"].to_pandas().mean()"
   ]
  },
  {
   "cell_type": "code",
   "execution_count": 100,
   "id": "14fcbe4c",
   "metadata": {},
   "outputs": [
    {
     "name": "stdout",
     "output_type": "stream",
     "text": [
      "4.41 ms ± 116 µs per loop (mean ± std. dev. of 7 runs, 100 loops each)\n"
     ]
    }
   ],
   "source": [
    "%timeit pyarrow.feather.read_table(\"../data/scratch/penguins-large_nona.feather\", columns=[\"flipper_length_mm\"]).to_pandas().mean()"
   ]
  },
  {
   "cell_type": "code",
   "execution_count": 101,
   "id": "976f44bb",
   "metadata": {},
   "outputs": [
    {
     "name": "stdout",
     "output_type": "stream",
     "text": [
      "12.8 ms ± 256 µs per loop (mean ± std. dev. of 7 runs, 100 loops each)\n"
     ]
    }
   ],
   "source": [
    "%timeit pyarrow.feather.read_table(\"../data/scratch/penguins-large_nona.feather\")[\"flipper_length_mm\"].to_pandas().mean()"
   ]
  },
  {
   "cell_type": "markdown",
   "id": "24952397",
   "metadata": {},
   "source": [
    "## End notebook."
   ]
  },
  {
   "cell_type": "code",
   "execution_count": null,
   "id": "b2f63a8c",
   "metadata": {},
   "outputs": [],
   "source": []
  }
 ],
 "metadata": {
  "kernelspec": {
   "display_name": "Python3.11 (fmi08icds)",
   "language": "python",
   "name": "fmi08icds"
  },
  "language_info": {
   "codemirror_mode": {
    "name": "ipython",
    "version": 3
   },
   "file_extension": ".py",
   "mimetype": "text/x-python",
   "name": "python",
   "nbconvert_exporter": "python",
   "pygments_lexer": "ipython3",
   "version": "3.11.3"
  }
 },
 "nbformat": 4,
 "nbformat_minor": 5
}
