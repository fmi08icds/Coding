{
 "cells": [
  {
   "cell_type": "code",
   "execution_count": 41,
   "id": "03e4297a",
   "metadata": {},
   "outputs": [],
   "source": [
    "#import the necessary libraries\n",
    "import abc"
   ]
  },
  {
   "cell_type": "markdown",
   "id": "5253c53c",
   "metadata": {},
   "source": [
    "## Classes and objects"
   ]
  },
  {
   "cell_type": "code",
   "execution_count": 486,
   "id": "5dc93905",
   "metadata": {},
   "outputs": [],
   "source": [
    "class Rectangle(object): \n",
    "    \"\"\"An abtract representation of a rectangle\"\"\"\n",
    "    \n",
    "    #Attributes \n",
    "    p1 = (0, 0)\n",
    "    p2 = (1,2)\n",
    "    \n",
    "    #Methods \n",
    "    def area(self) : \n",
    "        return abs(self.p1[0] - self.p2[0])* abs(self.p1[1] - self.p2[1])\n",
    "    \n",
    "    #Setters like Java \n",
    "    def setP1(self, p1) : \n",
    "        self.p1 = p1 \n",
    "        \n",
    "    def setP2(self, p2) : \n",
    "        self.p2 = p2 \n",
    "    "
   ]
  },
  {
   "cell_type": "code",
   "execution_count": 487,
   "id": "36fa2344",
   "metadata": {},
   "outputs": [
    {
     "data": {
      "text/plain": [
       "(0, 0)"
      ]
     },
     "execution_count": 487,
     "metadata": {},
     "output_type": "execute_result"
    }
   ],
   "source": [
    "Rectangle.p1 "
   ]
  },
  {
   "cell_type": "code",
   "execution_count": 488,
   "id": "bd03f59a",
   "metadata": {},
   "outputs": [
    {
     "ename": "TypeError",
     "evalue": "Rectangle.area() missing 1 required positional argument: 'self'",
     "output_type": "error",
     "traceback": [
      "\u001b[0;31m---------------------------------------------------------------------------\u001b[0m",
      "\u001b[0;31mTypeError\u001b[0m                                 Traceback (most recent call last)",
      "Cell \u001b[0;32mIn[488], line 1\u001b[0m\n\u001b[0;32m----> 1\u001b[0m \u001b[43mRectangle\u001b[49m\u001b[38;5;241;43m.\u001b[39;49m\u001b[43marea\u001b[49m\u001b[43m(\u001b[49m\u001b[43m)\u001b[49m\n",
      "\u001b[0;31mTypeError\u001b[0m: Rectangle.area() missing 1 required positional argument: 'self'"
     ]
    }
   ],
   "source": [
    "Rectangle.area()"
   ]
  },
  {
   "cell_type": "code",
   "execution_count": null,
   "id": "ce3bdabe",
   "metadata": {},
   "outputs": [],
   "source": [
    "class Rectangle(object): \n",
    "    \"\"\"An abtract representation of a rectangle\"\"\"\n",
    "    \n",
    "    #Attributes \n",
    "    p1 = (0, 0)\n",
    "    p2 = (1,2)\n",
    "    \n",
    "    #Methods \n",
    "    def area(self) : \n",
    "        return abs(self.p1[0] - self.p2[0])* abs(self.p1[1] - self.p2[1])\n",
    "    \n",
    "    #Setters like Java \n",
    "    def setP1(self, p1) : \n",
    "        self.p1 = p1\n",
    "        \n",
    "        \n",
    "    def setP2(self, p2) : \n",
    "        self.p2 = p2 \n",
    "    "
   ]
  },
  {
   "cell_type": "code",
   "execution_count": 478,
   "id": "d503bd03",
   "metadata": {},
   "outputs": [
    {
     "ename": "TypeError",
     "evalue": "Rectangle.area() missing 1 required positional argument: 'self'",
     "output_type": "error",
     "traceback": [
      "\u001b[0;31m---------------------------------------------------------------------------\u001b[0m",
      "\u001b[0;31mTypeError\u001b[0m                                 Traceback (most recent call last)",
      "Cell \u001b[0;32mIn[478], line 1\u001b[0m\n\u001b[0;32m----> 1\u001b[0m \u001b[43mRectangle\u001b[49m\u001b[38;5;241;43m.\u001b[39;49m\u001b[43marea\u001b[49m\u001b[43m(\u001b[49m\u001b[43m)\u001b[49m\n",
      "\u001b[0;31mTypeError\u001b[0m: Rectangle.area() missing 1 required positional argument: 'self'"
     ]
    }
   ],
   "source": [
    "Rectangle.area()"
   ]
  },
  {
   "cell_type": "code",
   "execution_count": 489,
   "id": "94267e40",
   "metadata": {},
   "outputs": [
    {
     "data": {
      "text/plain": [
       "['__class__',\n",
       " '__delattr__',\n",
       " '__dict__',\n",
       " '__dir__',\n",
       " '__doc__',\n",
       " '__eq__',\n",
       " '__format__',\n",
       " '__ge__',\n",
       " '__getattribute__',\n",
       " '__getstate__',\n",
       " '__gt__',\n",
       " '__hash__',\n",
       " '__init__',\n",
       " '__init_subclass__',\n",
       " '__le__',\n",
       " '__lt__',\n",
       " '__module__',\n",
       " '__ne__',\n",
       " '__new__',\n",
       " '__reduce__',\n",
       " '__reduce_ex__',\n",
       " '__repr__',\n",
       " '__setattr__',\n",
       " '__sizeof__',\n",
       " '__str__',\n",
       " '__subclasshook__',\n",
       " '__weakref__',\n",
       " 'area',\n",
       " 'p1',\n",
       " 'p2',\n",
       " 'setP1',\n",
       " 'setP2']"
      ]
     },
     "execution_count": 489,
     "metadata": {},
     "output_type": "execute_result"
    }
   ],
   "source": [
    "rectangle = Rectangle()\n",
    "dir(rectangle)"
   ]
  },
  {
   "cell_type": "code",
   "execution_count": 382,
   "id": "32fc2aad",
   "metadata": {},
   "outputs": [
    {
     "data": {
      "text/plain": [
       "((0, 0), (1, 2))"
      ]
     },
     "execution_count": 382,
     "metadata": {},
     "output_type": "execute_result"
    }
   ],
   "source": [
    "(rectangle.p1, rectangle.p2 )"
   ]
  },
  {
   "cell_type": "code",
   "execution_count": 493,
   "id": "08a71382",
   "metadata": {},
   "outputs": [
    {
     "data": {
      "text/plain": [
       "(__main__.Rectangle, object)"
      ]
     },
     "execution_count": 493,
     "metadata": {},
     "output_type": "execute_result"
    }
   ],
   "source": [
    "Rectangle.__mro__"
   ]
  },
  {
   "cell_type": "code",
   "execution_count": 55,
   "id": "e54f087f",
   "metadata": {},
   "outputs": [],
   "source": [
    "rectangle.p1 = (2,1)"
   ]
  },
  {
   "cell_type": "code",
   "execution_count": 56,
   "id": "c64bef85",
   "metadata": {},
   "outputs": [
    {
     "data": {
      "text/plain": [
       "1"
      ]
     },
     "execution_count": 56,
     "metadata": {},
     "output_type": "execute_result"
    }
   ],
   "source": [
    "rectangle.area()"
   ]
  },
  {
   "cell_type": "code",
   "execution_count": 58,
   "id": "55bcb380",
   "metadata": {},
   "outputs": [
    {
     "data": {
      "text/plain": [
       "2"
      ]
     },
     "execution_count": 58,
     "metadata": {},
     "output_type": "execute_result"
    }
   ],
   "source": [
    "rectangle.setP1((0,0))\n",
    "rectangle.area()"
   ]
  },
  {
   "cell_type": "code",
   "execution_count": 521,
   "id": "99c2c26b",
   "metadata": {},
   "outputs": [],
   "source": [
    "class Rectangle: \n",
    "    \"\"\"An abtract representation of a rectangle\"\"\"\n",
    "    \n",
    "    #Constructor\n",
    "    def __init__(self, p1=None, p2=None) : \n",
    "        \n",
    "        self.p1 =  list([0,0])\n",
    "        self.p2 = list([1,2])\n",
    "    \n",
    "    #Methods \n",
    "    def area(self) : \n",
    "        return abs(self.p1[0] - self.p2[0])* abs(self.p1[1] - self.p2[1])\n",
    "    \n",
    "    #Setters like Java \n",
    "    def setP1(self, p1) : \n",
    "        self.p1 = p1 \n",
    "        \n",
    "    def setP2(self, p2) : \n",
    "        self.p2 = p2 \n",
    "    "
   ]
  },
  {
   "cell_type": "code",
   "execution_count": 522,
   "id": "1a1bef84",
   "metadata": {},
   "outputs": [
    {
     "data": {
      "text/plain": [
       "2"
      ]
     },
     "execution_count": 522,
     "metadata": {},
     "output_type": "execute_result"
    }
   ],
   "source": [
    "rectangle = Rectangle()\n",
    "rectangle.area()"
   ]
  },
  {
   "cell_type": "code",
   "execution_count": 523,
   "id": "ef71662e",
   "metadata": {},
   "outputs": [],
   "source": [
    "x = Rectangle()\n",
    "y = Rectangle()"
   ]
  },
  {
   "cell_type": "code",
   "execution_count": 524,
   "id": "fdecda7f",
   "metadata": {},
   "outputs": [],
   "source": [
    "x.p1[0] = 3"
   ]
  },
  {
   "cell_type": "code",
   "execution_count": 525,
   "id": "9e8f49f1",
   "metadata": {},
   "outputs": [
    {
     "data": {
      "text/plain": [
       "[0, 0]"
      ]
     },
     "execution_count": 525,
     "metadata": {},
     "output_type": "execute_result"
    }
   ],
   "source": [
    "y.p1"
   ]
  },
  {
   "cell_type": "code",
   "execution_count": 527,
   "id": "f854c095",
   "metadata": {},
   "outputs": [],
   "source": [
    "class Rectangle: \n",
    "    \"\"\"An abtract representation of a rectangle\"\"\"\n",
    "    \n",
    "    #Constructor\n",
    "    def __init__(self, p1=None, p2=None) : \n",
    "        \n",
    "        self.p1 =  list([0,0])\n",
    "        self.p2 = list([1,2])\n",
    "    \n",
    "    #Methods \n",
    "    def area(self) : \n",
    "        return abs(self.p1[0] - self.p2[0])* abs(self.p1[1] - self.p2[1])\n",
    "    \n",
    "    #Setters like Java \n",
    "    def setP1(self, p1) : \n",
    "        self.p1 = p1\n",
    "        return self \n",
    "        \n",
    "    def setP2(self, p2) : \n",
    "        self.p2 = p2 \n",
    "        return self \n",
    "    "
   ]
  },
  {
   "cell_type": "code",
   "execution_count": 528,
   "id": "b249b4a1",
   "metadata": {},
   "outputs": [],
   "source": [
    "rect1 = Rectangle().setP1((1,1))"
   ]
  },
  {
   "cell_type": "code",
   "execution_count": 531,
   "id": "995c1a1c",
   "metadata": {},
   "outputs": [
    {
     "data": {
      "text/plain": [
       "0"
      ]
     },
     "execution_count": 531,
     "metadata": {},
     "output_type": "execute_result"
    }
   ],
   "source": [
    "rect1.area()"
   ]
  },
  {
   "cell_type": "code",
   "execution_count": 532,
   "id": "c7de0cbb",
   "metadata": {},
   "outputs": [
    {
     "data": {
      "text/plain": [
       "(1, 1)"
      ]
     },
     "execution_count": 532,
     "metadata": {},
     "output_type": "execute_result"
    }
   ],
   "source": [
    "rect1.p1"
   ]
  },
  {
   "cell_type": "code",
   "execution_count": 533,
   "id": "a1782989",
   "metadata": {},
   "outputs": [
    {
     "data": {
      "text/plain": [
       "0"
      ]
     },
     "execution_count": 533,
     "metadata": {},
     "output_type": "execute_result"
    }
   ],
   "source": [
    "Rectangle().setP1((1,1)).area()"
   ]
  },
  {
   "cell_type": "code",
   "execution_count": 534,
   "id": "382aab5a",
   "metadata": {},
   "outputs": [],
   "source": [
    "l = [1,2,3]"
   ]
  },
  {
   "cell_type": "code",
   "execution_count": 535,
   "id": "a030686e",
   "metadata": {},
   "outputs": [],
   "source": [
    "l = l.append(5)"
   ]
  },
  {
   "cell_type": "code",
   "execution_count": 537,
   "id": "d98b4922",
   "metadata": {},
   "outputs": [
    {
     "data": {
      "text/plain": [
       "NoneType"
      ]
     },
     "execution_count": 537,
     "metadata": {},
     "output_type": "execute_result"
    }
   ],
   "source": [
    "type(l)"
   ]
  },
  {
   "cell_type": "code",
   "execution_count": 510,
   "id": "fb85b91a",
   "metadata": {},
   "outputs": [
    {
     "data": {
      "text/plain": [
       "[3, 0]"
      ]
     },
     "execution_count": 510,
     "metadata": {},
     "output_type": "execute_result"
    }
   ],
   "source": [
    "x.p1"
   ]
  },
  {
   "cell_type": "code",
   "execution_count": 497,
   "id": "b90fb8c9",
   "metadata": {},
   "outputs": [
    {
     "data": {
      "text/plain": [
       "['__class__',\n",
       " '__delattr__',\n",
       " '__dict__',\n",
       " '__dir__',\n",
       " '__doc__',\n",
       " '__eq__',\n",
       " '__format__',\n",
       " '__ge__',\n",
       " '__getattribute__',\n",
       " '__getstate__',\n",
       " '__gt__',\n",
       " '__hash__',\n",
       " '__init__',\n",
       " '__init_subclass__',\n",
       " '__le__',\n",
       " '__lt__',\n",
       " '__module__',\n",
       " '__ne__',\n",
       " '__new__',\n",
       " '__reduce__',\n",
       " '__reduce_ex__',\n",
       " '__repr__',\n",
       " '__setattr__',\n",
       " '__sizeof__',\n",
       " '__str__',\n",
       " '__subclasshook__',\n",
       " '__weakref__',\n",
       " 'area',\n",
       " 'setP1',\n",
       " 'setP2']"
      ]
     },
     "execution_count": 497,
     "metadata": {},
     "output_type": "execute_result"
    }
   ],
   "source": [
    "dir(Rectangle)"
   ]
  },
  {
   "cell_type": "code",
   "execution_count": 149,
   "id": "9b7032d2",
   "metadata": {},
   "outputs": [],
   "source": [
    "rectangle.p2 = (2,2)"
   ]
  },
  {
   "cell_type": "code",
   "execution_count": 150,
   "id": "063815e3",
   "metadata": {},
   "outputs": [
    {
     "data": {
      "text/plain": [
       "4"
      ]
     },
     "execution_count": 150,
     "metadata": {},
     "output_type": "execute_result"
    }
   ],
   "source": [
    "rectangle.area()"
   ]
  },
  {
   "cell_type": "code",
   "execution_count": 151,
   "id": "b7a8243d",
   "metadata": {},
   "outputs": [],
   "source": [
    "class RectanglePrivate: \n",
    "    \"\"\"An abtract representation of a rectangle\"\"\"\n",
    "    \n",
    "    #Constructor\n",
    "    def __init__(self, p1=(0,0), p2=(1,2)) : \n",
    "\n",
    "        self.__p1 = p1 #private\n",
    "        self.p2 = p2 #public \n",
    "    \n",
    "    #Methods \n",
    "    def area(self) : \n",
    "        return abs(self.__p1[0] - self.p2[0])* abs(self.__p1[1] - self.p2[1])\n",
    "    \n",
    "    #Setters like Java \n",
    "    def setP1(self, p1) : \n",
    "        self.__p1 = p1 \n",
    "        \n",
    "    def setP2(self, p2) : \n",
    "        self.p2 = p2 "
   ]
  },
  {
   "cell_type": "code",
   "execution_count": 152,
   "id": "93b18445",
   "metadata": {},
   "outputs": [
    {
     "data": {
      "text/plain": [
       "2"
      ]
     },
     "execution_count": 152,
     "metadata": {},
     "output_type": "execute_result"
    }
   ],
   "source": [
    "rectangle = RectanglePrivate()\n",
    "rectangle.area()"
   ]
  },
  {
   "cell_type": "code",
   "execution_count": 153,
   "id": "469b4633",
   "metadata": {},
   "outputs": [
    {
     "ename": "AttributeError",
     "evalue": "'RectanglePrivate' object has no attribute 'p1'",
     "output_type": "error",
     "traceback": [
      "\u001b[0;31m---------------------------------------------------------------------------\u001b[0m",
      "\u001b[0;31mAttributeError\u001b[0m                            Traceback (most recent call last)",
      "Cell \u001b[0;32mIn[153], line 1\u001b[0m\n\u001b[0;32m----> 1\u001b[0m \u001b[43mrectangle\u001b[49m\u001b[38;5;241;43m.\u001b[39;49m\u001b[43mp1\u001b[49m\n",
      "\u001b[0;31mAttributeError\u001b[0m: 'RectanglePrivate' object has no attribute 'p1'"
     ]
    }
   ],
   "source": [
    "rectangle.p1"
   ]
  },
  {
   "cell_type": "code",
   "execution_count": 526,
   "id": "bb92cd76",
   "metadata": {},
   "outputs": [],
   "source": [
    "class RectanglePrivate: \n",
    "    \"\"\"An abtract representation of a rectangle\"\"\"\n",
    "    \n",
    "    #Constructor\n",
    "    def __init__(self, p1=(0,0), p2=(1,2)) : \n",
    "\n",
    "        self.__p1 = p1 #private\n",
    "        self.p2 = p2 #public \n",
    "    \n",
    "    #Methods \n",
    "    def area(self) : \n",
    "        return abs(self.__p1[0] - self.p2[0])* abs(self.__p1[1] - self.p2[1])\n",
    "    \n",
    "    #Setters like Java \n",
    "    def setP1(self, p1) : \n",
    "        self.__p1 = p1 \n",
    "        return self \n",
    "        \n",
    "    def setP2(self, p2) : \n",
    "        self.p2 = p2 \n",
    "        return self "
   ]
  },
  {
   "cell_type": "code",
   "execution_count": null,
   "id": "2ad121a2",
   "metadata": {},
   "outputs": [],
   "source": []
  },
  {
   "cell_type": "code",
   "execution_count": null,
   "id": "1732c997",
   "metadata": {},
   "outputs": [],
   "source": []
  },
  {
   "cell_type": "code",
   "execution_count": 154,
   "id": "036e50cc",
   "metadata": {},
   "outputs": [
    {
     "ename": "AttributeError",
     "evalue": "'RectanglePrivate' object has no attribute '__p1'",
     "output_type": "error",
     "traceback": [
      "\u001b[0;31m---------------------------------------------------------------------------\u001b[0m",
      "\u001b[0;31mAttributeError\u001b[0m                            Traceback (most recent call last)",
      "Cell \u001b[0;32mIn[154], line 1\u001b[0m\n\u001b[0;32m----> 1\u001b[0m \u001b[43mrectangle\u001b[49m\u001b[38;5;241;43m.\u001b[39;49m\u001b[43m__p1\u001b[49m\n",
      "\u001b[0;31mAttributeError\u001b[0m: 'RectanglePrivate' object has no attribute '__p1'"
     ]
    }
   ],
   "source": [
    "rectangle.__p1"
   ]
  },
  {
   "cell_type": "code",
   "execution_count": null,
   "id": "76607407",
   "metadata": {},
   "outputs": [],
   "source": []
  },
  {
   "cell_type": "code",
   "execution_count": 135,
   "id": "04b47d95",
   "metadata": {},
   "outputs": [
    {
     "data": {
      "text/plain": [
       "['_RectanglePrivate__p1',\n",
       " '__class__',\n",
       " '__delattr__',\n",
       " '__dict__',\n",
       " '__dir__',\n",
       " '__doc__',\n",
       " '__eq__',\n",
       " '__format__',\n",
       " '__ge__',\n",
       " '__getattribute__',\n",
       " '__getstate__',\n",
       " '__gt__',\n",
       " '__hash__',\n",
       " '__init__',\n",
       " '__init_subclass__',\n",
       " '__le__',\n",
       " '__lt__',\n",
       " '__module__',\n",
       " '__ne__',\n",
       " '__new__',\n",
       " '__reduce__',\n",
       " '__reduce_ex__',\n",
       " '__repr__',\n",
       " '__setattr__',\n",
       " '__sizeof__',\n",
       " '__str__',\n",
       " '__subclasshook__',\n",
       " '__weakref__',\n",
       " 'area',\n",
       " 'p2',\n",
       " 'setP1',\n",
       " 'setP2',\n",
       " 'tete',\n",
       " 'toto']"
      ]
     },
     "execution_count": 135,
     "metadata": {},
     "output_type": "execute_result"
    }
   ],
   "source": [
    "dir(rectangle)"
   ]
  },
  {
   "cell_type": "code",
   "execution_count": 240,
   "id": "7d0a17c8",
   "metadata": {},
   "outputs": [
    {
     "data": {
      "text/plain": [
       "'An abtract representation of a rectangle'"
      ]
     },
     "execution_count": 240,
     "metadata": {},
     "output_type": "execute_result"
    }
   ],
   "source": [
    "rectangle.__doc__"
   ]
  },
  {
   "cell_type": "code",
   "execution_count": 137,
   "id": "2f944992",
   "metadata": {},
   "outputs": [],
   "source": [
    "rectangle._RectanglePrivate__p1 = (2,2)"
   ]
  },
  {
   "cell_type": "code",
   "execution_count": 146,
   "id": "8c90ebb2",
   "metadata": {},
   "outputs": [
    {
     "data": {
      "text/plain": [
       "2"
      ]
     },
     "execution_count": 146,
     "metadata": {},
     "output_type": "execute_result"
    }
   ],
   "source": [
    "rectangle.setP1((0,0))\n",
    "rectangle.area()"
   ]
  },
  {
   "cell_type": "markdown",
   "id": "67718221",
   "metadata": {},
   "source": [
    "# Method chaining"
   ]
  },
  {
   "cell_type": "code",
   "execution_count": 243,
   "id": "9d7627e3",
   "metadata": {},
   "outputs": [],
   "source": [
    "class Rectangle:\n",
    "    \"\"\"An object representation of a rectangle\"\"\"\n",
    "    # Constructor\n",
    "    def __init__(self, p1 = (0,0), p2 = (1,1)):\n",
    "        self.p1 = p1\n",
    "        self.p2 = p2\n",
    "    \n",
    "    # Methods\n",
    "    def area(self):\n",
    "        return abs(self.p1[0] - self.p2[0]) * abs(self.p1[1] - self.p2[1])\n",
    "    \n",
    "    # Setters\n",
    "    def setP1(self, p1):\n",
    "        self.p1 = p1\n",
    "        return self\n",
    "    \n",
    "    def setP2(self, p2):\n",
    "        self.p2 = p2\n",
    "        return self\n"
   ]
  },
  {
   "cell_type": "code",
   "execution_count": 244,
   "id": "d2150de5",
   "metadata": {},
   "outputs": [
    {
     "data": {
      "text/plain": [
       "1"
      ]
     },
     "execution_count": 244,
     "metadata": {},
     "output_type": "execute_result"
    }
   ],
   "source": [
    "Rectangle().area()"
   ]
  },
  {
   "cell_type": "code",
   "execution_count": 246,
   "id": "a1eb53ec",
   "metadata": {},
   "outputs": [
    {
     "data": {
      "text/plain": [
       "4"
      ]
     },
     "execution_count": 246,
     "metadata": {},
     "output_type": "execute_result"
    }
   ],
   "source": [
    "Rectangle().setP1((-1,-1)).area()"
   ]
  },
  {
   "cell_type": "markdown",
   "id": "1badb0b3",
   "metadata": {},
   "source": [
    "## Class object string formating"
   ]
  },
  {
   "cell_type": "code",
   "execution_count": 250,
   "id": "3cdb7257",
   "metadata": {},
   "outputs": [],
   "source": [
    "def rect_str(self):\n",
    "    return f\"Rectangle[{self.p1}, {self.p2}] => area={self.area()}\"\n",
    "Rectangle.__str__ = rect_str"
   ]
  },
  {
   "cell_type": "code",
   "execution_count": 251,
   "id": "d264c5c0",
   "metadata": {},
   "outputs": [
    {
     "name": "stdout",
     "output_type": "stream",
     "text": [
      "Rectangle[(0, 0), (1, 1)] => area=1\n"
     ]
    }
   ],
   "source": [
    "print(Rectangle())"
   ]
  },
  {
   "cell_type": "code",
   "execution_count": 252,
   "id": "a880dd10",
   "metadata": {},
   "outputs": [
    {
     "data": {
      "text/plain": [
       "<__main__.Rectangle at 0x1098a1e10>"
      ]
     },
     "execution_count": 252,
     "metadata": {},
     "output_type": "execute_result"
    }
   ],
   "source": [
    "Rectangle()"
   ]
  },
  {
   "cell_type": "code",
   "execution_count": 253,
   "id": "6fa8eb39",
   "metadata": {},
   "outputs": [
    {
     "data": {
      "text/plain": [
       "'Rectangle[(0, 0), (1, 1)] => area=1'"
      ]
     },
     "execution_count": 253,
     "metadata": {},
     "output_type": "execute_result"
    }
   ],
   "source": [
    "str(Rectangle())"
   ]
  },
  {
   "cell_type": "code",
   "execution_count": 256,
   "id": "3cfb749d",
   "metadata": {},
   "outputs": [],
   "source": [
    "def rect_repr(self):\n",
    "    return f\"Rectangle({self.p1}, {self.p2})\"\n",
    "Rectangle.__repr__ = rect_repr"
   ]
  },
  {
   "cell_type": "code",
   "execution_count": 257,
   "id": "a2661dd3",
   "metadata": {},
   "outputs": [
    {
     "data": {
      "text/plain": [
       "'Rectangle((0, 0), (1, 1))'"
      ]
     },
     "execution_count": 257,
     "metadata": {},
     "output_type": "execute_result"
    }
   ],
   "source": [
    "repr(Rectangle())"
   ]
  },
  {
   "cell_type": "code",
   "execution_count": 259,
   "id": "7ec93982",
   "metadata": {},
   "outputs": [
    {
     "name": "stdout",
     "output_type": "stream",
     "text": [
      "Rectangle[(0, 0), (1, 1)] => area=1\n"
     ]
    }
   ],
   "source": [
    "print(Rectangle())"
   ]
  },
  {
   "cell_type": "code",
   "execution_count": 260,
   "id": "28cfe8b4",
   "metadata": {},
   "outputs": [
    {
     "data": {
      "text/plain": [
       "Rectangle((0, 0), (1, 1))"
      ]
     },
     "execution_count": 260,
     "metadata": {},
     "output_type": "execute_result"
    }
   ],
   "source": [
    "Rectangle()"
   ]
  },
  {
   "cell_type": "markdown",
   "id": "f2c814a6",
   "metadata": {},
   "source": [
    "## Interfaces and abstract classes"
   ]
  },
  {
   "cell_type": "code",
   "execution_count": 490,
   "id": "8ef28981",
   "metadata": {},
   "outputs": [],
   "source": [
    "class IRectangle(abc.ABC) :   \n",
    "\n",
    "    @abc.abstractmethod\n",
    "    def area(self): \n",
    "        pass \n",
    "    \n",
    "    @abc.abstractmethod\n",
    "    def perimeter(self): \n",
    "        pass \n"
   ]
  },
  {
   "cell_type": "code",
   "execution_count": 494,
   "id": "9e49d55e",
   "metadata": {},
   "outputs": [
    {
     "data": {
      "text/plain": [
       "(__main__.IRectangle, abc.ABC, object)"
      ]
     },
     "execution_count": 494,
     "metadata": {},
     "output_type": "execute_result"
    }
   ],
   "source": [
    "IRectangle.__mro__"
   ]
  },
  {
   "cell_type": "code",
   "execution_count": 419,
   "id": "92fa8e6b",
   "metadata": {},
   "outputs": [],
   "source": [
    "class Rectangle(IRectangle) :\n",
    "    pass"
   ]
  },
  {
   "cell_type": "code",
   "execution_count": 420,
   "id": "2ba159b8",
   "metadata": {},
   "outputs": [
    {
     "ename": "TypeError",
     "evalue": "Can't instantiate abstract class Rectangle with abstract methods area, perimeter",
     "output_type": "error",
     "traceback": [
      "\u001b[0;31m---------------------------------------------------------------------------\u001b[0m",
      "\u001b[0;31mTypeError\u001b[0m                                 Traceback (most recent call last)",
      "Cell \u001b[0;32mIn[420], line 1\u001b[0m\n\u001b[0;32m----> 1\u001b[0m rect \u001b[38;5;241m=\u001b[39m \u001b[43mRectangle\u001b[49m\u001b[43m(\u001b[49m\u001b[43m)\u001b[49m\n",
      "\u001b[0;31mTypeError\u001b[0m: Can't instantiate abstract class Rectangle with abstract methods area, perimeter"
     ]
    }
   ],
   "source": [
    "rect = Rectangle()"
   ]
  },
  {
   "cell_type": "code",
   "execution_count": 421,
   "id": "257ed554",
   "metadata": {},
   "outputs": [
    {
     "data": {
      "text/plain": [
       "(__main__.IRectangle, abc.ABC, object)"
      ]
     },
     "execution_count": 421,
     "metadata": {},
     "output_type": "execute_result"
    }
   ],
   "source": [
    "IRectangle.__mro__"
   ]
  },
  {
   "cell_type": "code",
   "execution_count": 422,
   "id": "3a036be1",
   "metadata": {},
   "outputs": [],
   "source": [
    "class Rectangle(IRectangle) :\n",
    "    \n",
    "    #Constructor\n",
    "    def __init__(self, p1=(0,0), p2=(1,2)) :         \n",
    "        self.p1 = p1\n",
    "        self.p2 = p2\n",
    "        \n",
    "    def area(self): \n",
    "        return abs(self.p1[0] - self.p2[0])* abs(self.p1[1] - self.p2[1]) \n",
    "    \n",
    "    def perimeter(self) : \n",
    "        return (abs(self.p1[0] - self.p2[0]) + abs(self.p1[1] - self.p2[1]) )*2 "
   ]
  },
  {
   "cell_type": "code",
   "execution_count": 423,
   "id": "13994da6",
   "metadata": {},
   "outputs": [],
   "source": [
    "rect = Rectangle()"
   ]
  },
  {
   "cell_type": "code",
   "execution_count": 424,
   "id": "1e483821",
   "metadata": {},
   "outputs": [
    {
     "data": {
      "text/plain": [
       "2"
      ]
     },
     "execution_count": 424,
     "metadata": {},
     "output_type": "execute_result"
    }
   ],
   "source": [
    "rect.area()"
   ]
  },
  {
   "cell_type": "code",
   "execution_count": 425,
   "id": "ef1c0def",
   "metadata": {},
   "outputs": [],
   "source": [
    "def call_area(rect: IRectangle) : \n",
    "    return rect.area()"
   ]
  },
  {
   "cell_type": "code",
   "execution_count": 426,
   "id": "e8eb67bc",
   "metadata": {},
   "outputs": [
    {
     "data": {
      "text/plain": [
       "2"
      ]
     },
     "execution_count": 426,
     "metadata": {},
     "output_type": "execute_result"
    }
   ],
   "source": [
    "call_area(rect)"
   ]
  },
  {
   "cell_type": "code",
   "execution_count": 427,
   "id": "a065be4b",
   "metadata": {},
   "outputs": [],
   "source": [
    "rect: IRectangle = Rectangle()"
   ]
  },
  {
   "cell_type": "code",
   "execution_count": 428,
   "id": "1e70e1f4",
   "metadata": {},
   "outputs": [
    {
     "data": {
      "text/plain": [
       "2"
      ]
     },
     "execution_count": 428,
     "metadata": {},
     "output_type": "execute_result"
    }
   ],
   "source": [
    "rect.area()"
   ]
  },
  {
   "cell_type": "code",
   "execution_count": 429,
   "id": "00705d10",
   "metadata": {},
   "outputs": [
    {
     "data": {
      "text/plain": [
       "__main__.Rectangle"
      ]
     },
     "execution_count": 429,
     "metadata": {},
     "output_type": "execute_result"
    }
   ],
   "source": [
    "type(rect)"
   ]
  },
  {
   "cell_type": "code",
   "execution_count": 167,
   "id": "a704b959",
   "metadata": {},
   "outputs": [],
   "source": [
    "class AbstractRectangle(abc.ABC) :   \n",
    "    \n",
    "    #Constructor\n",
    "    def __init__(self, p1=(0,0), p2=(1,2)) :         \n",
    "        self.p1 = p1\n",
    "        self.p2 = p2\n",
    "\n",
    "    @abc.abstractmethod\n",
    "    def area(self): \n",
    "        pass \n",
    "    \n",
    "    def perimeter(self) : \n",
    "        return (abs(self.p1[0] - self.p2[0]) + abs(self.p1[1] - self.p2[1]) )*2 "
   ]
  },
  {
   "cell_type": "code",
   "execution_count": 179,
   "id": "7af65cff",
   "metadata": {},
   "outputs": [
    {
     "ename": "TypeError",
     "evalue": "Can't instantiate abstract class AbstractRectangle with abstract method area",
     "output_type": "error",
     "traceback": [
      "\u001b[0;31m---------------------------------------------------------------------------\u001b[0m",
      "\u001b[0;31mTypeError\u001b[0m                                 Traceback (most recent call last)",
      "Cell \u001b[0;32mIn[179], line 1\u001b[0m\n\u001b[0;32m----> 1\u001b[0m rect \u001b[38;5;241m=\u001b[39m \u001b[43mAbstractRectangle\u001b[49m\u001b[43m(\u001b[49m\u001b[43m)\u001b[49m\n",
      "\u001b[0;31mTypeError\u001b[0m: Can't instantiate abstract class AbstractRectangle with abstract method area"
     ]
    }
   ],
   "source": [
    "rect = AbstractRectangle()"
   ]
  },
  {
   "cell_type": "code",
   "execution_count": 180,
   "id": "ec8b9697",
   "metadata": {},
   "outputs": [],
   "source": [
    "class Rectangle(AbstractRectangle) :\n",
    "    \n",
    "    def area(self): \n",
    "        return abs(self.p1[0] - self.p2[0])* abs(self.p1[1] - self.p2[1]) "
   ]
  },
  {
   "cell_type": "code",
   "execution_count": 182,
   "id": "ee34ba35",
   "metadata": {},
   "outputs": [
    {
     "data": {
      "text/plain": [
       "6"
      ]
     },
     "execution_count": 182,
     "metadata": {},
     "output_type": "execute_result"
    }
   ],
   "source": [
    "rect = Rectangle()\n",
    "rect.area()\n",
    "rect.perimeter()"
   ]
  },
  {
   "cell_type": "markdown",
   "id": "0b707f5c",
   "metadata": {},
   "source": [
    "## Inheratance in Python\n"
   ]
  },
  {
   "cell_type": "code",
   "execution_count": 223,
   "id": "6b868453",
   "metadata": {},
   "outputs": [],
   "source": [
    "class Square(Rectangle):\n",
    "    pass"
   ]
  },
  {
   "cell_type": "code",
   "execution_count": 226,
   "id": "c0a3118b",
   "metadata": {},
   "outputs": [
    {
     "data": {
      "text/plain": [
       "2"
      ]
     },
     "execution_count": 226,
     "metadata": {},
     "output_type": "execute_result"
    }
   ],
   "source": [
    "square = Square()\n",
    "square.area()"
   ]
  },
  {
   "cell_type": "markdown",
   "id": "06bd612f",
   "metadata": {},
   "source": [
    "## Overriding methods during inheritance"
   ]
  },
  {
   "cell_type": "code",
   "execution_count": 262,
   "id": "c67a3603",
   "metadata": {},
   "outputs": [],
   "source": [
    "class Square(Rectangle):\n",
    "    def __init__(self, p1=(0,0), l=1):\n",
    "        assert isinstance(l, (float, int)), \"l must be a number\"\n",
    "        p2 = (p1[0]+l, p1[1]+l)\n",
    "        self.l  = l\n",
    "        super().__init__(p1, p2)\n",
    "    \n",
    "    def setP1(self, p1):\n",
    "        self.p1 = p1\n",
    "        self.p2 = (self.p1[0]+self.l, self.p1[1]+self.l)\n",
    "        return self\n",
    "    \n",
    "    def setP2(self, p2):\n",
    "        raise RuntimeError(\"Squares take l not p2\")\n",
    "    \n",
    "    def setL(self, l):\n",
    "        assert isinstance(l, (float, int)), \"l must be a number\"\n",
    "        self.l  = l\n",
    "        self.p2 = (self.p1[0]+l, self.p1[1]+l)\n",
    "        return self\n",
    "    \n",
    "    def __repr__(self):\n",
    "        return f\"square({self.p1}, {self.l})\"\n"
   ]
  },
  {
   "cell_type": "code",
   "execution_count": 263,
   "id": "da92027b",
   "metadata": {},
   "outputs": [
    {
     "data": {
      "text/plain": [
       "square((0, 0), 1)"
      ]
     },
     "execution_count": 263,
     "metadata": {},
     "output_type": "execute_result"
    }
   ],
   "source": [
    "square = Square()\n",
    "square"
   ]
  },
  {
   "cell_type": "code",
   "execution_count": 264,
   "id": "7df7fdcf",
   "metadata": {},
   "outputs": [
    {
     "data": {
      "text/plain": [
       "1"
      ]
     },
     "execution_count": 264,
     "metadata": {},
     "output_type": "execute_result"
    }
   ],
   "source": [
    "Square().area()"
   ]
  },
  {
   "cell_type": "code",
   "execution_count": 265,
   "id": "b5acfdee",
   "metadata": {},
   "outputs": [
    {
     "data": {
      "text/plain": [
       "1"
      ]
     },
     "execution_count": 265,
     "metadata": {},
     "output_type": "execute_result"
    }
   ],
   "source": [
    "Square().setP1((-1,-1)).area()"
   ]
  },
  {
   "cell_type": "code",
   "execution_count": 266,
   "id": "13e74bcc",
   "metadata": {},
   "outputs": [
    {
     "data": {
      "text/plain": [
       "4"
      ]
     },
     "execution_count": 266,
     "metadata": {},
     "output_type": "execute_result"
    }
   ],
   "source": [
    "Square().setL(2).area()"
   ]
  },
  {
   "cell_type": "code",
   "execution_count": 267,
   "id": "9a328483",
   "metadata": {},
   "outputs": [
    {
     "ename": "AssertionError",
     "evalue": "l must be a number",
     "output_type": "error",
     "traceback": [
      "\u001b[0;31m---------------------------------------------------------------------------\u001b[0m",
      "\u001b[0;31mAssertionError\u001b[0m                            Traceback (most recent call last)",
      "Cell \u001b[0;32mIn[267], line 1\u001b[0m\n\u001b[0;32m----> 1\u001b[0m \u001b[43mSquare\u001b[49m\u001b[43m(\u001b[49m\u001b[43m(\u001b[49m\u001b[38;5;241;43m0\u001b[39;49m\u001b[43m,\u001b[49m\u001b[38;5;241;43m0\u001b[39;49m\u001b[43m)\u001b[49m\u001b[43m,\u001b[49m\u001b[43m \u001b[49m\u001b[43m(\u001b[49m\u001b[38;5;241;43m1\u001b[39;49m\u001b[43m,\u001b[49m\u001b[38;5;241;43m1\u001b[39;49m\u001b[43m)\u001b[49m\u001b[43m)\u001b[49m\n",
      "Cell \u001b[0;32mIn[262], line 3\u001b[0m, in \u001b[0;36mSquare.__init__\u001b[0;34m(self, p1, l)\u001b[0m\n\u001b[1;32m      2\u001b[0m \u001b[38;5;28;01mdef\u001b[39;00m \u001b[38;5;21m__init__\u001b[39m(\u001b[38;5;28mself\u001b[39m, p1\u001b[38;5;241m=\u001b[39m(\u001b[38;5;241m0\u001b[39m,\u001b[38;5;241m0\u001b[39m), l\u001b[38;5;241m=\u001b[39m\u001b[38;5;241m1\u001b[39m):\n\u001b[0;32m----> 3\u001b[0m     \u001b[38;5;28;01massert\u001b[39;00m \u001b[38;5;28misinstance\u001b[39m(l, (\u001b[38;5;28mfloat\u001b[39m, \u001b[38;5;28mint\u001b[39m)), \u001b[38;5;124m\"\u001b[39m\u001b[38;5;124ml must be a number\u001b[39m\u001b[38;5;124m\"\u001b[39m\n\u001b[1;32m      4\u001b[0m     p2 \u001b[38;5;241m=\u001b[39m (p1[\u001b[38;5;241m0\u001b[39m]\u001b[38;5;241m+\u001b[39ml, p1[\u001b[38;5;241m1\u001b[39m]\u001b[38;5;241m+\u001b[39ml)\n\u001b[1;32m      5\u001b[0m     \u001b[38;5;28mself\u001b[39m\u001b[38;5;241m.\u001b[39ml  \u001b[38;5;241m=\u001b[39m l\n",
      "\u001b[0;31mAssertionError\u001b[0m: l must be a number"
     ]
    }
   ],
   "source": [
    "Square((0,0), (1,1))"
   ]
  },
  {
   "cell_type": "code",
   "execution_count": 268,
   "id": "1401f627",
   "metadata": {},
   "outputs": [
    {
     "ename": "AssertionError",
     "evalue": "l must be a number",
     "output_type": "error",
     "traceback": [
      "\u001b[0;31m---------------------------------------------------------------------------\u001b[0m",
      "\u001b[0;31mAssertionError\u001b[0m                            Traceback (most recent call last)",
      "Cell \u001b[0;32mIn[268], line 1\u001b[0m\n\u001b[0;32m----> 1\u001b[0m \u001b[43mSquare\u001b[49m\u001b[43m(\u001b[49m\u001b[43m)\u001b[49m\u001b[38;5;241;43m.\u001b[39;49m\u001b[43msetL\u001b[49m\u001b[43m(\u001b[49m\u001b[43m(\u001b[49m\u001b[38;5;241;43m0\u001b[39;49m\u001b[43m,\u001b[49m\u001b[38;5;241;43m0\u001b[39;49m\u001b[43m)\u001b[49m\u001b[43m)\u001b[49m\n",
      "Cell \u001b[0;32mIn[262], line 17\u001b[0m, in \u001b[0;36mSquare.setL\u001b[0;34m(self, l)\u001b[0m\n\u001b[1;32m     16\u001b[0m \u001b[38;5;28;01mdef\u001b[39;00m \u001b[38;5;21msetL\u001b[39m(\u001b[38;5;28mself\u001b[39m, l):\n\u001b[0;32m---> 17\u001b[0m     \u001b[38;5;28;01massert\u001b[39;00m \u001b[38;5;28misinstance\u001b[39m(l, (\u001b[38;5;28mfloat\u001b[39m, \u001b[38;5;28mint\u001b[39m)), \u001b[38;5;124m\"\u001b[39m\u001b[38;5;124ml must be a number\u001b[39m\u001b[38;5;124m\"\u001b[39m\n\u001b[1;32m     18\u001b[0m     \u001b[38;5;28mself\u001b[39m\u001b[38;5;241m.\u001b[39ml  \u001b[38;5;241m=\u001b[39m l\n\u001b[1;32m     19\u001b[0m     \u001b[38;5;28mself\u001b[39m\u001b[38;5;241m.\u001b[39mp2 \u001b[38;5;241m=\u001b[39m (\u001b[38;5;28mself\u001b[39m\u001b[38;5;241m.\u001b[39mp1[\u001b[38;5;241m0\u001b[39m]\u001b[38;5;241m+\u001b[39ml, \u001b[38;5;28mself\u001b[39m\u001b[38;5;241m.\u001b[39mp1[\u001b[38;5;241m1\u001b[39m]\u001b[38;5;241m+\u001b[39ml)\n",
      "\u001b[0;31mAssertionError\u001b[0m: l must be a number"
     ]
    }
   ],
   "source": [
    "Square().setL((0,0))"
   ]
  },
  {
   "cell_type": "code",
   "execution_count": 269,
   "id": "6496f911",
   "metadata": {},
   "outputs": [
    {
     "ename": "RuntimeError",
     "evalue": "Squares take l not p2",
     "output_type": "error",
     "traceback": [
      "\u001b[0;31m---------------------------------------------------------------------------\u001b[0m",
      "\u001b[0;31mRuntimeError\u001b[0m                              Traceback (most recent call last)",
      "Cell \u001b[0;32mIn[269], line 1\u001b[0m\n\u001b[0;32m----> 1\u001b[0m \u001b[43mSquare\u001b[49m\u001b[43m(\u001b[49m\u001b[43m)\u001b[49m\u001b[38;5;241;43m.\u001b[39;49m\u001b[43msetP2\u001b[49m\u001b[43m(\u001b[49m\u001b[43m(\u001b[49m\u001b[38;5;241;43m0\u001b[39;49m\u001b[43m,\u001b[49m\u001b[38;5;241;43m0\u001b[39;49m\u001b[43m)\u001b[49m\u001b[43m)\u001b[49m\n",
      "Cell \u001b[0;32mIn[262], line 14\u001b[0m, in \u001b[0;36mSquare.setP2\u001b[0;34m(self, p2)\u001b[0m\n\u001b[1;32m     13\u001b[0m \u001b[38;5;28;01mdef\u001b[39;00m \u001b[38;5;21msetP2\u001b[39m(\u001b[38;5;28mself\u001b[39m, p2):\n\u001b[0;32m---> 14\u001b[0m     \u001b[38;5;28;01mraise\u001b[39;00m \u001b[38;5;167;01mRuntimeError\u001b[39;00m(\u001b[38;5;124m\"\u001b[39m\u001b[38;5;124mSquares take l not p2\u001b[39m\u001b[38;5;124m\"\u001b[39m)\n",
      "\u001b[0;31mRuntimeError\u001b[0m: Squares take l not p2"
     ]
    }
   ],
   "source": [
    "Square().setP2((0,0))"
   ]
  },
  {
   "cell_type": "markdown",
   "id": "3ede15c6",
   "metadata": {},
   "source": [
    "## Making an object iterable"
   ]
  },
  {
   "cell_type": "code",
   "execution_count": 270,
   "id": "c0d7c85f",
   "metadata": {},
   "outputs": [],
   "source": [
    "class Rectangle:\n",
    "    \"\"\"An object representation of a rectangle\"\"\"\n",
    "    # Constructor\n",
    "    def __init__(self, p1 = (0,0), p2 = (1,1)):\n",
    "        self.p1 = p1\n",
    "        self.p2 = p2\n",
    "    \n",
    "    # Methods\n",
    "    def area(self):\n",
    "        return abs(self.p1[0] - self.p2[0]) * abs(self.p1[1] - self.p2[1])\n",
    "    \n",
    "    # implemented methods\n",
    "    def __iter__(self):\n",
    "        return iter([self.p1, (self.p1[0], self.p2[1]), self.p2, (self.p2[0], self.p1[1])])\n",
    "\n",
    "    # Setters\n",
    "    def setP1(self, p1):\n",
    "        self.p1 = p1\n",
    "        return self\n",
    "    \n",
    "    def setP2(self, p2):\n",
    "        self.p2 = p2\n",
    "        return self\n"
   ]
  },
  {
   "cell_type": "code",
   "execution_count": 271,
   "id": "098b81f2",
   "metadata": {},
   "outputs": [
    {
     "name": "stdout",
     "output_type": "stream",
     "text": [
      "(0, 0)\n",
      "(0, 1)\n",
      "(1, 1)\n",
      "(1, 0)\n"
     ]
    }
   ],
   "source": [
    "for pt in Rectangle():\n",
    "    print(pt)"
   ]
  },
  {
   "cell_type": "code",
   "execution_count": 280,
   "id": "fa175e01",
   "metadata": {},
   "outputs": [],
   "source": [
    "class Rectangle:\n",
    "    def __init__(self, p1 = (0,0), p2 = (1,1)):\n",
    "        self.p1 = p1\n",
    "        self.p2 = p2\n",
    "        self.vertices = [self.p1, (self.p1[0], self.p2[1]),\n",
    "                         self.p2, (self.p2[0], self.p1[1]) ]\n",
    "        self.index = 0\n",
    "  \n",
    "    # Methods\n",
    "    def area(self):\n",
    "        return abs(self.p1[0] - self.p2[0]) * abs(self.p1[1] - self.p2[1])\n",
    "    \n",
    "    def __iter__(self):\n",
    "        return self\n",
    "    def __next__(self):\n",
    "        if self.index == len(self.vertices):\n",
    "            self.index = 0\n",
    "            raise StopIteration\n",
    "        v = self.vertices[self.index]\n",
    "        self.index += 1\n",
    "        return v\n",
    "    \n",
    "    def __repr__(self):\n",
    "        return f\"Rectangle({self.p1}, {self.p2})\"\n",
    "    \n",
    "    def __str__(self) : \n",
    "        return f\"Rectangle[{self.p1}, {self.p2}] => area={self.area()}\"\n",
    "    # Setters\n",
    "    def setP1(self, p1):\n",
    "        self.p1 = p1\n",
    "        return self\n",
    "    \n",
    "    def setP2(self, p2):\n",
    "        self.p2 = p2\n",
    "        return self\n",
    "    "
   ]
  },
  {
   "cell_type": "code",
   "execution_count": 281,
   "id": "ddfaf463",
   "metadata": {},
   "outputs": [
    {
     "name": "stdout",
     "output_type": "stream",
     "text": [
      "(0, 0)\n",
      "(0, 1)\n",
      "(1, 1)\n",
      "(1, 0)\n"
     ]
    }
   ],
   "source": [
    "r = Rectangle()\n",
    "for pt in r:\n",
    "    print(pt)"
   ]
  },
  {
   "cell_type": "code",
   "execution_count": 282,
   "id": "799a8152",
   "metadata": {},
   "outputs": [
    {
     "data": {
      "text/plain": [
       "1"
      ]
     },
     "execution_count": 282,
     "metadata": {},
     "output_type": "execute_result"
    }
   ],
   "source": [
    "r.area()"
   ]
  },
  {
   "cell_type": "code",
   "execution_count": 283,
   "id": "327d3f20",
   "metadata": {},
   "outputs": [
    {
     "data": {
      "text/plain": [
       "Rectangle((0, 0), (1, 1))"
      ]
     },
     "execution_count": 283,
     "metadata": {},
     "output_type": "execute_result"
    }
   ],
   "source": [
    "r"
   ]
  },
  {
   "cell_type": "code",
   "execution_count": 284,
   "id": "d52393d9",
   "metadata": {},
   "outputs": [
    {
     "data": {
      "text/plain": [
       "['__class__',\n",
       " '__delattr__',\n",
       " '__dict__',\n",
       " '__dir__',\n",
       " '__doc__',\n",
       " '__eq__',\n",
       " '__format__',\n",
       " '__ge__',\n",
       " '__getattribute__',\n",
       " '__getstate__',\n",
       " '__gt__',\n",
       " '__hash__',\n",
       " '__init__',\n",
       " '__init_subclass__',\n",
       " '__iter__',\n",
       " '__le__',\n",
       " '__lt__',\n",
       " '__module__',\n",
       " '__ne__',\n",
       " '__new__',\n",
       " '__next__',\n",
       " '__reduce__',\n",
       " '__reduce_ex__',\n",
       " '__repr__',\n",
       " '__setattr__',\n",
       " '__sizeof__',\n",
       " '__str__',\n",
       " '__subclasshook__',\n",
       " '__weakref__',\n",
       " 'area',\n",
       " 'index',\n",
       " 'p1',\n",
       " 'p2',\n",
       " 'setP1',\n",
       " 'setP2',\n",
       " 'vertices']"
      ]
     },
     "execution_count": 284,
     "metadata": {},
     "output_type": "execute_result"
    }
   ],
   "source": [
    "dir(r)"
   ]
  },
  {
   "cell_type": "code",
   "execution_count": null,
   "id": "4799bf9f",
   "metadata": {},
   "outputs": [],
   "source": []
  },
  {
   "cell_type": "code",
   "execution_count": null,
   "id": "0ada06c0",
   "metadata": {},
   "outputs": [],
   "source": []
  },
  {
   "cell_type": "markdown",
   "id": "494e1926",
   "metadata": {},
   "source": [
    "## Some problems with multi-heritage "
   ]
  },
  {
   "cell_type": "code",
   "execution_count": 538,
   "id": "f774d36e",
   "metadata": {},
   "outputs": [],
   "source": [
    "class Worm:\n",
    "    def __init__ (self, name) : \n",
    "        self.name = name\n",
    "        \n",
    "    def eat(self): \n",
    "        print(self.name +\" swallows\")\n",
    "        \n",
    "class Fly:\n",
    "    \n",
    "    def __init__ (self, name) : \n",
    "        self.name = name\n",
    "        \n",
    "    def move(self): \n",
    "        print(\"I'm flying\")\n",
    "    \n",
    "    def eat(self): \n",
    "        print(self.name +\" is nibbling...\")\n"
   ]
  },
  {
   "cell_type": "code",
   "execution_count": 542,
   "id": "70ba5dab",
   "metadata": {},
   "outputs": [],
   "source": [
    "class ButterFly(Fly, Worm ): \n",
    "    def __init__(self, name):\n",
    "        self.name = name"
   ]
  },
  {
   "cell_type": "code",
   "execution_count": 543,
   "id": "719eb0f2",
   "metadata": {},
   "outputs": [],
   "source": [
    "butterfly = ButterFly(\"BoBo\")"
   ]
  },
  {
   "cell_type": "code",
   "execution_count": 544,
   "id": "bea823e9",
   "metadata": {},
   "outputs": [
    {
     "name": "stdout",
     "output_type": "stream",
     "text": [
      "BoBo is nibbling...\n"
     ]
    }
   ],
   "source": [
    "butterfly.eat()"
   ]
  },
  {
   "cell_type": "code",
   "execution_count": 441,
   "id": "fec9fb46",
   "metadata": {},
   "outputs": [
    {
     "name": "stdout",
     "output_type": "stream",
     "text": [
      "BoBo is nibbling...\n"
     ]
    }
   ],
   "source": [
    "class ButterFly(Fly, Worm): \n",
    "    def __init__(self, name):\n",
    "        self.name = name\n",
    "        \n",
    "butterfly = ButterFly(\"BoBo\")\n",
    "butterfly.eat()"
   ]
  },
  {
   "cell_type": "markdown",
   "id": "e582db76",
   "metadata": {},
   "source": [
    "## what is going on here? \n",
    "Method Resolution Order\n",
    "\n",
    "The method resolution order (or MRO) tells Python how to search for inherited methods. This comes in handy when you’re using super() because the MRO tells you exactly where Python will look for a method you’re calling with super() and in what order.\n",
    "\n",
    "Every class has an \\_\\_mro\\_\\_ attribute that allows us to inspect the order, so let’s do that:"
   ]
  },
  {
   "cell_type": "code",
   "execution_count": 304,
   "id": "eabfcb99",
   "metadata": {},
   "outputs": [
    {
     "data": {
      "text/plain": [
       "['__class__',\n",
       " '__delattr__',\n",
       " '__dict__',\n",
       " '__dir__',\n",
       " '__doc__',\n",
       " '__eq__',\n",
       " '__format__',\n",
       " '__ge__',\n",
       " '__getattribute__',\n",
       " '__getstate__',\n",
       " '__gt__',\n",
       " '__hash__',\n",
       " '__init__',\n",
       " '__init_subclass__',\n",
       " '__le__',\n",
       " '__lt__',\n",
       " '__module__',\n",
       " '__ne__',\n",
       " '__new__',\n",
       " '__reduce__',\n",
       " '__reduce_ex__',\n",
       " '__repr__',\n",
       " '__setattr__',\n",
       " '__sizeof__',\n",
       " '__str__',\n",
       " '__subclasshook__',\n",
       " '__weakref__',\n",
       " 'eat',\n",
       " 'eat_bird',\n",
       " 'fly']"
      ]
     },
     "execution_count": 304,
     "metadata": {},
     "output_type": "execute_result"
    }
   ],
   "source": [
    "dir(FlyingReptile)"
   ]
  },
  {
   "cell_type": "code",
   "execution_count": 350,
   "id": "54cffb20",
   "metadata": {},
   "outputs": [
    {
     "data": {
      "text/plain": [
       "(__main__.FlyingReptile, __main__.Reptile, __main__.Bird, object)"
      ]
     },
     "execution_count": 350,
     "metadata": {},
     "output_type": "execute_result"
    }
   ],
   "source": [
    "FlyingReptile.__mro__"
   ]
  },
  {
   "cell_type": "code",
   "execution_count": 306,
   "id": "a59f0235",
   "metadata": {},
   "outputs": [
    {
     "data": {
      "text/plain": [
       "(__main__.Rectangle, object)"
      ]
     },
     "execution_count": 306,
     "metadata": {},
     "output_type": "execute_result"
    }
   ],
   "source": [
    "Rectangle.__mro__"
   ]
  },
  {
   "cell_type": "code",
   "execution_count": null,
   "id": "6748f7ff",
   "metadata": {},
   "outputs": [],
   "source": []
  },
  {
   "cell_type": "markdown",
   "id": "6009512a",
   "metadata": {},
   "source": [
    "## how to avoid that? "
   ]
  },
  {
   "cell_type": "code",
   "execution_count": 451,
   "id": "6ff39658",
   "metadata": {},
   "outputs": [],
   "source": [
    "class ButterFly(Worm, Fly): \n",
    "    def __init__(self, name):\n",
    "        self.name = name\n",
    "    def eat_likefly(self): \n",
    "        return Fly.eat(self) ## or super(Worm, self).eat() in some cases"
   ]
  },
  {
   "cell_type": "code",
   "execution_count": 452,
   "id": "231d00e7",
   "metadata": {},
   "outputs": [],
   "source": [
    "butterfly = ButterFly(\"Butterfly\")"
   ]
  },
  {
   "cell_type": "code",
   "execution_count": 453,
   "id": "8bb19a41",
   "metadata": {},
   "outputs": [
    {
     "name": "stdout",
     "output_type": "stream",
     "text": [
      "Butterfly is nibbling...\n"
     ]
    }
   ],
   "source": [
    "butterfly.eat_likefly()"
   ]
  },
  {
   "cell_type": "code",
   "execution_count": 448,
   "id": "ee800262",
   "metadata": {},
   "outputs": [
    {
     "name": "stdout",
     "output_type": "stream",
     "text": [
      "Fly is nibbling...\n"
     ]
    }
   ],
   "source": [
    "fly = Fly(\"Fly\")\n",
    "fly.eat()"
   ]
  },
  {
   "cell_type": "code",
   "execution_count": 449,
   "id": "c0b055f5",
   "metadata": {},
   "outputs": [
    {
     "data": {
      "text/plain": [
       "(__main__.FlyingReptile, __main__.Reptile, __main__.Bird, object)"
      ]
     },
     "execution_count": 449,
     "metadata": {},
     "output_type": "execute_result"
    }
   ],
   "source": [
    "FlyingReptile.__mro__"
   ]
  },
  {
   "cell_type": "code",
   "execution_count": 450,
   "id": "662e10c5",
   "metadata": {},
   "outputs": [
    {
     "name": "stdout",
     "output_type": "stream",
     "text": [
      "Butterfly swallows\n"
     ]
    }
   ],
   "source": [
    "butterfly.eat()"
   ]
  },
  {
   "cell_type": "code",
   "execution_count": 456,
   "id": "d14ce6bc",
   "metadata": {},
   "outputs": [],
   "source": [
    "class AbstractWorm(abc.ABC):\n",
    "    def __init__ (self, name) : \n",
    "        self.name = name\n",
    "    \n",
    "    @abc.abstractmethod\n",
    "    def eat(self, food): \n",
    "        pass\n",
    "        \n",
    "class AbstractFly(abc.ABC):\n",
    "    \n",
    "    def __init__ (self, name) : \n",
    "        self.name = name\n",
    "    \n",
    "    @abc.abstractmethod\n",
    "    def fly(self): \n",
    "        pass \n",
    "    \n",
    "    @abc.abstractmethod\n",
    "    def eat(self): \n",
    "        pass\n"
   ]
  },
  {
   "cell_type": "code",
   "execution_count": 457,
   "id": "210eeb10",
   "metadata": {},
   "outputs": [
    {
     "ename": "TypeError",
     "evalue": "Can't instantiate abstract class AbstractButterFly with abstract methods eat, fly",
     "output_type": "error",
     "traceback": [
      "\u001b[0;31m---------------------------------------------------------------------------\u001b[0m",
      "\u001b[0;31mTypeError\u001b[0m                                 Traceback (most recent call last)",
      "Cell \u001b[0;32mIn[457], line 4\u001b[0m\n\u001b[1;32m      1\u001b[0m \u001b[38;5;28;01mclass\u001b[39;00m \u001b[38;5;21;01mAbstractButterFly\u001b[39;00m(AbstractFly, AbstractWorm): \n\u001b[1;32m      2\u001b[0m     \u001b[38;5;28;01mpass\u001b[39;00m \n\u001b[0;32m----> 4\u001b[0m butterfly \u001b[38;5;241m=\u001b[39m \u001b[43mAbstractButterFly\u001b[49m\u001b[43m(\u001b[49m\u001b[38;5;124;43m\"\u001b[39;49m\u001b[38;5;124;43mBoBo\u001b[39;49m\u001b[38;5;124;43m\"\u001b[39;49m\u001b[43m)\u001b[49m\n",
      "\u001b[0;31mTypeError\u001b[0m: Can't instantiate abstract class AbstractButterFly with abstract methods eat, fly"
     ]
    }
   ],
   "source": [
    "class AbstractButterFly(AbstractFly, AbstractWorm): \n",
    "    pass \n",
    "\n",
    "butterfly = AbstractButterFly(\"BoBo\")"
   ]
  },
  {
   "cell_type": "code",
   "execution_count": 459,
   "id": "1a9f33ad",
   "metadata": {},
   "outputs": [],
   "source": [
    "class AbstractButterFly(AbstractFly, AbstractWorm): \n",
    "    def eat(self) : \n",
    "        pass \n",
    "    \n",
    "    def fly(self): \n",
    "        pass \n",
    "\n",
    "butterfly = AbstractButterFly(\"BoBo\")\n",
    "butterfly.eat()"
   ]
  },
  {
   "cell_type": "code",
   "execution_count": 460,
   "id": "76ba0529",
   "metadata": {},
   "outputs": [],
   "source": [
    "class AbstractButterFly(AbstractFly, AbstractWorm): \n",
    "    def eat(self) : \n",
    "        print(self.name +\" is nibbling\")\n",
    "    def fly(self): \n",
    "        print(self.name + \"is flying... goodbye..\" )"
   ]
  },
  {
   "cell_type": "code",
   "execution_count": 462,
   "id": "28f99c4f",
   "metadata": {},
   "outputs": [],
   "source": [
    "butterfly = AbstractButterFly(\"BoBo\")"
   ]
  },
  {
   "cell_type": "code",
   "execution_count": 463,
   "id": "7a428bad",
   "metadata": {},
   "outputs": [
    {
     "name": "stdout",
     "output_type": "stream",
     "text": [
      "BoBo is nibbling\n"
     ]
    }
   ],
   "source": [
    "butterfly.eat()"
   ]
  },
  {
   "cell_type": "code",
   "execution_count": 469,
   "id": "a787995a",
   "metadata": {},
   "outputs": [],
   "source": [
    "class AbstractWorm(abc.ABC):\n",
    "    def __init__ (self, name) : \n",
    "        self.name = name\n",
    "    \n",
    "    @abc.abstractmethod\n",
    "    def eat(self): \n",
    "        pass\n",
    "        \n",
    "class AbstractFly(abc.ABC):\n",
    "    \n",
    "    def __init__ (self, name) : \n",
    "        self.name = name\n",
    "    \n",
    "    @abc.abstractmethod\n",
    "    def fly(self): \n",
    "        pass \n",
    "    \n",
    "    def eat(self): \n",
    "        print(\"Bird \"+self.name + \" is nibbling\")"
   ]
  },
  {
   "cell_type": "code",
   "execution_count": 470,
   "id": "b5efa2d4",
   "metadata": {},
   "outputs": [
    {
     "ename": "TypeError",
     "evalue": "Can't instantiate abstract class AbstractWorm with abstract method eat",
     "output_type": "error",
     "traceback": [
      "\u001b[0;31m---------------------------------------------------------------------------\u001b[0m",
      "\u001b[0;31mTypeError\u001b[0m                                 Traceback (most recent call last)",
      "Cell \u001b[0;32mIn[470], line 1\u001b[0m\n\u001b[0;32m----> 1\u001b[0m \u001b[43mAbstractWorm\u001b[49m\u001b[43m(\u001b[49m\u001b[43m)\u001b[49m\n",
      "\u001b[0;31mTypeError\u001b[0m: Can't instantiate abstract class AbstractWorm with abstract method eat"
     ]
    }
   ],
   "source": [
    "AbstractWorm()"
   ]
  },
  {
   "cell_type": "code",
   "execution_count": 471,
   "id": "42d8357a",
   "metadata": {},
   "outputs": [],
   "source": [
    "class AbstractButterFly(AbstractFly, AbstractWorm): \n",
    "    def fly(self): \n",
    "        print(self.name + \"is flying... goodbye..\" )\n",
    "butterfly = AbstractButterFly(\"BoBo\")"
   ]
  },
  {
   "cell_type": "code",
   "execution_count": 472,
   "id": "600299ef",
   "metadata": {},
   "outputs": [
    {
     "name": "stdout",
     "output_type": "stream",
     "text": [
      "Bird BoBo is nibbling\n"
     ]
    }
   ],
   "source": [
    "butterfly.eat()"
   ]
  },
  {
   "cell_type": "code",
   "execution_count": 473,
   "id": "9ec0c95c",
   "metadata": {},
   "outputs": [
    {
     "ename": "TypeError",
     "evalue": "Can't instantiate abstract class AbstractButterFly with abstract method eat",
     "output_type": "error",
     "traceback": [
      "\u001b[0;31m---------------------------------------------------------------------------\u001b[0m",
      "\u001b[0;31mTypeError\u001b[0m                                 Traceback (most recent call last)",
      "Cell \u001b[0;32mIn[473], line 4\u001b[0m\n\u001b[1;32m      2\u001b[0m     \u001b[38;5;28;01mdef\u001b[39;00m \u001b[38;5;21mfly\u001b[39m(\u001b[38;5;28mself\u001b[39m): \n\u001b[1;32m      3\u001b[0m         \u001b[38;5;28mprint\u001b[39m(\u001b[38;5;28mself\u001b[39m\u001b[38;5;241m.\u001b[39mname \u001b[38;5;241m+\u001b[39m \u001b[38;5;124m\"\u001b[39m\u001b[38;5;124mis flying... goodbye..\u001b[39m\u001b[38;5;124m\"\u001b[39m )\n\u001b[0;32m----> 4\u001b[0m butterfly \u001b[38;5;241m=\u001b[39m \u001b[43mAbstractButterFly\u001b[49m\u001b[43m(\u001b[49m\u001b[38;5;124;43m\"\u001b[39;49m\u001b[38;5;124;43mBoBo\u001b[39;49m\u001b[38;5;124;43m\"\u001b[39;49m\u001b[43m)\u001b[49m\n",
      "\u001b[0;31mTypeError\u001b[0m: Can't instantiate abstract class AbstractButterFly with abstract method eat"
     ]
    }
   ],
   "source": [
    "class AbstractButterFly(AbstractWorm, AbstractFly): \n",
    "    def fly(self): \n",
    "        print(self.name + \"is flying... goodbye..\" )\n",
    "butterfly = AbstractButterFly(\"BoBo\")"
   ]
  },
  {
   "cell_type": "code",
   "execution_count": 482,
   "id": "b564fba6",
   "metadata": {},
   "outputs": [],
   "source": [
    "class Animal: \n",
    "    \n",
    "    def display(self) : \n",
    "        print(\"I'm a cute animal\")\n",
    "        \n",
    "class Dog(Animal) : \n",
    "    \n",
    "    def display(self) : \n",
    "        print(\"I'm a cute dog animal\")"
   ]
  },
  {
   "cell_type": "code",
   "execution_count": 483,
   "id": "df50910b",
   "metadata": {},
   "outputs": [
    {
     "name": "stdout",
     "output_type": "stream",
     "text": [
      "I'm a cute dog animal\n"
     ]
    }
   ],
   "source": [
    "dog = Dog() \n",
    "dog.display()"
   ]
  },
  {
   "cell_type": "code",
   "execution_count": 484,
   "id": "5daf12ed",
   "metadata": {},
   "outputs": [
    {
     "data": {
      "text/plain": [
       "(__main__.Dog, __main__.Animal, object)"
      ]
     },
     "execution_count": 484,
     "metadata": {},
     "output_type": "execute_result"
    }
   ],
   "source": [
    "Dog.__mro__"
   ]
  },
  {
   "cell_type": "code",
   "execution_count": 485,
   "id": "7c625758",
   "metadata": {},
   "outputs": [
    {
     "data": {
      "text/plain": [
       "['__class__',\n",
       " '__delattr__',\n",
       " '__dict__',\n",
       " '__dir__',\n",
       " '__doc__',\n",
       " '__eq__',\n",
       " '__format__',\n",
       " '__ge__',\n",
       " '__getattribute__',\n",
       " '__getstate__',\n",
       " '__gt__',\n",
       " '__hash__',\n",
       " '__init__',\n",
       " '__init_subclass__',\n",
       " '__le__',\n",
       " '__lt__',\n",
       " '__module__',\n",
       " '__ne__',\n",
       " '__new__',\n",
       " '__reduce__',\n",
       " '__reduce_ex__',\n",
       " '__repr__',\n",
       " '__setattr__',\n",
       " '__sizeof__',\n",
       " '__str__',\n",
       " '__subclasshook__',\n",
       " '__weakref__',\n",
       " 'display']"
      ]
     },
     "execution_count": 485,
     "metadata": {},
     "output_type": "execute_result"
    }
   ],
   "source": [
    "dir(Dog)"
   ]
  },
  {
   "cell_type": "code",
   "execution_count": null,
   "id": "71422361",
   "metadata": {},
   "outputs": [],
   "source": []
  }
 ],
 "metadata": {
  "kernelspec": {
   "display_name": "Python3.11 (fmi08icds)",
   "language": "python",
   "name": "fmi08icds"
  },
  "language_info": {
   "codemirror_mode": {
    "name": "ipython",
    "version": 3
   },
   "file_extension": ".py",
   "mimetype": "text/x-python",
   "name": "python",
   "nbconvert_exporter": "python",
   "pygments_lexer": "ipython3",
   "version": "3.11.3"
  }
 },
 "nbformat": 4,
 "nbformat_minor": 5
}
