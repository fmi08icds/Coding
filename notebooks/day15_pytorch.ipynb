{
 "cells": [
  {
   "cell_type": "markdown",
   "id": "0c6bf315",
   "metadata": {},
   "source": [
    "---\n",
    "\n",
    "## PyTorch\n",
    "\n",
    "> PyTorch is a Python package that provides two high-level features:\n",
    ">\n",
    "> * Tensor computation (like NumPy) with strong GPU acceleration\n",
    "> * Deep neural networks built on a tape-based autograd system\n",
    "\n",
    "---\n"
   ]
  },
  {
   "cell_type": "code",
   "execution_count": 1,
   "id": "adebd0ab",
   "metadata": {},
   "outputs": [
    {
     "data": {
      "text/plain": [
       "'2.0.1'"
      ]
     },
     "execution_count": 1,
     "metadata": {},
     "output_type": "execute_result"
    }
   ],
   "source": [
    "import torch\n",
    "torch.__version__"
   ]
  },
  {
   "cell_type": "code",
   "execution_count": 2,
   "id": "b477d05a",
   "metadata": {},
   "outputs": [],
   "source": [
    "import numpy as np \n",
    "import pandas as pd \n",
    "import matplotlib.pyplot as plt \n",
    "import seaborn as sns "
   ]
  },
  {
   "cell_type": "markdown",
   "id": "6212aa43",
   "metadata": {},
   "source": [
    "## Tensors\n",
    "are the basic data abstraction in PyTorch and are implemented by the `torch.Tensor` class. The behave in much the same was as the other array libraries we've seen so far (`numpy`, `theano`, etc.)"
   ]
  },
  {
   "cell_type": "code",
   "execution_count": 3,
   "id": "a04f4878",
   "metadata": {},
   "outputs": [
    {
     "data": {
      "text/plain": [
       "tensor([0., 0., 0.])"
      ]
     },
     "execution_count": 3,
     "metadata": {},
     "output_type": "execute_result"
    }
   ],
   "source": [
    "torch.zeros(3)"
   ]
  },
  {
   "cell_type": "code",
   "execution_count": 4,
   "id": "4f80c5c8",
   "metadata": {},
   "outputs": [
    {
     "data": {
      "text/plain": [
       "tensor([[1., 1.],\n",
       "        [1., 1.],\n",
       "        [1., 1.]])"
      ]
     },
     "execution_count": 4,
     "metadata": {},
     "output_type": "execute_result"
    }
   ],
   "source": [
    "torch.ones(3,2)"
   ]
  },
  {
   "cell_type": "code",
   "execution_count": 5,
   "id": "beee2896",
   "metadata": {},
   "outputs": [
    {
     "data": {
      "text/plain": [
       "tensor([[[0.0000e+00, 0.0000e+00],\n",
       "         [7.7554e-29, 1.4013e-45]],\n",
       "\n",
       "        [[1.1435e-34, 1.4013e-45],\n",
       "         [3.7382e-36, 1.4013e-45]]])"
      ]
     },
     "execution_count": 5,
     "metadata": {},
     "output_type": "execute_result"
    }
   ],
   "source": [
    "torch.empty(2,2,2)"
   ]
  },
  {
   "cell_type": "code",
   "execution_count": 6,
   "id": "fad99b16",
   "metadata": {},
   "outputs": [
    {
     "data": {
      "text/plain": [
       "<torch._C.Generator at 0x11514a510>"
      ]
     },
     "execution_count": 6,
     "metadata": {},
     "output_type": "execute_result"
    }
   ],
   "source": [
    "torch.manual_seed(1234)"
   ]
  },
  {
   "cell_type": "code",
   "execution_count": 7,
   "id": "91b61bdf",
   "metadata": {},
   "outputs": [
    {
     "data": {
      "text/plain": [
       "tensor([[[[0.0290, 0.4019],\n",
       "          [0.2598, 0.3666]],\n",
       "\n",
       "         [[0.0583, 0.7006],\n",
       "          [0.0518, 0.4681]]],\n",
       "\n",
       "\n",
       "        [[[0.6738, 0.3315],\n",
       "          [0.7837, 0.5631]],\n",
       "\n",
       "         [[0.7749, 0.8208],\n",
       "          [0.2793, 0.6817]]]])"
      ]
     },
     "execution_count": 7,
     "metadata": {},
     "output_type": "execute_result"
    }
   ],
   "source": [
    "torch.rand(2,2,2,2)"
   ]
  },
  {
   "cell_type": "code",
   "execution_count": 8,
   "id": "3ce3ab12",
   "metadata": {},
   "outputs": [
    {
     "data": {
      "text/plain": [
       "tensor(1)"
      ]
     },
     "execution_count": 8,
     "metadata": {},
     "output_type": "execute_result"
    }
   ],
   "source": [
    "torch.tensor(1)"
   ]
  },
  {
   "cell_type": "code",
   "execution_count": 9,
   "id": "495804e6",
   "metadata": {},
   "outputs": [
    {
     "data": {
      "text/plain": [
       "tensor([1, 2])"
      ]
     },
     "execution_count": 9,
     "metadata": {},
     "output_type": "execute_result"
    }
   ],
   "source": [
    "torch.tensor((1,2))"
   ]
  },
  {
   "cell_type": "code",
   "execution_count": 10,
   "id": "ea70a401",
   "metadata": {},
   "outputs": [
    {
     "data": {
      "text/plain": [
       "tensor([[1, 2, 3],\n",
       "        [4, 5, 6]])"
      ]
     },
     "execution_count": 10,
     "metadata": {},
     "output_type": "execute_result"
    }
   ],
   "source": [
    "torch.tensor([[1,2,3], [4,5,6]])"
   ]
  },
  {
   "cell_type": "code",
   "execution_count": 11,
   "id": "28e3c85b",
   "metadata": {},
   "outputs": [
    {
     "data": {
      "text/plain": [
       "tensor([[1, 2, 3],\n",
       "        [4, 5, 6]])"
      ]
     },
     "execution_count": 11,
     "metadata": {},
     "output_type": "execute_result"
    }
   ],
   "source": [
    "torch.tensor([(1,2,3), [4,5,6]])"
   ]
  },
  {
   "cell_type": "code",
   "execution_count": 12,
   "id": "51093441",
   "metadata": {},
   "outputs": [
    {
     "ename": "ValueError",
     "evalue": "expected sequence of length 3 at dim 1 (got 2)",
     "output_type": "error",
     "traceback": [
      "\u001b[0;31m---------------------------------------------------------------------------\u001b[0m",
      "\u001b[0;31mValueError\u001b[0m                                Traceback (most recent call last)",
      "Cell \u001b[0;32mIn[12], line 1\u001b[0m\n\u001b[0;32m----> 1\u001b[0m \u001b[43mtorch\u001b[49m\u001b[38;5;241;43m.\u001b[39;49m\u001b[43mtensor\u001b[49m\u001b[43m(\u001b[49m\u001b[43m[\u001b[49m\u001b[43m(\u001b[49m\u001b[38;5;241;43m1\u001b[39;49m\u001b[43m,\u001b[49m\u001b[38;5;241;43m1\u001b[39;49m\u001b[43m,\u001b[49m\u001b[38;5;241;43m1\u001b[39;49m\u001b[43m)\u001b[49m\u001b[43m,\u001b[49m\u001b[43m \u001b[49m\u001b[43m[\u001b[49m\u001b[38;5;241;43m4\u001b[39;49m\u001b[43m,\u001b[49m\u001b[38;5;241;43m5\u001b[39;49m\u001b[43m]\u001b[49m\u001b[43m]\u001b[49m\u001b[43m)\u001b[49m\n",
      "\u001b[0;31mValueError\u001b[0m: expected sequence of length 3 at dim 1 (got 2)"
     ]
    }
   ],
   "source": [
    "torch.tensor([(1,1,1), [4,5]])"
   ]
  },
  {
   "cell_type": "code",
   "execution_count": 13,
   "id": "34748b65",
   "metadata": {},
   "outputs": [
    {
     "ename": "ValueError",
     "evalue": "too many dimensions 'str'",
     "output_type": "error",
     "traceback": [
      "\u001b[0;31m---------------------------------------------------------------------------\u001b[0m",
      "\u001b[0;31mValueError\u001b[0m                                Traceback (most recent call last)",
      "Cell \u001b[0;32mIn[13], line 1\u001b[0m\n\u001b[0;32m----> 1\u001b[0m \u001b[43mtorch\u001b[49m\u001b[38;5;241;43m.\u001b[39;49m\u001b[43mtensor\u001b[49m\u001b[43m(\u001b[49m\u001b[43m[\u001b[49m\u001b[43m[\u001b[49m\u001b[38;5;124;43m\"\u001b[39;49m\u001b[38;5;124;43mA\u001b[39;49m\u001b[38;5;124;43m\"\u001b[39;49m\u001b[43m]\u001b[49m\u001b[43m]\u001b[49m\u001b[43m)\u001b[49m\n",
      "\u001b[0;31mValueError\u001b[0m: too many dimensions 'str'"
     ]
    }
   ],
   "source": [
    "torch.tensor([[\"A\"]])"
   ]
  },
  {
   "cell_type": "code",
   "execution_count": 15,
   "id": "7df1ac48",
   "metadata": {},
   "outputs": [
    {
     "data": {
      "text/plain": [
       "torch.bool"
      ]
     },
     "execution_count": 15,
     "metadata": {},
     "output_type": "execute_result"
    }
   ],
   "source": [
    "torch.tensor([[True]]).dtype"
   ]
  },
  {
   "cell_type": "code",
   "execution_count": 17,
   "id": "66efdc88",
   "metadata": {},
   "outputs": [
    {
     "data": {
      "text/plain": [
       "tensor([1, 2, 3])"
      ]
     },
     "execution_count": 17,
     "metadata": {},
     "output_type": "execute_result"
    }
   ],
   "source": [
    "a = torch.tensor([1,2,3])\n",
    "a"
   ]
  },
  {
   "cell_type": "code",
   "execution_count": 18,
   "id": "1ee4d2d7",
   "metadata": {},
   "outputs": [
    {
     "data": {
      "text/plain": [
       "torch.int64"
      ]
     },
     "execution_count": 18,
     "metadata": {},
     "output_type": "execute_result"
    }
   ],
   "source": [
    "a.dtype"
   ]
  },
  {
   "cell_type": "code",
   "execution_count": 19,
   "id": "0a6081ba",
   "metadata": {},
   "outputs": [
    {
     "data": {
      "text/plain": [
       "tensor([1., 2., 3.], dtype=torch.float16)"
      ]
     },
     "execution_count": 19,
     "metadata": {},
     "output_type": "execute_result"
    }
   ],
   "source": [
    "b = torch.tensor([1,2,3], dtype=torch.float16)\n",
    "b"
   ]
  },
  {
   "cell_type": "code",
   "execution_count": 20,
   "id": "bcda423b",
   "metadata": {},
   "outputs": [
    {
     "data": {
      "text/plain": [
       "torch.float16"
      ]
     },
     "execution_count": 20,
     "metadata": {},
     "output_type": "execute_result"
    }
   ],
   "source": [
    "b.dtype "
   ]
  },
  {
   "cell_type": "code",
   "execution_count": 21,
   "id": "9295c6f4",
   "metadata": {},
   "outputs": [
    {
     "data": {
      "text/plain": [
       "tensor([1., 2., 3.])"
      ]
     },
     "execution_count": 21,
     "metadata": {},
     "output_type": "execute_result"
    }
   ],
   "source": [
    "c = torch.tensor([1.,2.,3.])\n",
    "c"
   ]
  },
  {
   "cell_type": "code",
   "execution_count": 22,
   "id": "3b017877",
   "metadata": {},
   "outputs": [
    {
     "data": {
      "text/plain": [
       "torch.float32"
      ]
     },
     "execution_count": 22,
     "metadata": {},
     "output_type": "execute_result"
    }
   ],
   "source": [
    "c.dtype"
   ]
  },
  {
   "cell_type": "code",
   "execution_count": 23,
   "id": "f6e2d3f2",
   "metadata": {},
   "outputs": [
    {
     "data": {
      "text/plain": [
       "tensor([1., 2., 3.], dtype=torch.float64)"
      ]
     },
     "execution_count": 23,
     "metadata": {},
     "output_type": "execute_result"
    }
   ],
   "source": [
    "d = torch.tensor([1,2,3], dtype=torch.float64)\n",
    "d"
   ]
  },
  {
   "cell_type": "code",
   "execution_count": 24,
   "id": "795fb64f",
   "metadata": {},
   "outputs": [
    {
     "data": {
      "text/plain": [
       "torch.float64"
      ]
     },
     "execution_count": 24,
     "metadata": {},
     "output_type": "execute_result"
    }
   ],
   "source": [
    "d.dtype"
   ]
  },
  {
   "cell_type": "code",
   "execution_count": 29,
   "id": "b6c73326",
   "metadata": {},
   "outputs": [
    {
     "ename": "RuntimeError",
     "evalue": "value cannot be converted to type int8 without overflow",
     "output_type": "error",
     "traceback": [
      "\u001b[0;31m---------------------------------------------------------------------------\u001b[0m",
      "\u001b[0;31mRuntimeError\u001b[0m                              Traceback (most recent call last)",
      "Cell \u001b[0;32mIn[29], line 1\u001b[0m\n\u001b[0;32m----> 1\u001b[0m \u001b[43mtorch\u001b[49m\u001b[38;5;241;43m.\u001b[39;49m\u001b[43mtensor\u001b[49m\u001b[43m(\u001b[49m\u001b[43m[\u001b[49m\u001b[38;5;241;43m300\u001b[39;49m\u001b[43m]\u001b[49m\u001b[43m,\u001b[49m\u001b[43m \u001b[49m\u001b[43mdtype\u001b[49m\u001b[38;5;241;43m=\u001b[39;49m\u001b[43mtorch\u001b[49m\u001b[38;5;241;43m.\u001b[39;49m\u001b[43mint8\u001b[49m\u001b[43m)\u001b[49m\n",
      "\u001b[0;31mRuntimeError\u001b[0m: value cannot be converted to type int8 without overflow"
     ]
    }
   ],
   "source": [
    "torch.tensor([300], dtype=torch.int8)"
   ]
  },
  {
   "cell_type": "code",
   "execution_count": 27,
   "id": "248d5687",
   "metadata": {},
   "outputs": [
    {
     "data": {
      "text/plain": [
       "tensor([-44], dtype=torch.int8)"
      ]
     },
     "execution_count": 27,
     "metadata": {},
     "output_type": "execute_result"
    }
   ],
   "source": [
    "torch.tensor([-300]).to(torch.int8)"
   ]
  },
  {
   "cell_type": "code",
   "execution_count": 28,
   "id": "541cbec6",
   "metadata": {},
   "outputs": [
    {
     "data": {
      "text/plain": [
       "tensor([212], dtype=torch.uint8)"
      ]
     },
     "execution_count": 28,
     "metadata": {},
     "output_type": "execute_result"
    }
   ],
   "source": [
    "torch.tensor([-300]).to(torch.uint8)"
   ]
  },
  {
   "cell_type": "code",
   "execution_count": 30,
   "id": "e9836feb",
   "metadata": {},
   "outputs": [
    {
     "data": {
      "text/plain": [
       "tensor([300], dtype=torch.int16)"
      ]
     },
     "execution_count": 30,
     "metadata": {},
     "output_type": "execute_result"
    }
   ],
   "source": [
    "torch.tensor([300]).to(torch.int16)"
   ]
  },
  {
   "cell_type": "code",
   "execution_count": 31,
   "id": "e54b8d34",
   "metadata": {},
   "outputs": [
    {
     "data": {
      "text/plain": [
       "tensor(0.33325195, dtype=torch.float16)"
      ]
     },
     "execution_count": 31,
     "metadata": {},
     "output_type": "execute_result"
    }
   ],
   "source": [
    "torch.set_printoptions(precision=8)\n",
    "torch.tensor(1/3, dtype=torch.float16)"
   ]
  },
  {
   "cell_type": "code",
   "execution_count": 32,
   "id": "e3b58781",
   "metadata": {},
   "outputs": [
    {
     "data": {
      "text/plain": [
       "tensor(0.33333334)"
      ]
     },
     "execution_count": 32,
     "metadata": {},
     "output_type": "execute_result"
    }
   ],
   "source": [
    "torch.tensor(1/3, dtype=torch.float32)"
   ]
  },
  {
   "cell_type": "code",
   "execution_count": 33,
   "id": "c3fe36a9",
   "metadata": {},
   "outputs": [
    {
     "data": {
      "text/plain": [
       "tensor(0.33333333, dtype=torch.float64)"
      ]
     },
     "execution_count": 33,
     "metadata": {},
     "output_type": "execute_result"
    }
   ],
   "source": [
    "torch.tensor(1/3, dtype=torch.float64)"
   ]
  },
  {
   "cell_type": "code",
   "execution_count": 34,
   "id": "a632f91e",
   "metadata": {},
   "outputs": [
    {
     "data": {
      "text/plain": [
       "tensor([[1., 0., 0.],\n",
       "        [0., 1., 0.],\n",
       "        [0., 0., 1.]], dtype=torch.float64)"
      ]
     },
     "execution_count": 34,
     "metadata": {},
     "output_type": "execute_result"
    }
   ],
   "source": [
    "a = np.eye(3,3)\n",
    "torch.from_numpy(a)"
   ]
  },
  {
   "cell_type": "code",
   "execution_count": 35,
   "id": "2df0cdc0",
   "metadata": {},
   "outputs": [
    {
     "data": {
      "text/plain": [
       "tensor([1, 2, 3])"
      ]
     },
     "execution_count": 35,
     "metadata": {},
     "output_type": "execute_result"
    }
   ],
   "source": [
    "b = np.array([1,2,3])\n",
    "torch.from_numpy(b)"
   ]
  },
  {
   "cell_type": "code",
   "execution_count": 36,
   "id": "f1914dfd",
   "metadata": {},
   "outputs": [
    {
     "data": {
      "text/plain": [
       "array([[0.28367496, 0.6567304 , 0.23875582],\n",
       "       [0.7312845 , 0.60122263, 0.30432844]], dtype=float32)"
      ]
     },
     "execution_count": 36,
     "metadata": {},
     "output_type": "execute_result"
    }
   ],
   "source": [
    "c = torch.rand(2,3)\n",
    "c.numpy()"
   ]
  },
  {
   "cell_type": "code",
   "execution_count": 37,
   "id": "02ae17d8",
   "metadata": {},
   "outputs": [
    {
     "data": {
      "text/plain": [
       "array([[1, 1],\n",
       "       [1, 1]])"
      ]
     },
     "execution_count": 37,
     "metadata": {},
     "output_type": "execute_result"
    }
   ],
   "source": [
    "d = torch.ones(2,2, dtype=torch.int64)\n",
    "d.numpy()"
   ]
  },
  {
   "cell_type": "code",
   "execution_count": 39,
   "id": "69365f2b",
   "metadata": {},
   "outputs": [
    {
     "data": {
      "text/plain": [
       "tensor([[6., 6.],\n",
       "        [6., 6.]])"
      ]
     },
     "execution_count": 39,
     "metadata": {},
     "output_type": "execute_result"
    }
   ],
   "source": [
    "torch.ones(2,2) * 7 -1"
   ]
  },
  {
   "cell_type": "code",
   "execution_count": 40,
   "id": "c46edddb",
   "metadata": {},
   "outputs": [
    {
     "data": {
      "text/plain": [
       "tensor([[2., 3.],\n",
       "        [4., 5.]])"
      ]
     },
     "execution_count": 40,
     "metadata": {},
     "output_type": "execute_result"
    }
   ],
   "source": [
    "torch.ones(2,2) + torch.tensor([[1,2], [3,4]])"
   ]
  },
  {
   "cell_type": "code",
   "execution_count": 41,
   "id": "aec05a92",
   "metadata": {},
   "outputs": [
    {
     "data": {
      "text/plain": [
       "tensor([[ 2,  4],\n",
       "        [ 8, 16]])"
      ]
     },
     "execution_count": 41,
     "metadata": {},
     "output_type": "execute_result"
    }
   ],
   "source": [
    "2 ** torch.tensor([[1,2], [3,4]])"
   ]
  },
  {
   "cell_type": "code",
   "execution_count": 42,
   "id": "7b308010",
   "metadata": {},
   "outputs": [
    {
     "data": {
      "text/plain": [
       "tensor([[False, False],\n",
       "        [ True,  True]])"
      ]
     },
     "execution_count": 42,
     "metadata": {},
     "output_type": "execute_result"
    }
   ],
   "source": [
    "2 ** torch.tensor([[1,2], [3,4]]) > 5"
   ]
  },
  {
   "cell_type": "code",
   "execution_count": 43,
   "id": "fd574b22",
   "metadata": {},
   "outputs": [
    {
     "data": {
      "text/plain": [
       "tensor([[1.22126317, 1.36931109],\n",
       "        [1.22126317, 1.36931109]])"
      ]
     },
     "execution_count": 43,
     "metadata": {},
     "output_type": "execute_result"
    }
   ],
   "source": [
    "x = torch.rand(2,2)\n",
    "torch.ones(2,2) @ x"
   ]
  },
  {
   "cell_type": "code",
   "execution_count": 44,
   "id": "c23de3dc",
   "metadata": {},
   "outputs": [
    {
     "data": {
      "text/plain": [
       "tensor([[-0.49049568,  0.25872374],\n",
       "        [ 0.50000000,  0.47989845]])"
      ]
     },
     "execution_count": 44,
     "metadata": {},
     "output_type": "execute_result"
    }
   ],
   "source": [
    "torch.clamp(x*2-1, -0.5, 0.5)"
   ]
  },
  {
   "cell_type": "code",
   "execution_count": 46,
   "id": "b9cce9ad",
   "metadata": {},
   "outputs": [
    {
     "data": {
      "text/plain": [
       "tensor(0.64764357)"
      ]
     },
     "execution_count": 46,
     "metadata": {},
     "output_type": "execute_result"
    }
   ],
   "source": [
    "torch.mean(x)"
   ]
  },
  {
   "cell_type": "code",
   "execution_count": 47,
   "id": "a33f6f8d",
   "metadata": {},
   "outputs": [
    {
     "data": {
      "text/plain": [
       "tensor(2.59057426)"
      ]
     },
     "execution_count": 47,
     "metadata": {},
     "output_type": "execute_result"
    }
   ],
   "source": [
    "torch.sum(x)"
   ]
  },
  {
   "cell_type": "code",
   "execution_count": 48,
   "id": "b161dd77",
   "metadata": {},
   "outputs": [
    {
     "data": {
      "text/plain": [
       "tensor(0.25475216)"
      ]
     },
     "execution_count": 48,
     "metadata": {},
     "output_type": "execute_result"
    }
   ],
   "source": [
    "torch.min(x)"
   ]
  },
  {
   "cell_type": "code",
   "execution_count": 49,
   "id": "ebbdeccf",
   "metadata": {},
   "outputs": [
    {
     "name": "stdout",
     "output_type": "stream",
     "text": [
      "tensor([[0.45171791, 0.47573084],\n",
      "        [0.78419435, 0.15249622]])\n"
     ]
    }
   ],
   "source": [
    "a = torch.rand(2,2)\n",
    "print(a)"
   ]
  },
  {
   "cell_type": "code",
   "execution_count": 50,
   "id": "21b5372c",
   "metadata": {},
   "outputs": [
    {
     "name": "stdout",
     "output_type": "stream",
     "text": [
      "tensor([[1.57100868, 1.60918987],\n",
      "        [2.19064140, 1.16473806]])\n"
     ]
    }
   ],
   "source": [
    "print(torch.exp(a))\n"
   ]
  },
  {
   "cell_type": "code",
   "execution_count": 51,
   "id": "61b46555",
   "metadata": {},
   "outputs": [
    {
     "name": "stdout",
     "output_type": "stream",
     "text": [
      "tensor([[0.45171791, 0.47573084],\n",
      "        [0.78419435, 0.15249622]])\n"
     ]
    }
   ],
   "source": [
    "print(a)"
   ]
  },
  {
   "cell_type": "code",
   "execution_count": 52,
   "id": "6f1cd756",
   "metadata": {},
   "outputs": [
    {
     "name": "stdout",
     "output_type": "stream",
     "text": [
      "tensor([[1.57100868, 1.60918987],\n",
      "        [2.19064140, 1.16473806]])\n"
     ]
    }
   ],
   "source": [
    "print(torch.exp_(a))"
   ]
  },
  {
   "cell_type": "code",
   "execution_count": 53,
   "id": "e257d81e",
   "metadata": {},
   "outputs": [
    {
     "name": "stdout",
     "output_type": "stream",
     "text": [
      "tensor([[1.57100868, 1.60918987],\n",
      "        [2.19064140, 1.16473806]])\n"
     ]
    }
   ],
   "source": [
    "print(a)"
   ]
  },
  {
   "cell_type": "code",
   "execution_count": 54,
   "id": "43dc6cea",
   "metadata": {},
   "outputs": [],
   "source": [
    "a = torch.ones(2, 2)\n",
    "b = torch.rand(2, 2)"
   ]
  },
  {
   "cell_type": "code",
   "execution_count": 55,
   "id": "15857dab",
   "metadata": {},
   "outputs": [
    {
     "data": {
      "text/plain": [
       "tensor([[1.66622448, 1.33432305],\n",
       "        [1.78929043, 1.32163978]])"
      ]
     },
     "execution_count": 55,
     "metadata": {},
     "output_type": "execute_result"
    }
   ],
   "source": [
    "a+b"
   ]
  },
  {
   "cell_type": "code",
   "execution_count": 56,
   "id": "160034b4",
   "metadata": {},
   "outputs": [
    {
     "data": {
      "text/plain": [
       "tensor([[1., 1.],\n",
       "        [1., 1.]])"
      ]
     },
     "execution_count": 56,
     "metadata": {},
     "output_type": "execute_result"
    }
   ],
   "source": [
    "a"
   ]
  },
  {
   "cell_type": "code",
   "execution_count": 57,
   "id": "54ee62b6",
   "metadata": {},
   "outputs": [
    {
     "data": {
      "text/plain": [
       "tensor([[0.66622442, 0.33432305],\n",
       "        [0.78929043, 0.32163972]])"
      ]
     },
     "execution_count": 57,
     "metadata": {},
     "output_type": "execute_result"
    }
   ],
   "source": [
    "b"
   ]
  },
  {
   "cell_type": "code",
   "execution_count": 58,
   "id": "8fdce35d",
   "metadata": {},
   "outputs": [
    {
     "data": {
      "text/plain": [
       "tensor([[1.66622448, 1.33432305],\n",
       "        [1.78929043, 1.32163978]])"
      ]
     },
     "execution_count": 58,
     "metadata": {},
     "output_type": "execute_result"
    }
   ],
   "source": [
    "a.add_(b)"
   ]
  },
  {
   "cell_type": "code",
   "execution_count": 59,
   "id": "f4974a58",
   "metadata": {},
   "outputs": [
    {
     "data": {
      "text/plain": [
       "tensor([[1.66622448, 1.33432305],\n",
       "        [1.78929043, 1.32163978]])"
      ]
     },
     "execution_count": 59,
     "metadata": {},
     "output_type": "execute_result"
    }
   ],
   "source": [
    "a"
   ]
  },
  {
   "cell_type": "code",
   "execution_count": 60,
   "id": "89107113",
   "metadata": {},
   "outputs": [
    {
     "data": {
      "text/plain": [
       "tensor([[0.66622442, 0.33432305],\n",
       "        [0.78929043, 0.32163972]])"
      ]
     },
     "execution_count": 60,
     "metadata": {},
     "output_type": "execute_result"
    }
   ],
   "source": [
    "b"
   ]
  },
  {
   "cell_type": "code",
   "execution_count": 61,
   "id": "a3645cd8",
   "metadata": {},
   "outputs": [
    {
     "data": {
      "text/plain": [
       "tensor([[0., 0., 0.],\n",
       "        [0., 0., 0.]])"
      ]
     },
     "execution_count": 61,
     "metadata": {},
     "output_type": "execute_result"
    }
   ],
   "source": [
    "x = torch.zeros(3, 2)\n",
    "y = x.view(2, 3)\n",
    "y"
   ]
  },
  {
   "cell_type": "code",
   "execution_count": 62,
   "id": "1fd12110",
   "metadata": {},
   "outputs": [
    {
     "data": {
      "text/plain": [
       "tensor([[1., 1.],\n",
       "        [1., 1.],\n",
       "        [1., 1.]])"
      ]
     },
     "execution_count": 62,
     "metadata": {},
     "output_type": "execute_result"
    }
   ],
   "source": [
    "x.fill_(1)"
   ]
  },
  {
   "cell_type": "code",
   "execution_count": 63,
   "id": "18bb7831",
   "metadata": {},
   "outputs": [
    {
     "ename": "RuntimeError",
     "evalue": "view size is not compatible with input tensor's size and stride (at least one dimension spans across two contiguous subspaces). Use .reshape(...) instead.",
     "output_type": "error",
     "traceback": [
      "\u001b[0;31m---------------------------------------------------------------------------\u001b[0m",
      "\u001b[0;31mRuntimeError\u001b[0m                              Traceback (most recent call last)",
      "Cell \u001b[0;32mIn[63], line 3\u001b[0m\n\u001b[1;32m      1\u001b[0m x \u001b[38;5;241m=\u001b[39m torch\u001b[38;5;241m.\u001b[39mzeros(\u001b[38;5;241m3\u001b[39m, \u001b[38;5;241m2\u001b[39m)\n\u001b[1;32m      2\u001b[0m y \u001b[38;5;241m=\u001b[39m x\u001b[38;5;241m.\u001b[39mt()\n\u001b[0;32m----> 3\u001b[0m z \u001b[38;5;241m=\u001b[39m \u001b[43my\u001b[49m\u001b[38;5;241;43m.\u001b[39;49m\u001b[43mview\u001b[49m\u001b[43m(\u001b[49m\u001b[38;5;241;43m6\u001b[39;49m\u001b[43m)\u001b[49m\n",
      "\u001b[0;31mRuntimeError\u001b[0m: view size is not compatible with input tensor's size and stride (at least one dimension spans across two contiguous subspaces). Use .reshape(...) instead."
     ]
    }
   ],
   "source": [
    "x = torch.zeros(3, 2)\n",
    "y = x.t()\n",
    "z = y.view(6)"
   ]
  },
  {
   "cell_type": "code",
   "execution_count": 64,
   "id": "bd2e4dd0",
   "metadata": {},
   "outputs": [
    {
     "data": {
      "text/plain": [
       "tensor([[1., 1.],\n",
       "        [1., 1.],\n",
       "        [1., 1.]])"
      ]
     },
     "execution_count": 64,
     "metadata": {},
     "output_type": "execute_result"
    }
   ],
   "source": [
    "z = y.reshape(6)\n",
    "x.fill_(1)"
   ]
  },
  {
   "cell_type": "code",
   "execution_count": 65,
   "id": "13037f4a",
   "metadata": {},
   "outputs": [
    {
     "data": {
      "text/plain": [
       "tensor([[1., 1., 1.],\n",
       "        [1., 1., 1.]])"
      ]
     },
     "execution_count": 65,
     "metadata": {},
     "output_type": "execute_result"
    }
   ],
   "source": [
    "y"
   ]
  },
  {
   "cell_type": "code",
   "execution_count": 66,
   "id": "63f92e08",
   "metadata": {},
   "outputs": [
    {
     "data": {
      "text/plain": [
       "tensor([0., 0., 0., 0., 0., 0.])"
      ]
     },
     "execution_count": 66,
     "metadata": {},
     "output_type": "execute_result"
    }
   ],
   "source": [
    "z"
   ]
  },
  {
   "cell_type": "code",
   "execution_count": 67,
   "id": "04fa1f9e",
   "metadata": {},
   "outputs": [
    {
     "data": {
      "text/plain": [
       "torch.Size([3])"
      ]
     },
     "execution_count": 67,
     "metadata": {},
     "output_type": "execute_result"
    }
   ],
   "source": [
    "x = torch.zeros(1,3,1)\n",
    "x.squeeze().shape"
   ]
  },
  {
   "cell_type": "code",
   "execution_count": 68,
   "id": "3690e949",
   "metadata": {},
   "outputs": [
    {
     "data": {
      "text/plain": [
       "torch.Size([3, 1])"
      ]
     },
     "execution_count": 68,
     "metadata": {},
     "output_type": "execute_result"
    }
   ],
   "source": [
    "x.squeeze(0).shape"
   ]
  },
  {
   "cell_type": "code",
   "execution_count": 69,
   "id": "0afbdac5",
   "metadata": {},
   "outputs": [
    {
     "data": {
      "text/plain": [
       "torch.Size([1, 3, 1])"
      ]
     },
     "execution_count": 69,
     "metadata": {},
     "output_type": "execute_result"
    }
   ],
   "source": [
    "x.squeeze(1).shape"
   ]
  },
  {
   "cell_type": "code",
   "execution_count": 70,
   "id": "adc7c245",
   "metadata": {},
   "outputs": [
    {
     "data": {
      "text/plain": [
       "torch.Size([1, 3])"
      ]
     },
     "execution_count": 70,
     "metadata": {},
     "output_type": "execute_result"
    }
   ],
   "source": [
    "x.squeeze(2).shape"
   ]
  },
  {
   "cell_type": "code",
   "execution_count": 71,
   "id": "249902d4",
   "metadata": {},
   "outputs": [
    {
     "data": {
      "text/plain": [
       "tensor([[[1.],\n",
       "         [1.],\n",
       "         [1.]]])"
      ]
     },
     "execution_count": 71,
     "metadata": {},
     "output_type": "execute_result"
    }
   ],
   "source": [
    "y = x.squeeze()\n",
    "x.fill_(1)"
   ]
  },
  {
   "cell_type": "code",
   "execution_count": 72,
   "id": "5b191408",
   "metadata": {},
   "outputs": [
    {
     "data": {
      "text/plain": [
       "tensor([1., 1., 1.])"
      ]
     },
     "execution_count": 72,
     "metadata": {},
     "output_type": "execute_result"
    }
   ],
   "source": [
    "y"
   ]
  },
  {
   "cell_type": "code",
   "execution_count": 73,
   "id": "c5e9846b",
   "metadata": {},
   "outputs": [
    {
     "data": {
      "text/plain": [
       "torch.Size([1, 3, 2])"
      ]
     },
     "execution_count": 73,
     "metadata": {},
     "output_type": "execute_result"
    }
   ],
   "source": [
    "x = torch.zeros(3,2)\n",
    "x.unsqueeze(0).shape"
   ]
  },
  {
   "cell_type": "code",
   "execution_count": 74,
   "id": "ac2e6fcb",
   "metadata": {},
   "outputs": [
    {
     "data": {
      "text/plain": [
       "torch.Size([3, 1, 2])"
      ]
     },
     "execution_count": 74,
     "metadata": {},
     "output_type": "execute_result"
    }
   ],
   "source": [
    "x.unsqueeze(1).shape"
   ]
  },
  {
   "cell_type": "code",
   "execution_count": 75,
   "id": "6a110829",
   "metadata": {},
   "outputs": [
    {
     "data": {
      "text/plain": [
       "torch.Size([3, 2, 1])"
      ]
     },
     "execution_count": 75,
     "metadata": {},
     "output_type": "execute_result"
    }
   ],
   "source": [
    "x.unsqueeze(2).shape"
   ]
  },
  {
   "cell_type": "code",
   "execution_count": 76,
   "id": "33671fb3",
   "metadata": {},
   "outputs": [
    {
     "data": {
      "text/plain": [
       "tensor([[1., 1.],\n",
       "        [1., 1.],\n",
       "        [1., 1.]])"
      ]
     },
     "execution_count": 76,
     "metadata": {},
     "output_type": "execute_result"
    }
   ],
   "source": [
    "y = x.unsqueeze(1)\n",
    "x.fill_(1)"
   ]
  },
  {
   "cell_type": "code",
   "execution_count": 77,
   "id": "92bd0a38",
   "metadata": {},
   "outputs": [
    {
     "data": {
      "text/plain": [
       "tensor([[[1., 1.]],\n",
       "\n",
       "        [[1., 1.]],\n",
       "\n",
       "        [[1., 1.]]])"
      ]
     },
     "execution_count": 77,
     "metadata": {},
     "output_type": "execute_result"
    }
   ],
   "source": [
    "y"
   ]
  },
  {
   "cell_type": "code",
   "execution_count": 78,
   "id": "e1c9668c",
   "metadata": {},
   "outputs": [
    {
     "data": {
      "text/plain": [
       "tensor([0.00000000, 0.10000000, 0.20000000, 0.30000001, 0.40000001, 0.50000000,\n",
       "        0.60000002, 0.69999999, 0.80000001, 0.90000004, 1.00000000, 1.09999990,\n",
       "        1.20000005, 1.29999995, 1.39999998, 1.50000000, 1.60000002, 1.70000005,\n",
       "        1.79999995, 1.89999998, 2.00000000], requires_grad=True)"
      ]
     },
     "execution_count": 78,
     "metadata": {},
     "output_type": "execute_result"
    }
   ],
   "source": [
    "x = torch.linspace(0, 2, steps=21, requires_grad=True)\n",
    "x"
   ]
  },
  {
   "cell_type": "code",
   "execution_count": 79,
   "id": "8bd8b28a",
   "metadata": {},
   "outputs": [
    {
     "data": {
      "text/plain": [
       "tensor([2.00000000, 2.29999995, 2.59999990, 2.90000010, 3.20000005, 3.50000000,\n",
       "        3.80000019, 4.09999990, 4.40000010, 4.69999981, 5.00000000, 5.29999971,\n",
       "        5.60000038, 5.89999962, 6.19999981, 6.50000000, 6.80000019, 7.10000038,\n",
       "        7.39999962, 7.69999981, 8.00000000], grad_fn=<AddBackward0>)"
      ]
     },
     "execution_count": 79,
     "metadata": {},
     "output_type": "execute_result"
    }
   ],
   "source": [
    "y = 3*x + 2\n",
    "y"
   ]
  },
  {
   "cell_type": "code",
   "execution_count": 80,
   "id": "cac958a0",
   "metadata": {},
   "outputs": [
    {
     "data": {
      "text/plain": [
       "<AddBackward0 at 0x291c2f550>"
      ]
     },
     "execution_count": 80,
     "metadata": {},
     "output_type": "execute_result"
    }
   ],
   "source": [
    "y.grad_fn"
   ]
  },
  {
   "cell_type": "code",
   "execution_count": 81,
   "id": "e4c9cfad",
   "metadata": {},
   "outputs": [
    {
     "data": {
      "text/plain": [
       "((<MulBackward0 at 0x291c2f220>, 0), (None, 0))"
      ]
     },
     "execution_count": 81,
     "metadata": {},
     "output_type": "execute_result"
    }
   ],
   "source": [
    "y.grad_fn.next_functions"
   ]
  },
  {
   "cell_type": "code",
   "execution_count": 82,
   "id": "d03154ae",
   "metadata": {},
   "outputs": [
    {
     "data": {
      "text/plain": [
       "((<AccumulateGrad at 0x291c2f2b0>, 0), (None, 0))"
      ]
     },
     "execution_count": 82,
     "metadata": {},
     "output_type": "execute_result"
    }
   ],
   "source": [
    "y.grad_fn.next_functions[0][0].next_functions"
   ]
  },
  {
   "cell_type": "code",
   "execution_count": 83,
   "id": "375db55a",
   "metadata": {},
   "outputs": [
    {
     "data": {
      "text/plain": [
       "()"
      ]
     },
     "execution_count": 83,
     "metadata": {},
     "output_type": "execute_result"
    }
   ],
   "source": [
    "y.grad_fn.next_functions[0][0].next_functions[0][0].next_functions"
   ]
  },
  {
   "cell_type": "code",
   "execution_count": 84,
   "id": "d44012bd",
   "metadata": {},
   "outputs": [
    {
     "data": {
      "text/plain": [
       "tensor(105., grad_fn=<SumBackward0>)"
      ]
     },
     "execution_count": 84,
     "metadata": {},
     "output_type": "execute_result"
    }
   ],
   "source": [
    "out = y.sum()\n",
    "out.backward()\n",
    "out"
   ]
  },
  {
   "cell_type": "code",
   "execution_count": 85,
   "id": "6fddda29",
   "metadata": {},
   "outputs": [
    {
     "name": "stderr",
     "output_type": "stream",
     "text": [
      "/var/folders/xr/5fv2rjx15t5g4p_k7d9tqjyr0000gn/T/ipykernel_91013/486760323.py:1: UserWarning: The .grad attribute of a Tensor that is not a leaf Tensor is being accessed. Its .grad attribute won't be populated during autograd.backward(). If you indeed want the .grad field to be populated for a non-leaf Tensor, use .retain_grad() on the non-leaf Tensor. If you access the non-leaf Tensor by mistake, make sure you access the leaf Tensor instead. See github.com/pytorch/pytorch/pull/30531 for more informations. (Triggered internally at /Users/runner/work/pytorch/pytorch/pytorch/build/aten/src/ATen/core/TensorBody.h:491.)\n",
      "  y.grad\n"
     ]
    }
   ],
   "source": [
    "y.grad"
   ]
  },
  {
   "cell_type": "code",
   "execution_count": 86,
   "id": "5c9d060c",
   "metadata": {},
   "outputs": [
    {
     "data": {
      "text/plain": [
       "tensor([3., 3., 3., 3., 3., 3., 3., 3., 3., 3., 3., 3., 3., 3., 3., 3., 3., 3.,\n",
       "        3., 3., 3.])"
      ]
     },
     "execution_count": 86,
     "metadata": {},
     "output_type": "execute_result"
    }
   ],
   "source": [
    "x.grad"
   ]
  },
  {
   "cell_type": "code",
   "execution_count": 87,
   "id": "0edd7142",
   "metadata": {},
   "outputs": [],
   "source": [
    "n = 21 \n",
    "x = torch.linspace(0, 2, steps=n, requires_grad=True)\n",
    "m = torch.rand(n, requires_grad=True)\n",
    "y = m*x + 2\n",
    "y.backward(torch.ones(n))"
   ]
  },
  {
   "cell_type": "code",
   "execution_count": 88,
   "id": "e4872de3",
   "metadata": {},
   "outputs": [
    {
     "data": {
      "text/plain": [
       "tensor([0.52472377, 0.66884071, 0.84361470, 0.42650831, 0.95614588, 0.07697695,\n",
       "        0.41081089, 0.00141209, 0.54141998, 0.64189011, 0.29759663, 0.70766163,\n",
       "        0.41894549, 0.06550610, 0.88386649, 0.80828166, 0.75280386, 0.89883107,\n",
       "        0.68386000, 0.76584500, 0.91491663])"
      ]
     },
     "execution_count": 88,
     "metadata": {},
     "output_type": "execute_result"
    }
   ],
   "source": [
    "x.grad"
   ]
  },
  {
   "cell_type": "code",
   "execution_count": 89,
   "id": "3dc7897c",
   "metadata": {},
   "outputs": [
    {
     "data": {
      "text/plain": [
       "tensor([0.00000000, 0.10000000, 0.20000000, 0.30000001, 0.40000001, 0.50000000,\n",
       "        0.60000002, 0.69999999, 0.80000001, 0.90000004, 1.00000000, 1.09999990,\n",
       "        1.20000005, 1.29999995, 1.39999998, 1.50000000, 1.60000002, 1.70000005,\n",
       "        1.79999995, 1.89999998, 2.00000000])"
      ]
     },
     "execution_count": 89,
     "metadata": {},
     "output_type": "execute_result"
    }
   ],
   "source": [
    "m.grad"
   ]
  },
  {
   "cell_type": "code",
   "execution_count": 90,
   "id": "b8ab01e5",
   "metadata": {},
   "outputs": [],
   "source": [
    "def f(x, y):\n",
    "    return 3*x + 1 + 2*y**2 + x*y"
   ]
  },
  {
   "cell_type": "code",
   "execution_count": 92,
   "id": "af2831ad",
   "metadata": {},
   "outputs": [
    {
     "name": "stdout",
     "output_type": "stream",
     "text": [
      "x = 0.0 y =  0.0\n",
      "(tensor([[3.]]), tensor([[0.]])) \n",
      "\n",
      "x = 0.0 y =  1.0\n",
      "(tensor([[4.]]), tensor([[4.]])) \n",
      "\n",
      "x = 1.0 y =  0.0\n",
      "(tensor([[3.]]), tensor([[1.]])) \n",
      "\n",
      "x = 1.0 y =  1.0\n",
      "(tensor([[4.]]), tensor([[5.]])) \n",
      "\n"
     ]
    }
   ],
   "source": [
    "for x in [0.,1.]:\n",
    "    for y in [0.,1.]:\n",
    "        print(\"x =\",x, \"y = \",y)\n",
    "        inputs = (torch.tensor([x]), torch.tensor([y]))\n",
    "        print(torch.autograd.functional.jacobian(f, inputs),\"\\n\")"
   ]
  },
  {
   "cell_type": "code",
   "execution_count": 93,
   "id": "b7003455",
   "metadata": {},
   "outputs": [
    {
     "data": {
      "text/plain": [
       "((tensor([[0.]]), tensor([[1.]])), (tensor([[1.]]), tensor([[4.]])))"
      ]
     },
     "execution_count": 93,
     "metadata": {},
     "output_type": "execute_result"
    }
   ],
   "source": [
    "inputs = (torch.tensor([0.]), torch.tensor([0.]))\n",
    "torch.autograd.functional.hessian(f, inputs)"
   ]
  },
  {
   "cell_type": "code",
   "execution_count": 94,
   "id": "0e4aaf87",
   "metadata": {},
   "outputs": [
    {
     "data": {
      "text/plain": [
       "((tensor([[0.]]), tensor([[1.]])), (tensor([[1.]]), tensor([[4.]])))"
      ]
     },
     "execution_count": 94,
     "metadata": {},
     "output_type": "execute_result"
    }
   ],
   "source": [
    "inputs = (torch.tensor([1.]), torch.tensor([1.]))\n",
    "torch.autograd.functional.hessian(f, inputs)"
   ]
  },
  {
   "cell_type": "markdown",
   "id": "eb4be54b",
   "metadata": {},
   "source": [
    "## Demo 1 - Linear Regression w/ PyTorch"
   ]
  },
  {
   "cell_type": "code",
   "execution_count": 101,
   "id": "1faf75f7",
   "metadata": {},
   "outputs": [],
   "source": [
    "import math\n",
    "import statsmodels.formula.api as smf"
   ]
  },
  {
   "cell_type": "code",
   "execution_count": 102,
   "id": "59d25a83",
   "metadata": {},
   "outputs": [
    {
     "name": "stdout",
     "output_type": "stream",
     "text": [
      "                            OLS Regression Results                            \n",
      "==============================================================================\n",
      "Dep. Variable:                      y   R-squared:                       0.991\n",
      "Model:                            OLS   Adj. R-squared:                  0.991\n",
      "Method:                 Least Squares   F-statistic:                     7041.\n",
      "Date:                Fri, 07 Jul 2023   Prob (F-statistic):          2.96e-199\n",
      "Time:                        02:28:34   Log-Likelihood:                 254.95\n",
      "No. Observations:                 200   AIC:                            -501.9\n",
      "Df Residuals:                     196   BIC:                            -488.7\n",
      "Df Model:                           3                                         \n",
      "Covariance Type:            nonrobust                                         \n",
      "==============================================================================\n",
      "                 coef    std err          t      P>|t|      [0.025      0.975]\n",
      "------------------------------------------------------------------------------\n",
      "Intercept   6.622e-17      0.007   9.14e-15      1.000      -0.014       0.014\n",
      "x              0.8546      0.007    128.977      0.000       0.842       0.868\n",
      "I(x ** 2)   5.929e-19      0.002   3.65e-16      1.000      -0.003       0.003\n",
      "I(x ** 3)     -0.0928      0.001    -91.419      0.000      -0.095      -0.091\n",
      "==============================================================================\n",
      "Omnibus:                        9.247   Durbin-Watson:                   0.013\n",
      "Prob(Omnibus):                  0.010   Jarque-Bera (JB):                4.248\n",
      "Skew:                           0.000   Prob(JB):                        0.120\n",
      "Kurtosis:                       2.286   Cond. No.                         18.3\n",
      "==============================================================================\n",
      "\n",
      "Notes:\n",
      "[1] Standard Errors assume that the covariance matrix of the errors is correctly specified.\n"
     ]
    }
   ],
   "source": [
    "x = np.linspace(-math.pi, math.pi, 200)\n",
    "y = np.sin(x)\n",
    "lm = smf.ols(\"y~x+I(x**2)+I(x**3)\", data=pd.DataFrame({\"x\": x, \"y\": y})).fit()\n",
    "print(lm.summary())"
   ]
  },
  {
   "cell_type": "code",
   "execution_count": 103,
   "id": "6918fef9",
   "metadata": {},
   "outputs": [],
   "source": [
    "yt = torch.tensor(y)\n",
    "Xt = torch.tensor(lm.model.exog)\n",
    "bt = torch.randn((Xt.shape[1], 1), dtype=torch.float64, requires_grad=True)"
   ]
  },
  {
   "cell_type": "code",
   "execution_count": 104,
   "id": "d470cff5",
   "metadata": {},
   "outputs": [
    {
     "data": {
      "text/plain": [
       "4893.266656122509"
      ]
     },
     "execution_count": 104,
     "metadata": {},
     "output_type": "execute_result"
    }
   ],
   "source": [
    "yt_pred = (Xt @ bt).squeeze()\n",
    "\n",
    "loss = (yt_pred - yt).pow(2).sum()\n",
    "loss.item()"
   ]
  },
  {
   "cell_type": "markdown",
   "id": "958a2561",
   "metadata": {},
   "source": [
    "## Gradient Descent"
   ]
  },
  {
   "cell_type": "code",
   "execution_count": 105,
   "id": "ac1e8002",
   "metadata": {},
   "outputs": [],
   "source": [
    "learning_rate = 1e-6\n",
    "loss.backward() # Compute the backward pass\n",
    "with torch.no_grad():\n",
    "    bt -= learning_rate * bt.grad # Make the step\n",
    "    bt.grad = None # Reset the gradients"
   ]
  },
  {
   "cell_type": "code",
   "execution_count": 106,
   "id": "5a052404",
   "metadata": {},
   "outputs": [
    {
     "data": {
      "text/plain": [
       "4567.252766001831"
      ]
     },
     "execution_count": 106,
     "metadata": {},
     "output_type": "execute_result"
    }
   ],
   "source": [
    "yt_pred = (Xt @ bt).squeeze()\n",
    "loss = (yt_pred - yt).pow(2).sum()\n",
    "loss.item()"
   ]
  },
  {
   "cell_type": "code",
   "execution_count": 108,
   "id": "5314eeaa",
   "metadata": {},
   "outputs": [
    {
     "name": "stdout",
     "output_type": "stream",
     "text": [
      "0 5393.027811846257\n",
      "500 11.34517667270568\n",
      "1000 2.3986115412631377\n",
      "1500 1.1325569699935834\n",
      "2000 0.9477948194447358\n",
      "2500 0.9199612995844386\n",
      "3000 0.9156371725340218\n",
      "3500 0.9149462437941489\n",
      "4000 0.9148331335900094\n",
      "4500 0.9148142435247109\n"
     ]
    }
   ],
   "source": [
    "yt = torch.tensor(y).unsqueeze(1)\n",
    "Xt = torch.tensor(lm.model.exog)\n",
    "bt = torch.randn((Xt.shape[1], 1), dtype=torch.float64, requires_grad=True)\n",
    "learning_rate = 1e-5\n",
    "for i in range(5000):\n",
    "    yt_pred = Xt @ bt\n",
    "    loss = (yt_pred - yt).pow(2).sum()\n",
    "    if i % 500 == 0:\n",
    "        print(i, loss.item())\n",
    "    loss.backward()\n",
    "    with torch.no_grad():\n",
    "        bt -= learning_rate * bt.grad\n",
    "        bt.grad = None"
   ]
  },
  {
   "cell_type": "code",
   "execution_count": 109,
   "id": "c75f6520",
   "metadata": {},
   "outputs": [
    {
     "data": {
      "text/plain": [
       "tensor([[ 8.33698858e-05],\n",
       "        [ 8.54555858e-01],\n",
       "        [-1.42487076e-05],\n",
       "        [-9.28176610e-02]], dtype=torch.float64, requires_grad=True)"
      ]
     },
     "execution_count": 109,
     "metadata": {},
     "output_type": "execute_result"
    }
   ],
   "source": [
    "bt"
   ]
  },
  {
   "cell_type": "code",
   "execution_count": 110,
   "id": "f2b1a2a1",
   "metadata": {},
   "outputs": [
    {
     "data": {
      "text/plain": [
       "Intercept    6.621765e-17\n",
       "x            8.545770e-01\n",
       "I(x ** 2)    5.929231e-19\n",
       "I(x ** 3)   -9.282065e-02\n",
       "dtype: float64"
      ]
     },
     "execution_count": 110,
     "metadata": {},
     "output_type": "execute_result"
    }
   ],
   "source": [
    "lm.params"
   ]
  },
  {
   "cell_type": "code",
   "execution_count": 111,
   "id": "a52d4818",
   "metadata": {},
   "outputs": [],
   "source": [
    "## Demo 2 "
   ]
  },
  {
   "cell_type": "code",
   "execution_count": 112,
   "id": "0fc39ee6",
   "metadata": {},
   "outputs": [],
   "source": [
    "class Model(torch.nn.Module):\n",
    "    def __init__(self, beta):\n",
    "        super().__init__()\n",
    "        beta.requires_grad = True\n",
    "        self.beta = torch.nn.Parameter(beta)\n",
    "    def forward(self, X):\n",
    "        return X @ self.beta\n",
    "def training_loop(model, X, y, optimizer, n=1000):\n",
    "    losses = []\n",
    "    for i in range(n):\n",
    "        y_pred = model(X)\n",
    "        loss = (y_pred.squeeze() - y.squeeze()).pow(2).sum()\n",
    "        loss.backward()\n",
    "        optimizer.step()\n",
    "        optimizer.zero_grad()\n",
    "        losses.append(loss.item())\n",
    "    return losses"
   ]
  },
  {
   "cell_type": "code",
   "execution_count": 113,
   "id": "ca7c84f4",
   "metadata": {},
   "outputs": [],
   "source": [
    "x = torch.linspace(-math.pi, math.pi, 200)\n",
    "y = torch.sin(x)\n",
    "X = torch.vstack((\n",
    "  torch.ones_like(x),\n",
    "  x,\n",
    "  x**2,\n",
    "  x**3\n",
    ")).T\n",
    "m = Model(beta = torch.zeros(4))\n",
    "opt = torch.optim.SGD(m.parameters(), lr=1e-5)\n",
    "losses = training_loop(m, X, y, opt, n=3000)"
   ]
  },
  {
   "cell_type": "code",
   "execution_count": 114,
   "id": "a1f38be7",
   "metadata": {},
   "outputs": [
    {
     "data": {
      "text/plain": [
       "Parameter containing:\n",
       "tensor([ 2.66870664e-10,  8.52953434e-01,  6.79866718e-11, -9.25917700e-02],\n",
       "       requires_grad=True)"
      ]
     },
     "execution_count": 114,
     "metadata": {},
     "output_type": "execute_result"
    }
   ],
   "source": [
    "m.beta"
   ]
  },
  {
   "cell_type": "code",
   "execution_count": 115,
   "id": "0ef37477",
   "metadata": {},
   "outputs": [
    {
     "data": {
      "image/png": "[encoded data removed]",
      "text/plain": [
       "<Figure size 800x600 with 1 Axes>"
      ]
     },
     "metadata": {},
     "output_type": "display_data"
    }
   ],
   "source": [
    "plt.figure(figsize=(8,6), layout=\"constrained\")\n",
    "plt.plot(losses)\n",
    "plt.show()"
   ]
  },
  {
   "cell_type": "code",
   "execution_count": null,
   "id": "b0c43ca4",
   "metadata": {},
   "outputs": [],
   "source": []
  },
  {
   "cell_type": "code",
   "execution_count": 117,
   "id": "5408b359",
   "metadata": {},
   "outputs": [],
   "source": [
    "class Model(torch.nn.Module):\n",
    "    def __init__(self, X, y, beta=None):\n",
    "        super().__init__()\n",
    "        self.X = X\n",
    "        self.y = y\n",
    "        if beta is None:\n",
    "          beta = torch.zeros(X.shape[1])\n",
    "        beta.requires_grad = True\n",
    "        self.beta = torch.nn.Parameter(beta)\n",
    "    def forward(self, X):\n",
    "        return X @ self.beta\n",
    "    def fit(self, opt, n=1000, loss_fn = torch.nn.MSELoss()):\n",
    "      losses = []\n",
    "      for i in range(n):\n",
    "          loss = loss_fn(self(self.X).squeeze(), self.y.squeeze())\n",
    "          loss.backward()\n",
    "          opt.step()\n",
    "          opt.zero_grad()\n",
    "          losses.append(loss.item())\n",
    "      return losses"
   ]
  },
  {
   "cell_type": "code",
   "execution_count": 118,
   "id": "d377598c",
   "metadata": {},
   "outputs": [
    {
     "data": {
      "image/png": "[encoded data removed]",
      "text/plain": [
       "<Figure size 800x600 with 1 Axes>"
      ]
     },
     "metadata": {},
     "output_type": "display_data"
    }
   ],
   "source": [
    "plt.figure(figsize=(8,6), layout=\"constrained\")\n",
    "for lr in [1e-3, 1e-4, 1e-5, 1e-6]:\n",
    "  m = Model(X, y)\n",
    "  opt = torch.optim.SGD(m.parameters(), lr=lr)\n",
    "  losses = m.fit(opt, n=10000)\n",
    "  plt.plot(losses, label=f\"lr = {lr}\")\n",
    "plt.legend()\n",
    "plt.show()\n",
    "\n"
   ]
  },
  {
   "cell_type": "code",
   "execution_count": 119,
   "id": "97f9613f",
   "metadata": {},
   "outputs": [
    {
     "data": {
      "text/plain": [
       "tensor([-5.14589094e-10,  8.54548573e-01,  1.36933340e-10, -9.28166360e-02])"
      ]
     },
     "execution_count": 119,
     "metadata": {},
     "output_type": "execute_result"
    }
   ],
   "source": [
    "\n",
    "\n",
    "x = torch.linspace(-math.pi, math.pi, 200)\n",
    "y = torch.sin(x)\n",
    "X = torch.vstack((\n",
    "  torch.ones_like(x),\n",
    "  x,\n",
    "  x**2,\n",
    "  x**3\n",
    ")).T\n",
    "m = Model(X, y)\n",
    "opt = torch.optim.SGD(m.parameters(), lr=1e-3)\n",
    "losses = m.fit(opt, n=10000)\n",
    "m.beta.detach()"
   ]
  },
  {
   "cell_type": "code",
   "execution_count": 120,
   "id": "9152873f",
   "metadata": {},
   "outputs": [
    {
     "data": {
      "image/png": "[encoded data removed]",
      "text/plain": [
       "<Figure size 800x600 with 1 Axes>"
      ]
     },
     "metadata": {},
     "output_type": "display_data"
    }
   ],
   "source": [
    "plt.figure(figsize=(8,6), layout=\"constrained\")\n",
    "plt.plot(losses)\n",
    "plt.show()"
   ]
  },
  {
   "cell_type": "code",
   "execution_count": 121,
   "id": "2ee573e8",
   "metadata": {},
   "outputs": [
    {
     "data": {
      "image/png": "[encoded data removed]",
      "text/plain": [
       "<Figure size 800x600 with 1 Axes>"
      ]
     },
     "metadata": {},
     "output_type": "display_data"
    }
   ],
   "source": [
    "\n",
    "\n",
    "plt.figure(figsize=(8,6), layout=\"constrained\")\n",
    "for mt in [0, 0.1, 0.25, 0.5, 0.75, 0.9, 0.99]:\n",
    "  m = Model(X, y)\n",
    "  opt = torch.optim.SGD(m.parameters(), lr=1e-4, momentum=mt)\n",
    "  losses = m.fit(opt, n=10000)\n",
    "  plt.plot(losses, label=f\"momentum = {mt}\")\n",
    "plt.legend()\n",
    "plt.show()\n",
    "\n"
   ]
  },
  {
   "cell_type": "code",
   "execution_count": 123,
   "id": "98b90054",
   "metadata": {},
   "outputs": [
    {
     "data": {
      "image/png": "[encoded data removed]",
      "text/plain": [
       "<Figure size 800x600 with 1 Axes>"
      ]
     },
     "metadata": {},
     "output_type": "display_data"
    }
   ],
   "source": [
    "plt.figure(figsize=(8,6), layout=\"constrained\")\n",
    "opts = (torch.optim.SGD, \n",
    "        torch.optim.Adam, \n",
    "        torch.optim.Adagrad)\n",
    "for opt_fn in opts:\n",
    "    m = Model(X, y)\n",
    "    opt = opt_fn(m.parameters(), lr=1e-4)\n",
    "    losses = m.fit(opt, n=10000)\n",
    "    plt.plot(losses, label=f\"opt = {opt_fn}\")\n",
    "plt.legend()\n",
    "plt.show()\n",
    "\n"
   ]
  },
  {
   "cell_type": "code",
   "execution_count": 124,
   "id": "26ce627e",
   "metadata": {},
   "outputs": [],
   "source": [
    "from sklearn.datasets import load_digits\n",
    "digits = load_digits()"
   ]
  },
  {
   "cell_type": "code",
   "execution_count": 125,
   "id": "7ee79085",
   "metadata": {},
   "outputs": [
    {
     "data": {
      "text/plain": [
       "(1797, 64)"
      ]
     },
     "execution_count": 125,
     "metadata": {},
     "output_type": "execute_result"
    }
   ],
   "source": [
    "X = digits.data\n",
    "X.shape"
   ]
  },
  {
   "cell_type": "code",
   "execution_count": 126,
   "id": "c5fe6958",
   "metadata": {},
   "outputs": [
    {
     "data": {
      "text/plain": [
       "array([[ 0.,  0.,  5., 13.,  9.,  1.,  0.,  0.,  0.,  0., 13., 15., 10.,\n",
       "        15.,  5.,  0.,  0.,  3., 15.,  2.,  0., 11.,  8.,  0.,  0.,  4.,\n",
       "        12.,  0.,  0.,  8.,  8.,  0.,  0.,  5.,  8.,  0.,  0.,  9.,  8.,\n",
       "         0.,  0.,  4., 11.,  0.,  1., 12.,  7.,  0.,  0.,  2., 14.,  5.,\n",
       "        10., 12.,  0.,  0.,  0.,  0.,  6., 13., 10.,  0.,  0.,  0.],\n",
       "       [ 0.,  0.,  0., 12., 13.,  5.,  0.,  0.,  0.,  0.,  0., 11., 16.,\n",
       "         9.,  0.,  0.,  0.,  0.,  3., 15., 16.,  6.,  0.,  0.,  0.,  7.,\n",
       "        15., 16., 16.,  2.,  0.,  0.,  0.,  0.,  1., 16., 16.,  3.,  0.,\n",
       "         0.,  0.,  0.,  1., 16., 16.,  6.,  0.,  0.,  0.,  0.,  1., 16.,\n",
       "        16.,  6.,  0.,  0.,  0.,  0.,  0., 11., 16., 10.,  0.,  0.],\n",
       "       [ 0.,  0.,  0.,  4., 15., 12.,  0.,  0.,  0.,  0.,  3., 16., 15.,\n",
       "        14.,  0.,  0.,  0.,  0.,  8., 13.,  8., 16.,  0.,  0.,  0.,  0.,\n",
       "         1.,  6., 15., 11.,  0.,  0.,  0.,  1.,  8., 13., 15.,  1.,  0.,\n",
       "         0.,  0.,  9., 16., 16.,  5.,  0.,  0.,  0.,  0.,  3., 13., 16.,\n",
       "        16., 11.,  5.,  0.,  0.,  0.,  0.,  3., 11., 16.,  9.,  0.]])"
      ]
     },
     "execution_count": 126,
     "metadata": {},
     "output_type": "execute_result"
    }
   ],
   "source": [
    "X[0:3]"
   ]
  },
  {
   "cell_type": "code",
   "execution_count": 127,
   "id": "470b6042",
   "metadata": {},
   "outputs": [
    {
     "data": {
      "text/plain": [
       "(1797,)"
      ]
     },
     "execution_count": 127,
     "metadata": {},
     "output_type": "execute_result"
    }
   ],
   "source": [
    "y = digits.target\n",
    "y.shape"
   ]
  },
  {
   "cell_type": "code",
   "execution_count": 128,
   "id": "356ecbd7",
   "metadata": {},
   "outputs": [
    {
     "data": {
      "text/plain": [
       "array([0, 1, 2, 3, 4, 5, 6, 7, 8, 9])"
      ]
     },
     "execution_count": 128,
     "metadata": {},
     "output_type": "execute_result"
    }
   ],
   "source": [
    "y[0:10]"
   ]
  },
  {
   "cell_type": "code",
   "execution_count": 129,
   "id": "fdc9a795",
   "metadata": {},
   "outputs": [],
   "source": [
    "from sklearn.model_selection import train_test_split\n",
    "X_train, X_test, y_train, y_test = train_test_split(\n",
    "    X, y, test_size=0.20, shuffle=True, random_state=1234\n",
    ")"
   ]
  },
  {
   "cell_type": "code",
   "execution_count": 130,
   "id": "5f77c6c6",
   "metadata": {},
   "outputs": [
    {
     "name": "stdout",
     "output_type": "stream",
     "text": [
      "X.shape=(1797, 64) \n",
      "X_train.shape=(1437, 64)\n",
      "X_test.shape = (360, 64)\n"
     ]
    }
   ],
   "source": [
    "print(f\"X.shape={X.shape} \\nX_train.shape={X_train.shape}\\nX_test.shape = {X_test.shape}\")"
   ]
  },
  {
   "cell_type": "code",
   "execution_count": 132,
   "id": "f132924d",
   "metadata": {},
   "outputs": [
    {
     "data": {
      "text/plain": [
       "1.0"
      ]
     },
     "execution_count": 132,
     "metadata": {},
     "output_type": "execute_result"
    }
   ],
   "source": [
    "from sklearn.linear_model import LogisticRegression\n",
    "from sklearn.metrics import accuracy_score\n",
    "lr = LogisticRegression(penalty=None).fit(X_train, y_train)\n",
    "accuracy_score(y_train, lr.predict(X_train))"
   ]
  },
  {
   "cell_type": "code",
   "execution_count": 133,
   "id": "d7a5fbc0",
   "metadata": {},
   "outputs": [
    {
     "data": {
      "text/plain": [
       "0.9583333333333334"
      ]
     },
     "execution_count": 133,
     "metadata": {},
     "output_type": "execute_result"
    }
   ],
   "source": [
    "accuracy_score(y_test, lr.predict(X_test))"
   ]
  },
  {
   "cell_type": "code",
   "execution_count": 134,
   "id": "9c3b2a67",
   "metadata": {},
   "outputs": [],
   "source": [
    "X_train = torch.from_numpy(X_train).float()\n",
    "y_train = torch.from_numpy(y_train)\n",
    "X_test = torch.from_numpy(X_test).float()\n",
    "y_test = torch.from_numpy(y_test)\n",
    "\n"
   ]
  },
  {
   "cell_type": "code",
   "execution_count": 135,
   "id": "de972db5",
   "metadata": {},
   "outputs": [
    {
     "name": "stdout",
     "output_type": "stream",
     "text": [
      "X.shape=(1797, 64) \n",
      "X_train.shape=torch.Size([1437, 64])\n",
      "X_test.shape = torch.Size([360, 64])\n"
     ]
    }
   ],
   "source": [
    "print(f\"X.shape={X.shape} \\nX_train.shape={X_train.shape}\\nX_test.shape = {X_test.shape}\")"
   ]
  },
  {
   "cell_type": "markdown",
   "id": "4b775b86",
   "metadata": {},
   "source": [
    "## PyTorch Model "
   ]
  },
  {
   "cell_type": "code",
   "execution_count": 136,
   "id": "d8327aa6",
   "metadata": {},
   "outputs": [],
   "source": [
    "class mnist_model(torch.nn.Module):\n",
    "    def __init__(self, input_dim, output_dim):\n",
    "        super().__init__()\n",
    "        self.beta = torch.nn.Parameter(\n",
    "          torch.randn(input_dim, output_dim, requires_grad=True)  \n",
    "        )\n",
    "        self.intercept = torch.nn.Parameter(\n",
    "          torch.randn(output_dim, requires_grad=True)  \n",
    "        )\n",
    "    def forward(self, X):\n",
    "        return (X @ self.beta + self.intercept).squeeze()\n",
    "    \n",
    "    def fit(self, X_train, y_train, X_test, y_test, lr=0.001, n=1000):\n",
    "        opt = torch.optim.SGD(self.parameters(), lr=lr, momentum=0.9) \n",
    "        losses = []\n",
    "        for i in range(n):\n",
    "            opt.zero_grad()\n",
    "            loss = torch.nn.CrossEntropyLoss()(self(X_train), y_train)\n",
    "            loss.backward()\n",
    "            opt.step()\n",
    "            losses.append(loss.item())\n",
    "        return losses"
   ]
  },
  {
   "cell_type": "code",
   "execution_count": 137,
   "id": "221ce561",
   "metadata": {},
   "outputs": [
    {
     "data": {
      "image/png": "[encoded data removed]",
      "text/plain": [
       "<Figure size 800x600 with 1 Axes>"
      ]
     },
     "metadata": {},
     "output_type": "display_data"
    }
   ],
   "source": [
    "m = mnist_model(64, 10)\n",
    "l = m.fit(X_train, y_train, X_test, y_test)\n",
    "\n",
    "plt.figure(figsize=(8,6), layout=\"constrained\")\n",
    "plt.plot(l)\n",
    "plt.show()"
   ]
  },
  {
   "cell_type": "code",
   "execution_count": 138,
   "id": "9571036f",
   "metadata": {},
   "outputs": [
    {
     "data": {
      "text/plain": [
       "tensor([[-113.19213867,  -47.45373154,  -19.58956528,  ...,\n",
       "           41.78219604,  -17.63852692,    4.14395237],\n",
       "        [ -51.64511490,   19.68872070,  -79.10167694,  ...,\n",
       "           -9.97108555,  -11.24548244,   10.20740032],\n",
       "        [-102.27602386,  -41.62726212,  -32.94659042,  ...,\n",
       "           59.59884262,  -10.49522495,  -20.04067230],\n",
       "        ...,\n",
       "        [  29.43346786,  -20.26519203,  -62.13895798,  ...,\n",
       "          -37.86999512,  -24.02033424,   -5.16693592],\n",
       "        [-132.47962952,  -14.17498779,  -55.28041840,  ...,\n",
       "           34.56558990,  -15.05064678,  -21.38261604],\n",
       "        [ -43.76542282,  -17.66407394,   10.44637108,  ...,\n",
       "          -28.90595627,   18.98110199,   10.31082630]],\n",
       "       grad_fn=<SqueezeBackward0>)"
      ]
     },
     "execution_count": 138,
     "metadata": {},
     "output_type": "execute_result"
    }
   ],
   "source": [
    "m(X_test)"
   ]
  },
  {
   "cell_type": "code",
   "execution_count": 139,
   "id": "67655b5b",
   "metadata": {},
   "outputs": [],
   "source": [
    "val, index = torch.max(m(X_test), dim=1)"
   ]
  },
  {
   "cell_type": "code",
   "execution_count": 140,
   "id": "dd7cb386",
   "metadata": {},
   "outputs": [
    {
     "data": {
      "text/plain": [
       "tensor([7, 1, 7, 6, 0, 2, 4, 3, 6, 3, 7, 8, 7, 9, 4, 8, 3, 7, 8, 4, 0, 3, 9, 2,\n",
       "        3, 6, 6, 0, 5, 4, 1, 2, 1, 9, 3, 2, 7, 6, 4, 8, 6, 4, 4, 0, 9, 7, 8, 5,\n",
       "        4, 4, 4, 1, 7, 6, 8, 2, 9, 9, 8, 0, 8, 3, 1, 8, 8, 8, 3, 9, 1, 5, 9, 6,\n",
       "        9, 5, 2, 1, 9, 2, 1, 3, 8, 7, 3, 3, 8, 7, 7, 5, 8, 2, 4, 1, 9, 1, 6, 0,\n",
       "        5, 2, 2, 4, 5, 0, 7, 6, 5, 9, 2, 4, 1, 0, 9, 6, 1, 2, 9, 5, 2, 5, 0, 3,\n",
       "        2, 7, 6, 4, 6, 2, 1, 1, 6, 7, 6, 5, 5, 4, 7, 5, 0, 9, 1, 0, 5, 6, 7, 6,\n",
       "        3, 7, 3, 2, 0, 4, 6, 3, 5, 4, 6, 1, 1, 9, 6, 2, 7, 9, 0, 7, 9, 5, 4, 1,\n",
       "        3, 8, 6, 4, 7, 1, 5, 7, 4, 7, 4, 0, 2, 2, 7, 8, 4, 4, 3, 5, 5, 9, 4, 5,\n",
       "        5, 9, 3, 9, 3, 1, 2, 0, 8, 2, 8, 3, 2, 4, 6, 8, 3, 8, 1, 0, 8, 1, 7, 8,\n",
       "        6, 8, 7, 1, 8, 3, 4, 8, 7, 0, 5, 5, 6, 1, 3, 0, 5, 8, 2, 0, 9, 8, 6, 7,\n",
       "        8, 4, 1, 0, 5, 2, 5, 1, 6, 4, 7, 1, 2, 6, 4, 4, 6, 3, 2, 5, 2, 6, 5, 2,\n",
       "        9, 7, 7, 0, 1, 0, 4, 3, 1, 2, 7, 9, 8, 5, 9, 5, 7, 0, 6, 8, 4, 9, 4, 0,\n",
       "        7, 7, 6, 5, 3, 5, 3, 9, 7, 5, 6, 2, 7, 0, 8, 9, 1, 7, 9, 8, 5, 0, 2, 0,\n",
       "        5, 7, 0, 9, 5, 5, 9, 6, 1, 2, 3, 9, 6, 3, 2, 9, 3, 6, 3, 4, 1, 8, 1, 8,\n",
       "        5, 0, 9, 2, 7, 2, 3, 5, 2, 6, 3, 4, 1, 5, 0, 5, 4, 6, 3, 2, 5, 0, 7, 3])"
      ]
     },
     "execution_count": 140,
     "metadata": {},
     "output_type": "execute_result"
    }
   ],
   "source": [
    "index"
   ]
  },
  {
   "cell_type": "code",
   "execution_count": 141,
   "id": "7449bffa",
   "metadata": {},
   "outputs": [
    {
     "data": {
      "text/plain": [
       "tensor(320)"
      ]
     },
     "execution_count": 141,
     "metadata": {},
     "output_type": "execute_result"
    }
   ],
   "source": [
    "(index == y_test).sum()"
   ]
  },
  {
   "cell_type": "code",
   "execution_count": 142,
   "id": "8aa098d4",
   "metadata": {},
   "outputs": [
    {
     "data": {
      "text/plain": [
       "tensor(0.88888890)"
      ]
     },
     "execution_count": 142,
     "metadata": {},
     "output_type": "execute_result"
    }
   ],
   "source": [
    "(index == y_test).sum() / len(y_test)"
   ]
  },
  {
   "cell_type": "markdown",
   "id": "ce9dad07",
   "metadata": {},
   "source": [
    "## Calculating Accuracy "
   ]
  },
  {
   "cell_type": "code",
   "execution_count": 144,
   "id": "d365e999",
   "metadata": {},
   "outputs": [],
   "source": [
    "class mnist_model(torch.nn.Module):\n",
    "    def __init__(self, input_dim, output_dim):\n",
    "        super().__init__()\n",
    "        self.beta = torch.nn.Parameter(\n",
    "          torch.randn(input_dim, output_dim, requires_grad=True)  \n",
    "        )\n",
    "        self.intercept = torch.nn.Parameter(\n",
    "          torch.randn(output_dim, requires_grad=True)  \n",
    "        )\n",
    "    def forward(self, X):\n",
    "        return (X @ self.beta + self.intercept).squeeze()\n",
    "    def fit(self, X_train, y_train, X_test, y_test, lr=0.001, n=1000, acc_step=10):\n",
    "        opt = torch.optim.SGD(self.parameters(), lr=lr, momentum=0.9) \n",
    "        losses, train_acc, test_acc = [], [], []\n",
    "        for i in range(n):\n",
    "            opt.zero_grad()\n",
    "            loss = torch.nn.CrossEntropyLoss()(self(X_train), y_train)\n",
    "            loss.backward()\n",
    "            opt.step()\n",
    "            losses.append(loss.item())\n",
    "            if (i+1) % acc_step == 0:\n",
    "                val, train_pred = torch.max(self(X_train), dim=1)\n",
    "                val, test_pred  = torch.max(self(X_test), dim=1)\n",
    "                train_acc.append( (train_pred == y_train).sum() / len(y_train) )\n",
    "                test_acc.append( (test_pred == y_test).sum() / len(y_test) )\n",
    "        return (losses, train_acc, test_acc)\n",
    "\n"
   ]
  },
  {
   "cell_type": "code",
   "execution_count": 145,
   "id": "ebbc99f2",
   "metadata": {},
   "outputs": [
    {
     "data": {
      "image/png": "[encoded data removed]",
      "text/plain": [
       "<Figure size 800x600 with 1 Axes>"
      ]
     },
     "metadata": {},
     "output_type": "display_data"
    }
   ],
   "source": [
    "loss, train_acc, test_acc = mnist_model(64, 10).fit(X_train, y_train, X_test, y_test,acc_step=10, n=3000)\n",
    "\n",
    "plt.figure(figsize=(8,6), layout=\"constrained\")\n",
    "plt.plot(train_acc, label=\"train accuracy\")\n",
    "plt.plot(test_acc, label=\"test accuracy\")\n",
    "plt.legend()\n",
    "plt.show()"
   ]
  },
  {
   "cell_type": "code",
   "execution_count": 146,
   "id": "93913f49",
   "metadata": {},
   "outputs": [],
   "source": [
    "class mnist_nn_model(torch.nn.Module):\n",
    "    def __init__(self, input_dim, output_dim):\n",
    "        super().__init__()\n",
    "        self.linear = torch.nn.Linear(input_dim, output_dim)\n",
    "    def forward(self, X):\n",
    "        return self.linear(X)\n",
    "    def fit(self, X_train, y_train, X_test, y_test, lr=0.001, n=1000, acc_step=10):\n",
    "        opt = torch.optim.SGD(self.parameters(), lr=lr, momentum=0.9) \n",
    "        losses, train_acc, test_acc = [], [], []\n",
    "        for i in range(n):\n",
    "            opt.zero_grad()\n",
    "            loss = torch.nn.CrossEntropyLoss()(self(X_train), y_train)\n",
    "            loss.backward()\n",
    "            opt.step()\n",
    "            losses.append(loss.item())\n",
    "            if (i+1) % acc_step == 0:\n",
    "                val, train_pred = torch.max(self(X_train), dim=1)\n",
    "                val, test_pred  = torch.max(self(X_test), dim=1)\n",
    "                train_acc.append( (train_pred == y_train).sum() / len(y_train) )\n",
    "                test_acc.append( (test_pred == y_test).sum() / len(y_test) )\n",
    "        return (losses, train_acc, test_acc)"
   ]
  },
  {
   "cell_type": "code",
   "execution_count": 147,
   "id": "626b67c8",
   "metadata": {},
   "outputs": [
    {
     "data": {
      "text/plain": [
       "<generator object Module.parameters at 0x2babdf920>"
      ]
     },
     "execution_count": 147,
     "metadata": {},
     "output_type": "execute_result"
    }
   ],
   "source": [
    "m = mnist_nn_model(64, 10)\n",
    "m.parameters()"
   ]
  },
  {
   "cell_type": "code",
   "execution_count": 148,
   "id": "9b70cb6a",
   "metadata": {},
   "outputs": [
    {
     "data": {
      "text/plain": [
       "2"
      ]
     },
     "execution_count": 148,
     "metadata": {},
     "output_type": "execute_result"
    }
   ],
   "source": [
    "len(list(m.parameters()))"
   ]
  },
  {
   "cell_type": "code",
   "execution_count": 149,
   "id": "80a015d9",
   "metadata": {},
   "outputs": [
    {
     "data": {
      "text/plain": [
       "torch.Size([10, 64])"
      ]
     },
     "execution_count": 149,
     "metadata": {},
     "output_type": "execute_result"
    }
   ],
   "source": [
    "list(m.parameters())[0].shape"
   ]
  },
  {
   "cell_type": "code",
   "execution_count": 150,
   "id": "b07afb0a",
   "metadata": {},
   "outputs": [
    {
     "data": {
      "text/plain": [
       "torch.Size([10])"
      ]
     },
     "execution_count": 150,
     "metadata": {},
     "output_type": "execute_result"
    }
   ],
   "source": [
    "list(m.parameters())[1].shape"
   ]
  },
  {
   "cell_type": "code",
   "execution_count": 151,
   "id": "a0f6b4c5",
   "metadata": {},
   "outputs": [],
   "source": [
    "loss, train_acc, test_acc = m.fit(X_train, y_train, X_test, y_test, n=1500)"
   ]
  },
  {
   "cell_type": "code",
   "execution_count": 152,
   "id": "b105c2ad",
   "metadata": {},
   "outputs": [],
   "source": [
    "class mnist_fnn_model(torch.nn.Module):\n",
    "    def __init__(self, input_dim, hidden_dim, output_dim, nl_step = torch.nn.ReLU(), seed=1234):\n",
    "        super().__init__()\n",
    "        self.l1 = torch.nn.Linear(input_dim, hidden_dim)\n",
    "        self.nl = nl_step\n",
    "        self.l2 = torch.nn.Linear(hidden_dim, output_dim)\n",
    "    def forward(self, X):\n",
    "        out = self.l1(X)\n",
    "        out = self.nl(out)\n",
    "        out = self.l2(out)\n",
    "        return out\n",
    "    def fit(self, X_train, y_train, X_test, y_test, lr=0.001, n=1000, acc_step=10):\n",
    "        opt = torch.optim.SGD(self.parameters(), lr=lr, momentum=0.9) \n",
    "        losses, train_acc, test_acc = [], [], []\n",
    "        for i in range(n):\n",
    "            opt.zero_grad()\n",
    "            loss = torch.nn.CrossEntropyLoss()(self(X_train), y_train)\n",
    "            loss.backward()\n",
    "            opt.step()\n",
    "            losses.append(loss.item())\n",
    "            if (i+1) % acc_step == 0:\n",
    "                val, train_pred = torch.max(self(X_train), dim=1)\n",
    "                val, test_pred  = torch.max(self(X_test), dim=1)\n",
    "                train_acc.append( (train_pred == y_train).sum() / len(y_train) )\n",
    "                test_acc.append( (test_pred == y_test).sum() / len(y_test) )\n",
    "        return (losses, train_acc, test_acc)\n",
    "\n"
   ]
  },
  {
   "cell_type": "code",
   "execution_count": 153,
   "id": "85fba37c",
   "metadata": {},
   "outputs": [
    {
     "name": "stdout",
     "output_type": "stream",
     "text": [
      "Param 0 torch.Size([64, 64])\n",
      "Param 1 torch.Size([64])\n",
      "Param 2 torch.Size([10, 64])\n",
      "Param 3 torch.Size([10])\n"
     ]
    }
   ],
   "source": [
    "m = mnist_fnn_model(64,64,10)\n",
    "len(list(m.parameters()))\n",
    "\n",
    "## 4\n",
    "\n",
    "for i, p in enumerate(m.parameters()):\n",
    "    print(\"Param\", i, p.shape)"
   ]
  },
  {
   "cell_type": "code",
   "execution_count": 154,
   "id": "41793c7c",
   "metadata": {},
   "outputs": [
    {
     "data": {
      "text/plain": [
       "[tensor(0.96666664),\n",
       " tensor(0.96666664),\n",
       " tensor(0.96666664),\n",
       " tensor(0.96666664),\n",
       " tensor(0.96666664)]"
      ]
     },
     "execution_count": 154,
     "metadata": {},
     "output_type": "execute_result"
    }
   ],
   "source": [
    "loss, train_acc, test_acc = mnist_fnn_model(64,64,10).fit(\n",
    "  X_train, y_train, X_test, y_test, n=2000\n",
    ")\n",
    "test_acc[-5:]"
   ]
  },
  {
   "cell_type": "code",
   "execution_count": 155,
   "id": "31cb2846",
   "metadata": {},
   "outputs": [
    {
     "data": {
      "text/plain": [
       "[tensor(0.97500002),\n",
       " tensor(0.97500002),\n",
       " tensor(0.97500002),\n",
       " tensor(0.97500002),\n",
       " tensor(0.97500002)]"
      ]
     },
     "execution_count": 155,
     "metadata": {},
     "output_type": "execute_result"
    }
   ],
   "source": [
    "loss, train_acc, test_acc = mnist_fnn_model(64,64,10, nl_step=torch.nn.Tanh()).fit(\n",
    "  X_train, y_train, X_test, y_test, n=2000\n",
    ")\n",
    "test_acc[-5:]"
   ]
  },
  {
   "cell_type": "code",
   "execution_count": 156,
   "id": "e3a15744",
   "metadata": {},
   "outputs": [
    {
     "data": {
      "text/plain": [
       "[tensor(0.95833331),\n",
       " tensor(0.95833331),\n",
       " tensor(0.95833331),\n",
       " tensor(0.95833331),\n",
       " tensor(0.95833331)]"
      ]
     },
     "execution_count": 156,
     "metadata": {},
     "output_type": "execute_result"
    }
   ],
   "source": [
    "loss, train_acc, test_acc = mnist_fnn_model(64,64,10, nl_step=torch.nn.Sigmoid()).fit(\n",
    "  X_train, y_train, X_test, y_test, n=2000\n",
    ")\n",
    "test_acc[-5:]"
   ]
  },
  {
   "cell_type": "code",
   "execution_count": 159,
   "id": "3a8bf9ee",
   "metadata": {},
   "outputs": [],
   "source": [
    "class mnist_fnn2_model(torch.nn.Module):\n",
    "    def __init__(self, input_dim, hidden_dim, output_dim, nl_step = torch.nn.ReLU(), seed=1234):\n",
    "        super().__init__()\n",
    "        self.l1 = torch.nn.Linear(input_dim, hidden_dim)\n",
    "        self.nl = nl_step\n",
    "        self.l2 = torch.nn.Linear(hidden_dim, hidden_dim)\n",
    "        self.nl = nl_step\n",
    "        self.l3 = torch.nn.Linear(hidden_dim, output_dim)\n",
    "    def forward(self, X):\n",
    "        out = self.l1(X)\n",
    "        out = self.nl(out)\n",
    "        out = self.l2(out)\n",
    "        out = self.nl(out)\n",
    "        out = self.l3(out)\n",
    "        return out\n",
    "    def fit(self, X_train, y_train, X_test, y_test, lr=0.001, n=1000, acc_step=10):\n",
    "        loss_fn = torch.nn.CrossEntropyLoss()\n",
    "        opt = torch.optim.SGD(self.parameters(), lr=lr, momentum=0.9) \n",
    "        losses, train_acc, test_acc = [], [], []\n",
    "        for i in range(n):\n",
    "            opt.zero_grad()\n",
    "            loss = loss_fn(self(X_train), y_train)\n",
    "            loss.backward()\n",
    "            opt.step()\n",
    "            losses.append(loss.item())\n",
    "            if (i+1) % acc_step == 0:\n",
    "                val, train_pred = torch.max(self(X_train), dim=1)\n",
    "                val, test_pred  = torch.max(self(X_test), dim=1)\n",
    "                train_acc.append( (train_pred == y_train).sum() / len(y_train) )\n",
    "                test_acc.append( (test_pred == y_test).sum() / len(y_test) )\n",
    "        return (losses, train_acc, test_acc)"
   ]
  },
  {
   "cell_type": "code",
   "execution_count": 160,
   "id": "7b6d4aff",
   "metadata": {},
   "outputs": [
    {
     "data": {
      "text/plain": [
       "[tensor(0.97500002),\n",
       " tensor(0.97500002),\n",
       " tensor(0.97500002),\n",
       " tensor(0.97500002),\n",
       " tensor(0.97500002)]"
      ]
     },
     "execution_count": 160,
     "metadata": {},
     "output_type": "execute_result"
    }
   ],
   "source": [
    "loss, train_acc, test_acc = mnist_fnn2_model(64,64,10, nl_step=torch.nn.ReLU()).fit(\n",
    "  X_train, y_train, X_test, y_test, n=1000\n",
    ")\n",
    "test_acc[-5:]"
   ]
  },
  {
   "cell_type": "code",
   "execution_count": 161,
   "id": "e362f94c",
   "metadata": {},
   "outputs": [],
   "source": [
    "cv = torch.nn.Conv2d(\n",
    "  in_channels=1, out_channels=4, \n",
    "  kernel_size=3, \n",
    "  stride=1, padding=1\n",
    ")"
   ]
  },
  {
   "cell_type": "code",
   "execution_count": 162,
   "id": "5cf79cba",
   "metadata": {},
   "outputs": [
    {
     "data": {
      "text/plain": [
       "[Parameter containing:\n",
       " tensor([[[[-0.20593667, -0.15855038, -0.26319334],\n",
       "           [-0.08281532, -0.23942626,  0.27824023],\n",
       "           [ 0.14128628,  0.19493333, -0.32470989]]],\n",
       " \n",
       " \n",
       "         [[[ 0.21550956,  0.04503670, -0.14925973],\n",
       "           [ 0.20874473, -0.01846042, -0.16575575],\n",
       "           [-0.18709743,  0.01597503, -0.27610189]]],\n",
       " \n",
       " \n",
       "         [[[ 0.11606523, -0.23795001,  0.18888900],\n",
       "           [ 0.21450248,  0.20388642,  0.08806857],\n",
       "           [ 0.03568017, -0.10810935,  0.19239226]]],\n",
       " \n",
       " \n",
       "         [[[ 0.02328286, -0.09220922,  0.06207636],\n",
       "           [-0.29898888, -0.12314360,  0.26285538],\n",
       "           [-0.11704671, -0.17229776,  0.01505467]]]], requires_grad=True),\n",
       " Parameter containing:\n",
       " tensor([-0.18263993, -0.07917836, -0.15492229, -0.29993641],\n",
       "        requires_grad=True)]"
      ]
     },
     "execution_count": 162,
     "metadata": {},
     "output_type": "execute_result"
    }
   ],
   "source": [
    "list(cv.parameters())"
   ]
  },
  {
   "cell_type": "code",
   "execution_count": 163,
   "id": "c46c688b",
   "metadata": {},
   "outputs": [
    {
     "data": {
      "text/plain": [
       "tensor([[ 0.,  0.,  0., 10., 11.,  0.,  0.,  0.,  0.,  0.,  9., 16.,  6.,  0.,\n",
       "          0.,  0.,  0.,  0., 15., 13.,  0.,  0.,  0.,  0.,  0.,  0., 14., 10.,\n",
       "          0.,  0.,  0.,  0.,  0.,  1., 15., 12.,  8.,  2.,  0.,  0.,  0.,  0.,\n",
       "         12., 16., 16., 16., 10.,  1.,  0.,  0.,  7., 16., 12., 12., 16.,  4.,\n",
       "          0.,  0.,  0.,  9., 15., 12.,  5.,  0.]])"
      ]
     },
     "execution_count": 163,
     "metadata": {},
     "output_type": "execute_result"
    }
   ],
   "source": [
    "X_train[[0]]"
   ]
  },
  {
   "cell_type": "code",
   "execution_count": 164,
   "id": "a464dd83",
   "metadata": {},
   "outputs": [
    {
     "data": {
      "text/plain": [
       "torch.Size([1, 64])"
      ]
     },
     "execution_count": 164,
     "metadata": {},
     "output_type": "execute_result"
    }
   ],
   "source": [
    "X_train[[0]].shape"
   ]
  },
  {
   "cell_type": "code",
   "execution_count": 165,
   "id": "087b2d8d",
   "metadata": {},
   "outputs": [
    {
     "ename": "RuntimeError",
     "evalue": "Expected 3D (unbatched) or 4D (batched) input to conv2d, but got input of size: [1, 64]",
     "output_type": "error",
     "traceback": [
      "\u001b[0;31m---------------------------------------------------------------------------\u001b[0m",
      "\u001b[0;31mRuntimeError\u001b[0m                              Traceback (most recent call last)",
      "Cell \u001b[0;32mIn[165], line 1\u001b[0m\n\u001b[0;32m----> 1\u001b[0m \u001b[43mcv\u001b[49m\u001b[43m(\u001b[49m\u001b[43mX_train\u001b[49m\u001b[43m[\u001b[49m\u001b[43m[\u001b[49m\u001b[38;5;241;43m0\u001b[39;49m\u001b[43m]\u001b[49m\u001b[43m]\u001b[49m\u001b[43m)\u001b[49m\n",
      "File \u001b[0;32m~/miniforge3/envs/fmi08icds/lib/python3.11/site-packages/torch/nn/modules/module.py:1501\u001b[0m, in \u001b[0;36mModule._call_impl\u001b[0;34m(self, *args, **kwargs)\u001b[0m\n\u001b[1;32m   1496\u001b[0m \u001b[38;5;66;03m# If we don't have any hooks, we want to skip the rest of the logic in\u001b[39;00m\n\u001b[1;32m   1497\u001b[0m \u001b[38;5;66;03m# this function, and just call forward.\u001b[39;00m\n\u001b[1;32m   1498\u001b[0m \u001b[38;5;28;01mif\u001b[39;00m \u001b[38;5;129;01mnot\u001b[39;00m (\u001b[38;5;28mself\u001b[39m\u001b[38;5;241m.\u001b[39m_backward_hooks \u001b[38;5;129;01mor\u001b[39;00m \u001b[38;5;28mself\u001b[39m\u001b[38;5;241m.\u001b[39m_backward_pre_hooks \u001b[38;5;129;01mor\u001b[39;00m \u001b[38;5;28mself\u001b[39m\u001b[38;5;241m.\u001b[39m_forward_hooks \u001b[38;5;129;01mor\u001b[39;00m \u001b[38;5;28mself\u001b[39m\u001b[38;5;241m.\u001b[39m_forward_pre_hooks\n\u001b[1;32m   1499\u001b[0m         \u001b[38;5;129;01mor\u001b[39;00m _global_backward_pre_hooks \u001b[38;5;129;01mor\u001b[39;00m _global_backward_hooks\n\u001b[1;32m   1500\u001b[0m         \u001b[38;5;129;01mor\u001b[39;00m _global_forward_hooks \u001b[38;5;129;01mor\u001b[39;00m _global_forward_pre_hooks):\n\u001b[0;32m-> 1501\u001b[0m     \u001b[38;5;28;01mreturn\u001b[39;00m \u001b[43mforward_call\u001b[49m\u001b[43m(\u001b[49m\u001b[38;5;241;43m*\u001b[39;49m\u001b[43margs\u001b[49m\u001b[43m,\u001b[49m\u001b[43m \u001b[49m\u001b[38;5;241;43m*\u001b[39;49m\u001b[38;5;241;43m*\u001b[39;49m\u001b[43mkwargs\u001b[49m\u001b[43m)\u001b[49m\n\u001b[1;32m   1502\u001b[0m \u001b[38;5;66;03m# Do not call functions when jit is used\u001b[39;00m\n\u001b[1;32m   1503\u001b[0m full_backward_hooks, non_full_backward_hooks \u001b[38;5;241m=\u001b[39m [], []\n",
      "File \u001b[0;32m~/miniforge3/envs/fmi08icds/lib/python3.11/site-packages/torch/nn/modules/conv.py:463\u001b[0m, in \u001b[0;36mConv2d.forward\u001b[0;34m(self, input)\u001b[0m\n\u001b[1;32m    462\u001b[0m \u001b[38;5;28;01mdef\u001b[39;00m \u001b[38;5;21mforward\u001b[39m(\u001b[38;5;28mself\u001b[39m, \u001b[38;5;28minput\u001b[39m: Tensor) \u001b[38;5;241m-\u001b[39m\u001b[38;5;241m>\u001b[39m Tensor:\n\u001b[0;32m--> 463\u001b[0m     \u001b[38;5;28;01mreturn\u001b[39;00m \u001b[38;5;28;43mself\u001b[39;49m\u001b[38;5;241;43m.\u001b[39;49m\u001b[43m_conv_forward\u001b[49m\u001b[43m(\u001b[49m\u001b[38;5;28;43minput\u001b[39;49m\u001b[43m,\u001b[49m\u001b[43m \u001b[49m\u001b[38;5;28;43mself\u001b[39;49m\u001b[38;5;241;43m.\u001b[39;49m\u001b[43mweight\u001b[49m\u001b[43m,\u001b[49m\u001b[43m \u001b[49m\u001b[38;5;28;43mself\u001b[39;49m\u001b[38;5;241;43m.\u001b[39;49m\u001b[43mbias\u001b[49m\u001b[43m)\u001b[49m\n",
      "File \u001b[0;32m~/miniforge3/envs/fmi08icds/lib/python3.11/site-packages/torch/nn/modules/conv.py:459\u001b[0m, in \u001b[0;36mConv2d._conv_forward\u001b[0;34m(self, input, weight, bias)\u001b[0m\n\u001b[1;32m    455\u001b[0m \u001b[38;5;28;01mif\u001b[39;00m \u001b[38;5;28mself\u001b[39m\u001b[38;5;241m.\u001b[39mpadding_mode \u001b[38;5;241m!=\u001b[39m \u001b[38;5;124m'\u001b[39m\u001b[38;5;124mzeros\u001b[39m\u001b[38;5;124m'\u001b[39m:\n\u001b[1;32m    456\u001b[0m     \u001b[38;5;28;01mreturn\u001b[39;00m F\u001b[38;5;241m.\u001b[39mconv2d(F\u001b[38;5;241m.\u001b[39mpad(\u001b[38;5;28minput\u001b[39m, \u001b[38;5;28mself\u001b[39m\u001b[38;5;241m.\u001b[39m_reversed_padding_repeated_twice, mode\u001b[38;5;241m=\u001b[39m\u001b[38;5;28mself\u001b[39m\u001b[38;5;241m.\u001b[39mpadding_mode),\n\u001b[1;32m    457\u001b[0m                     weight, bias, \u001b[38;5;28mself\u001b[39m\u001b[38;5;241m.\u001b[39mstride,\n\u001b[1;32m    458\u001b[0m                     _pair(\u001b[38;5;241m0\u001b[39m), \u001b[38;5;28mself\u001b[39m\u001b[38;5;241m.\u001b[39mdilation, \u001b[38;5;28mself\u001b[39m\u001b[38;5;241m.\u001b[39mgroups)\n\u001b[0;32m--> 459\u001b[0m \u001b[38;5;28;01mreturn\u001b[39;00m \u001b[43mF\u001b[49m\u001b[38;5;241;43m.\u001b[39;49m\u001b[43mconv2d\u001b[49m\u001b[43m(\u001b[49m\u001b[38;5;28;43minput\u001b[39;49m\u001b[43m,\u001b[49m\u001b[43m \u001b[49m\u001b[43mweight\u001b[49m\u001b[43m,\u001b[49m\u001b[43m \u001b[49m\u001b[43mbias\u001b[49m\u001b[43m,\u001b[49m\u001b[43m \u001b[49m\u001b[38;5;28;43mself\u001b[39;49m\u001b[38;5;241;43m.\u001b[39;49m\u001b[43mstride\u001b[49m\u001b[43m,\u001b[49m\n\u001b[1;32m    460\u001b[0m \u001b[43m                \u001b[49m\u001b[38;5;28;43mself\u001b[39;49m\u001b[38;5;241;43m.\u001b[39;49m\u001b[43mpadding\u001b[49m\u001b[43m,\u001b[49m\u001b[43m \u001b[49m\u001b[38;5;28;43mself\u001b[39;49m\u001b[38;5;241;43m.\u001b[39;49m\u001b[43mdilation\u001b[49m\u001b[43m,\u001b[49m\u001b[43m \u001b[49m\u001b[38;5;28;43mself\u001b[39;49m\u001b[38;5;241;43m.\u001b[39;49m\u001b[43mgroups\u001b[49m\u001b[43m)\u001b[49m\n",
      "\u001b[0;31mRuntimeError\u001b[0m: Expected 3D (unbatched) or 4D (batched) input to conv2d, but got input of size: [1, 64]"
     ]
    }
   ],
   "source": [
    "cv(X_train[[0]])"
   ]
  },
  {
   "cell_type": "code",
   "execution_count": 166,
   "id": "827a64aa",
   "metadata": {},
   "outputs": [
    {
     "data": {
      "text/plain": [
       "tensor([[[ -0.18263993,  -3.10502887,  -0.84119594,   2.92599034,  -0.21430150,\n",
       "           -0.24589077,  -0.18263993,  -0.18263993],\n",
       "         [ -0.18263993,  -2.54912615,  -1.81479490,  -2.91655970,  -4.91094160,\n",
       "           -2.94483519,  -0.18263993,  -0.18263993],\n",
       "         [ -0.18263993,  -2.92371488,  -6.31299019,  -6.57946587,  -4.09266567,\n",
       "           -1.41825998,  -0.18263993,  -0.18263993],\n",
       "         [ -0.50734985,  -4.91089201,  -7.38320732,  -7.02570724,  -1.08248758,\n",
       "            1.33751690,   0.09993264,  -0.18263993],\n",
       "         [  0.09560031,  -3.82968783,  -8.22576332,  -6.92167044,  -4.41056490,\n",
       "            0.80839980,   3.53693366,   1.42515612],\n",
       "         [ -0.44583327,  -3.22317672,  -8.17724895,  -7.44118309,  -4.44942951,\n",
       "           -5.68141985,  -0.52005136,   1.79009438],\n",
       "         [ -0.18263993,  -1.39327824,  -6.44286728, -13.58967209, -10.78574657,\n",
       "           -5.22647715,  -6.36786461,  -3.97687554],\n",
       "         [ -0.18263993,  -2.02499318,  -2.99942398,  -5.30055571,  -9.53639984,\n",
       "          -11.49172211,  -8.43437481,  -4.52590513]],\n",
       "\n",
       "        [[ -0.07917836,  -2.56409526,  -6.01059103,  -5.17198372,  -1.09250426,\n",
       "            1.09442925,  -0.07917836,  -0.07917836],\n",
       "         [ -0.07917836,  -5.71250820,  -7.73971033,  -3.28065300,   3.36820745,\n",
       "            3.54389524,  -0.07917836,  -0.07917836],\n",
       "         [ -0.07917836,  -7.77427864,  -7.03110313,   2.11700869,   4.48190260,\n",
       "            1.21387911,  -0.07917836,  -0.07917836],\n",
       "         [ -0.35528025,  -8.76420879,  -6.52070189,   1.65318823,   2.14032030,\n",
       "           -1.54400778,  -0.45337322,  -0.07917836],\n",
       "         [ -0.24493411,  -7.98683405,  -7.22442198,  -1.43527651,  -3.05392933,\n",
       "           -3.94511843,  -2.77159929,  -1.93417764],\n",
       "         [ -0.22843809,  -6.19481945,  -8.15865803,  -2.30999899,  -3.15391350,\n",
       "           -3.34913588,   0.24742028,  -0.93985021],\n",
       "         [ -0.07917836,  -3.03058529,  -7.19312572,  -3.98160768,  -1.92674601,\n",
       "           -1.76698613,   3.05133510,   4.45154095],\n",
       "         [ -0.07917836,  -1.12399650,  -3.64387894,  -2.29362106,   1.73102593,\n",
       "            2.74008846,   5.04311943,   4.59284496]],\n",
       "\n",
       "        [[ -0.15492229,   1.57660806,   2.83105540,   2.59842181,   4.15507984,\n",
       "            2.41868615,  -0.15492229,  -0.15492229],\n",
       "         [ -0.15492229,   3.52357888,   5.85750198,   4.39425325,   3.50748038,\n",
       "            2.40881014,  -0.15492229,  -0.15492229],\n",
       "         [ -0.15492229,   5.55959892,   5.33933067,   3.50228834,   3.41975546,\n",
       "            0.54146910,  -0.15492229,  -0.15492229],\n",
       "         [  0.03746997,   6.68914700,   3.18922710,   4.31163311,   3.44702244,\n",
       "           -0.08569960,  -0.08356194,  -0.15492229],\n",
       "         [ -0.06685372,   6.32314587,   4.51325274,   7.23590183,   7.30639696,\n",
       "            2.73392606,  -0.04373582,   0.09377010],\n",
       "         [  0.03396671,   4.84403133,   4.83580542,   8.31579590,   9.39763451,\n",
       "           10.08173370,   5.10416174,   2.33243442],\n",
       "         [ -0.15492229,   2.72822571,   4.57973385,   8.18630695,   8.86083317,\n",
       "            6.41342640,   5.58761215,   5.19376612],\n",
       "         [ -0.15492229,   1.16730070,   1.99426866,   2.27300858,   7.15903044,\n",
       "            7.50920153,   1.77967834,   1.82283390]],\n",
       "\n",
       "        [[ -0.29993641,  -0.16444436,   1.01881242,  -2.35981989,  -7.55093861,\n",
       "           -4.29109430,  -0.29993641,  -0.29993641],\n",
       "         [ -0.29993641,   2.29158211,   1.02946520,  -7.61882544,  -8.12570000,\n",
       "           -1.83775830,  -0.29993641,  -0.29993641],\n",
       "         [ -0.29993641,   4.41234684,  -0.82825357, -10.64061165,  -5.53798866,\n",
       "           -0.16023928,  -0.29993641,  -0.29993641],\n",
       "         [ -0.28488174,   4.36470652,  -2.49239588, -10.26953030,  -5.73998117,\n",
       "           -1.58090568,  -0.53402984,  -0.29993641],\n",
       "         [ -0.03708103,   4.56947565,  -1.78867853,  -8.67623138,  -8.50304985,\n",
       "           -7.41709948,  -4.47858429,  -1.64270127],\n",
       "         [ -0.23786005,   3.79864740,   0.84787786,  -5.30850649,  -6.94216108,\n",
       "           -7.65491676, -10.10687923,  -5.97490692],\n",
       "         [ -0.29993641,   2.28496742,   3.06594753,  -2.73648262,  -6.97404814,\n",
       "           -5.38989830,  -7.56021833,  -6.02094698],\n",
       "         [ -0.29993641,   0.13459811,   2.41351938,   1.96715081,  -1.67279434,\n",
       "           -4.78211069,  -5.45116854,  -1.79119194]]],\n",
       "       grad_fn=<SqueezeBackward1>)"
      ]
     },
     "execution_count": 166,
     "metadata": {},
     "output_type": "execute_result"
    }
   ],
   "source": [
    "cv(X_train[[0]].view(1,8,8))"
   ]
  },
  {
   "cell_type": "code",
   "execution_count": 167,
   "id": "3bf4aa18",
   "metadata": {},
   "outputs": [
    {
     "data": {
      "text/plain": [
       "torch.Size([1, 4, 4])"
      ]
     },
     "execution_count": 167,
     "metadata": {},
     "output_type": "execute_result"
    }
   ],
   "source": [
    "x = torch.tensor(\n",
    "  [[[0,0,0,0],\n",
    "    [0,1,2,0],\n",
    "    [0,3,4,0],\n",
    "    [0,0,0,0]]],\n",
    "  dtype=torch.float\n",
    ")\n",
    "x.shape"
   ]
  },
  {
   "cell_type": "code",
   "execution_count": 168,
   "id": "d70c1c70",
   "metadata": {},
   "outputs": [
    {
     "data": {
      "text/plain": [
       "tensor([[[1., 2., 2.],\n",
       "         [3., 4., 4.],\n",
       "         [3., 4., 4.]]])"
      ]
     },
     "execution_count": 168,
     "metadata": {},
     "output_type": "execute_result"
    }
   ],
   "source": [
    "p = torch.nn.MaxPool2d(kernel_size=2, stride=1)\n",
    "p(x)"
   ]
  },
  {
   "cell_type": "code",
   "execution_count": 169,
   "id": "6570c0d8",
   "metadata": {},
   "outputs": [
    {
     "data": {
      "text/plain": [
       "tensor([[[1., 2., 2., 2.],\n",
       "         [3., 4., 4., 4.],\n",
       "         [3., 4., 4., 4.],\n",
       "         [3., 4., 4., 4.]]])"
      ]
     },
     "execution_count": 169,
     "metadata": {},
     "output_type": "execute_result"
    }
   ],
   "source": [
    "p = torch.nn.MaxPool2d(kernel_size=3, stride=1, padding=1)\n",
    "p(x)"
   ]
  },
  {
   "cell_type": "code",
   "execution_count": 170,
   "id": "472921fb",
   "metadata": {},
   "outputs": [
    {
     "data": {
      "text/plain": [
       "tensor([[[0.00000000, 0.00000000, 0.00000000],\n",
       "         [0.00000000, 2.50000000, 0.00000000],\n",
       "         [0.00000000, 0.00000000, 0.00000000]]])"
      ]
     },
     "execution_count": 170,
     "metadata": {},
     "output_type": "execute_result"
    }
   ],
   "source": [
    "p = torch.nn.AvgPool2d(kernel_size=2, padding=1)\n",
    "p(x)"
   ]
  },
  {
   "cell_type": "code",
   "execution_count": 171,
   "id": "0b5110ec",
   "metadata": {},
   "outputs": [
    {
     "data": {
      "text/plain": [
       "tensor([[[0.25000000, 0.50000000],\n",
       "         [0.75000000, 1.00000000]]])"
      ]
     },
     "execution_count": 171,
     "metadata": {},
     "output_type": "execute_result"
    }
   ],
   "source": [
    "p = torch.nn.AvgPool2d(kernel_size=2)\n",
    "p(x)"
   ]
  },
  {
   "cell_type": "markdown",
   "id": "ca33ff24",
   "metadata": {},
   "source": [
    "## Convolutional model"
   ]
  },
  {
   "cell_type": "code",
   "execution_count": 173,
   "id": "4e4e7b9f",
   "metadata": {},
   "outputs": [],
   "source": [
    "class mnist_conv_model(torch.nn.Module):\n",
    "    def __init__(self):\n",
    "        super().__init__()\n",
    "        self.cnn  = torch.nn.Conv2d(\n",
    "          in_channels=1, out_channels=8,\n",
    "          kernel_size=3, stride=1, padding=1\n",
    "        )\n",
    "        self.relu = torch.nn.ReLU()\n",
    "        self.pool = torch.nn.MaxPool2d(kernel_size=2)\n",
    "        self.lin  = torch.nn.Linear(8 * 4 * 4, 10)\n",
    "    def forward(self, X):\n",
    "        out = self.cnn(X.view(-1, 1, 8, 8))\n",
    "        out = self.relu(out)\n",
    "        out = self.pool(out)\n",
    "        out = self.lin(out.view(-1, 8 * 4 * 4))\n",
    "        return out\n",
    "    def fit(self, X_train, y_train, X_test, y_test, lr=0.001, n=1000, acc_step=10):\n",
    "        opt = torch.optim.SGD(self.parameters(), lr=lr, momentum=0.9) \n",
    "        losses, train_acc, test_acc = [], [], []\n",
    "        for i in range(n):\n",
    "            opt.zero_grad()\n",
    "            loss = torch.nn.CrossEntropyLoss()(self(X_train), y_train)\n",
    "            loss.backward()\n",
    "            opt.step()\n",
    "            losses.append(loss.item())\n",
    "            if (i+1) % acc_step == 0:\n",
    "                val, train_pred = torch.max(self(X_train), dim=1)\n",
    "                val, test_pred  = torch.max(self(X_test), dim=1)\n",
    "                train_acc.append( (train_pred == y_train).sum() / len(y_train) )\n",
    "                test_acc.append( (test_pred == y_test).sum() / len(y_test) )\n",
    "        return (losses, train_acc, test_acc)"
   ]
  },
  {
   "cell_type": "code",
   "execution_count": 174,
   "id": "01960933",
   "metadata": {},
   "outputs": [
    {
     "data": {
      "text/plain": [
       "[tensor(0.96944445),\n",
       " tensor(0.97222221),\n",
       " tensor(0.97222221),\n",
       " tensor(0.97222221),\n",
       " tensor(0.97222221)]"
      ]
     },
     "execution_count": 174,
     "metadata": {},
     "output_type": "execute_result"
    }
   ],
   "source": [
    "loss, train_acc, test_acc = mnist_conv_model().fit(\n",
    "  X_train, y_train, X_test, y_test, n=1000\n",
    ")\n",
    "test_acc[-5:]"
   ]
  },
  {
   "cell_type": "code",
   "execution_count": null,
   "id": "b5adae17",
   "metadata": {},
   "outputs": [],
   "source": []
  }
 ],
 "metadata": {
  "kernelspec": {
   "display_name": "Python3.11 (fmi08icds)",
   "language": "python",
   "name": "fmi08icds"
  },
  "language_info": {
   "codemirror_mode": {
    "name": "ipython",
    "version": 3
   },
   "file_extension": ".py",
   "mimetype": "text/x-python",
   "name": "python",
   "nbconvert_exporter": "python",
   "pygments_lexer": "ipython3",
   "version": "3.11.3"
  }
 },
 "nbformat": 4,
 "nbformat_minor": 5
}
